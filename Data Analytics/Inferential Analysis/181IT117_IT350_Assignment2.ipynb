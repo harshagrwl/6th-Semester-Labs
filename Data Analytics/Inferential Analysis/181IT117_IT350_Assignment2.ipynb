{
 "cells": [
  {
   "cell_type": "markdown",
   "metadata": {},
   "source": [
    "# IT350 Data Analytics Assignment 2\n",
    "\n",
    "## Harsh Agarwal (181IT117)"
   ]
  },
  {
   "cell_type": "markdown",
   "metadata": {},
   "source": [
    "## Hypothesis Testing of Wine Quality Dataset\n",
    "### 8th Feb 2021"
   ]
  },
  {
   "cell_type": "markdown",
   "metadata": {},
   "source": [
    "### About the dataset\n",
    "\n",
    "The dataset is taken from the UCIML Respository (https://archive.ics.uci.edu/ml/datasets/wine+quality). The goal of the dataset is to model wine quality based on physicochemical tests. The wines are rated in a range of 0-10 based on their quality.\n",
    "\n",
    "The dataset contains total 11 attributes out of which 10 are input variables and 1 is the output variable."
   ]
  },
  {
   "cell_type": "markdown",
   "metadata": {},
   "source": [
    "Input variables (based on physicochemical tests):  \n",
    "1 - fixed acidity  \n",
    "2 - volatile acidity  \n",
    "3 - citric acid  \n",
    "4 - residual sugar  \n",
    "5 - chlorides  \n",
    "6 - free sulfur dioxide  \n",
    "7 - total sulfur dioxide  \n",
    "8 - density  \n",
    "9 - pH  \n",
    "10 - sulphates  \n",
    "11 - alcohol  \n",
    "\n",
    "Output variable (based on sensory data):  \n",
    "12 - quality (score between 0 and 10)  \n",
    "\n",
    "Following is the citation of dataset:  \n",
    "  P. Cortez, A. Cerdeira, F. Almeida, T. Matos and J. Reis.  \n",
    "  Modeling wine preferences by data mining from physicochemical properties.  \n",
    "  In Decision Support Systems, Elsevier, 47(4):547-553. ISSN: 0167-9236.  \n",
    "\n",
    "  Available at: [@Elsevier] http://dx.doi.org/10.1016/j.dss.2009.05.016  \n",
    "                [Pre-press (pdf)] http://www3.dsi.uminho.pt/pcortez/winequality09.pdf  \n",
    "                [bib] http://www3.dsi.uminho.pt/pcortez/dss09.bib  \n"
   ]
  },
  {
   "cell_type": "code",
   "execution_count": 18,
   "metadata": {},
   "outputs": [],
   "source": [
    "# Importing the libraries\n",
    "import pandas as pd\n",
    "import matplotlib.pyplot as plt\n",
    "import numpy as np\n",
    "import scipy.stats as stats\n",
    "from statsmodels.stats import weightstats as stests"
   ]
  },
  {
   "cell_type": "code",
   "execution_count": 72,
   "metadata": {},
   "outputs": [],
   "source": [
    "# Importing the Dataset\n",
    "# Source: https://archive.ics.uci.edu/ml/datasets/wine+quality\n",
    "data = pd.read_csv(\"winequality-white.csv\", delimiter=\";\")"
   ]
  },
  {
   "cell_type": "code",
   "execution_count": 73,
   "metadata": {},
   "outputs": [
    {
     "data": {
      "text/html": [
       "<div>\n",
       "<style scoped>\n",
       "    .dataframe tbody tr th:only-of-type {\n",
       "        vertical-align: middle;\n",
       "    }\n",
       "\n",
       "    .dataframe tbody tr th {\n",
       "        vertical-align: top;\n",
       "    }\n",
       "\n",
       "    .dataframe thead th {\n",
       "        text-align: right;\n",
       "    }\n",
       "</style>\n",
       "<table border=\"1\" class=\"dataframe\">\n",
       "  <thead>\n",
       "    <tr style=\"text-align: right;\">\n",
       "      <th></th>\n",
       "      <th>fixed acidity</th>\n",
       "      <th>volatile acidity</th>\n",
       "      <th>citric acid</th>\n",
       "      <th>residual sugar</th>\n",
       "      <th>chlorides</th>\n",
       "      <th>free sulfur dioxide</th>\n",
       "      <th>total sulfur dioxide</th>\n",
       "      <th>density</th>\n",
       "      <th>pH</th>\n",
       "      <th>sulphates</th>\n",
       "      <th>alcohol</th>\n",
       "      <th>quality</th>\n",
       "    </tr>\n",
       "  </thead>\n",
       "  <tbody>\n",
       "    <tr>\n",
       "      <th>0</th>\n",
       "      <td>7.0</td>\n",
       "      <td>0.27</td>\n",
       "      <td>0.36</td>\n",
       "      <td>20.7</td>\n",
       "      <td>0.045</td>\n",
       "      <td>45.0</td>\n",
       "      <td>170.0</td>\n",
       "      <td>1.00100</td>\n",
       "      <td>3.00</td>\n",
       "      <td>0.45</td>\n",
       "      <td>8.8</td>\n",
       "      <td>6</td>\n",
       "    </tr>\n",
       "    <tr>\n",
       "      <th>1</th>\n",
       "      <td>6.3</td>\n",
       "      <td>0.30</td>\n",
       "      <td>0.34</td>\n",
       "      <td>1.6</td>\n",
       "      <td>0.049</td>\n",
       "      <td>14.0</td>\n",
       "      <td>132.0</td>\n",
       "      <td>0.99400</td>\n",
       "      <td>3.30</td>\n",
       "      <td>0.49</td>\n",
       "      <td>9.5</td>\n",
       "      <td>6</td>\n",
       "    </tr>\n",
       "    <tr>\n",
       "      <th>2</th>\n",
       "      <td>8.1</td>\n",
       "      <td>0.28</td>\n",
       "      <td>0.40</td>\n",
       "      <td>6.9</td>\n",
       "      <td>0.050</td>\n",
       "      <td>30.0</td>\n",
       "      <td>97.0</td>\n",
       "      <td>0.99510</td>\n",
       "      <td>3.26</td>\n",
       "      <td>0.44</td>\n",
       "      <td>10.1</td>\n",
       "      <td>6</td>\n",
       "    </tr>\n",
       "    <tr>\n",
       "      <th>3</th>\n",
       "      <td>7.2</td>\n",
       "      <td>0.23</td>\n",
       "      <td>0.32</td>\n",
       "      <td>8.5</td>\n",
       "      <td>0.058</td>\n",
       "      <td>47.0</td>\n",
       "      <td>186.0</td>\n",
       "      <td>0.99560</td>\n",
       "      <td>3.19</td>\n",
       "      <td>0.40</td>\n",
       "      <td>9.9</td>\n",
       "      <td>6</td>\n",
       "    </tr>\n",
       "    <tr>\n",
       "      <th>4</th>\n",
       "      <td>7.2</td>\n",
       "      <td>0.23</td>\n",
       "      <td>0.32</td>\n",
       "      <td>8.5</td>\n",
       "      <td>0.058</td>\n",
       "      <td>47.0</td>\n",
       "      <td>186.0</td>\n",
       "      <td>0.99560</td>\n",
       "      <td>3.19</td>\n",
       "      <td>0.40</td>\n",
       "      <td>9.9</td>\n",
       "      <td>6</td>\n",
       "    </tr>\n",
       "    <tr>\n",
       "      <th>...</th>\n",
       "      <td>...</td>\n",
       "      <td>...</td>\n",
       "      <td>...</td>\n",
       "      <td>...</td>\n",
       "      <td>...</td>\n",
       "      <td>...</td>\n",
       "      <td>...</td>\n",
       "      <td>...</td>\n",
       "      <td>...</td>\n",
       "      <td>...</td>\n",
       "      <td>...</td>\n",
       "      <td>...</td>\n",
       "    </tr>\n",
       "    <tr>\n",
       "      <th>4893</th>\n",
       "      <td>6.2</td>\n",
       "      <td>0.21</td>\n",
       "      <td>0.29</td>\n",
       "      <td>1.6</td>\n",
       "      <td>0.039</td>\n",
       "      <td>24.0</td>\n",
       "      <td>92.0</td>\n",
       "      <td>0.99114</td>\n",
       "      <td>3.27</td>\n",
       "      <td>0.50</td>\n",
       "      <td>11.2</td>\n",
       "      <td>6</td>\n",
       "    </tr>\n",
       "    <tr>\n",
       "      <th>4894</th>\n",
       "      <td>6.6</td>\n",
       "      <td>0.32</td>\n",
       "      <td>0.36</td>\n",
       "      <td>8.0</td>\n",
       "      <td>0.047</td>\n",
       "      <td>57.0</td>\n",
       "      <td>168.0</td>\n",
       "      <td>0.99490</td>\n",
       "      <td>3.15</td>\n",
       "      <td>0.46</td>\n",
       "      <td>9.6</td>\n",
       "      <td>5</td>\n",
       "    </tr>\n",
       "    <tr>\n",
       "      <th>4895</th>\n",
       "      <td>6.5</td>\n",
       "      <td>0.24</td>\n",
       "      <td>0.19</td>\n",
       "      <td>1.2</td>\n",
       "      <td>0.041</td>\n",
       "      <td>30.0</td>\n",
       "      <td>111.0</td>\n",
       "      <td>0.99254</td>\n",
       "      <td>2.99</td>\n",
       "      <td>0.46</td>\n",
       "      <td>9.4</td>\n",
       "      <td>6</td>\n",
       "    </tr>\n",
       "    <tr>\n",
       "      <th>4896</th>\n",
       "      <td>5.5</td>\n",
       "      <td>0.29</td>\n",
       "      <td>0.30</td>\n",
       "      <td>1.1</td>\n",
       "      <td>0.022</td>\n",
       "      <td>20.0</td>\n",
       "      <td>110.0</td>\n",
       "      <td>0.98869</td>\n",
       "      <td>3.34</td>\n",
       "      <td>0.38</td>\n",
       "      <td>12.8</td>\n",
       "      <td>7</td>\n",
       "    </tr>\n",
       "    <tr>\n",
       "      <th>4897</th>\n",
       "      <td>6.0</td>\n",
       "      <td>0.21</td>\n",
       "      <td>0.38</td>\n",
       "      <td>0.8</td>\n",
       "      <td>0.020</td>\n",
       "      <td>22.0</td>\n",
       "      <td>98.0</td>\n",
       "      <td>0.98941</td>\n",
       "      <td>3.26</td>\n",
       "      <td>0.32</td>\n",
       "      <td>11.8</td>\n",
       "      <td>6</td>\n",
       "    </tr>\n",
       "  </tbody>\n",
       "</table>\n",
       "<p>4898 rows × 12 columns</p>\n",
       "</div>"
      ],
      "text/plain": [
       "      fixed acidity  volatile acidity  citric acid  residual sugar  chlorides  \\\n",
       "0               7.0              0.27         0.36            20.7      0.045   \n",
       "1               6.3              0.30         0.34             1.6      0.049   \n",
       "2               8.1              0.28         0.40             6.9      0.050   \n",
       "3               7.2              0.23         0.32             8.5      0.058   \n",
       "4               7.2              0.23         0.32             8.5      0.058   \n",
       "...             ...               ...          ...             ...        ...   \n",
       "4893            6.2              0.21         0.29             1.6      0.039   \n",
       "4894            6.6              0.32         0.36             8.0      0.047   \n",
       "4895            6.5              0.24         0.19             1.2      0.041   \n",
       "4896            5.5              0.29         0.30             1.1      0.022   \n",
       "4897            6.0              0.21         0.38             0.8      0.020   \n",
       "\n",
       "      free sulfur dioxide  total sulfur dioxide  density    pH  sulphates  \\\n",
       "0                    45.0                 170.0  1.00100  3.00       0.45   \n",
       "1                    14.0                 132.0  0.99400  3.30       0.49   \n",
       "2                    30.0                  97.0  0.99510  3.26       0.44   \n",
       "3                    47.0                 186.0  0.99560  3.19       0.40   \n",
       "4                    47.0                 186.0  0.99560  3.19       0.40   \n",
       "...                   ...                   ...      ...   ...        ...   \n",
       "4893                 24.0                  92.0  0.99114  3.27       0.50   \n",
       "4894                 57.0                 168.0  0.99490  3.15       0.46   \n",
       "4895                 30.0                 111.0  0.99254  2.99       0.46   \n",
       "4896                 20.0                 110.0  0.98869  3.34       0.38   \n",
       "4897                 22.0                  98.0  0.98941  3.26       0.32   \n",
       "\n",
       "      alcohol  quality  \n",
       "0         8.8        6  \n",
       "1         9.5        6  \n",
       "2        10.1        6  \n",
       "3         9.9        6  \n",
       "4         9.9        6  \n",
       "...       ...      ...  \n",
       "4893     11.2        6  \n",
       "4894      9.6        5  \n",
       "4895      9.4        6  \n",
       "4896     12.8        7  \n",
       "4897     11.8        6  \n",
       "\n",
       "[4898 rows x 12 columns]"
      ]
     },
     "execution_count": 73,
     "metadata": {},
     "output_type": "execute_result"
    }
   ],
   "source": [
    "data.head(len(data))"
   ]
  },
  {
   "cell_type": "markdown",
   "metadata": {},
   "source": [
    "##### Observations:  \n",
    "\n",
    "We observe that the dataset has a total of 4897 instances and a total of 12 attributes. The dataset is complete and has no missing values. The last column <b>quality</b> is the class label of a row nad rest all columns are independent of each other.\n",
    "\n",
    "All the input variable attributes are <b>floating point numbers</b> and the class label is an <b>integer</b>. "
   ]
  },
  {
   "cell_type": "code",
   "execution_count": 74,
   "metadata": {},
   "outputs": [],
   "source": [
    "# Categorizing data into numerical data and the result data\n",
    "num_data = data.columns[:-1]\n",
    "class_label = [\"quality\"]"
   ]
  },
  {
   "cell_type": "markdown",
   "metadata": {},
   "source": [
    "### Frequency Distribution of of class labels"
   ]
  },
  {
   "cell_type": "code",
   "execution_count": 75,
   "metadata": {},
   "outputs": [
    {
     "name": "stdout",
     "output_type": "stream",
     "text": [
      "Attribute: quality\n",
      "6 : 2198\n",
      "5 : 1457\n",
      "7 : 880\n",
      "8 : 175\n",
      "4 : 163\n",
      "3 : 20\n",
      "9 : 5\n",
      "\n"
     ]
    },
    {
     "data": {
      "image/png": "[encoded data removed]",
      "text/plain": [
       "<Figure size 432x288 with 1 Axes>"
      ]
     },
     "metadata": {
      "needs_background": "light"
     },
     "output_type": "display_data"
    }
   ],
   "source": [
    "# Frequency Distribution of Quality\n",
    "\n",
    "attribute = \"quality\"\n",
    "freq_dist = dict.fromkeys(data[attribute].unique(), 0)\n",
    "for a in range(len(data[attribute])):\n",
    "    freq_dist[data[attribute][a]] += 1\n",
    "    \n",
    "print(\"Attribute:\", attribute)\n",
    "for val in data[attribute].unique():\n",
    "    print(val, \":\", freq_dist[val])\n",
    "print()\n",
    "\n",
    "x = sorted(data[attribute].unique())\n",
    "y = [freq_dist[val] for val in x]\n",
    "plt.plot(x, y)\n",
    "plt.ylabel(\"Frequency\")\n",
    "plt.xlabel(attribute)\n",
    "plt.show()"
   ]
  },
  {
   "cell_type": "markdown",
   "metadata": {},
   "source": [
    "##### Observations:  \n",
    "\n",
    "As we can visulaize from the graphs, the data is distributed only among the classes <b>3 to 9</b>. Out of which majority of the data is distributed among the middle quality classes of <b>5 to 7</b>. Therefore the data is <b>not uniformly distributed</b>."
   ]
  },
  {
   "cell_type": "markdown",
   "metadata": {},
   "source": [
    "### Frequency Distribution of Attributes"
   ]
  },
  {
   "cell_type": "code",
   "execution_count": 77,
   "metadata": {},
   "outputs": [
    {
     "data": {
      "image/png": "[encoded data removed]",
      "text/plain": [
       "<Figure size 1080x576 with 1 Axes>"
      ]
     },
     "metadata": {
      "needs_background": "light"
     },
     "output_type": "display_data"
    }
   ],
   "source": [
    "# Graphical frequency distribution of Numerical Attributes \n",
    "f = plt.figure() \n",
    "f.set_figwidth(15) \n",
    "f.set_figheight(8)\n",
    "for a in range(len(num_data)):\n",
    "    plt.plot(len(data[num_data[a]]) * [a], data[num_data[a]], \".\")\n",
    "    \n",
    "plt.ylabel(\"Values\")\n",
    "plt.xlabel(\"Attributes\")\n",
    "plt.xticks([a for a in range(len(num_data))], num_data)\n",
    "plt.show()"
   ]
  },
  {
   "cell_type": "markdown",
   "metadata": {},
   "source": [
    "##### Observations:  \n",
    "\n",
    "The values of Total and free Sulphur Dioxide are spread over a large range wheareas all other values are spread over in relatively smaller ranges."
   ]
  },
  {
   "cell_type": "markdown",
   "metadata": {},
   "source": [
    "## Z - Tests"
   ]
  },
  {
   "cell_type": "markdown",
   "metadata": {},
   "source": [
    "### Right Tailed Z - Test"
   ]
  },
  {
   "cell_type": "markdown",
   "metadata": {},
   "source": [
    "Claim : Alcohol content of wine with quality = 8 is above average  \n",
    "Null Hypothesis:H0 = mean of the sample is equal to mean of population  \n",
    "Alternative Hypothesis:H1 = Mean of sample is greater than mean of population"
   ]
  },
  {
   "cell_type": "code",
   "execution_count": 70,
   "metadata": {},
   "outputs": [
    {
     "name": "stdout",
     "output_type": "stream",
     "text": [
      "Z-statistic is :11.59181968457038\n",
      "P-value is :4.533963908245483e-31\n",
      "Reject the null hypothesis\n"
     ]
    }
   ],
   "source": [
    "from statsmodels.stats.weightstats import ztest\n",
    "\n",
    "z_statistic, p_value = ztest(x1 = data[data['quality'] == 8]['alcohol'],\n",
    "                             value = data['alcohol'].mean())\n",
    "\n",
    "# print the Results\n",
    "print('Z-statistic is :{}'.format(z_statistic))\n",
    "print('P-value is :{}'.format(p_value))\n",
    "\n",
    "if p_value<0.05:\n",
    "    print(\"Reject the null hypothesis\")\n",
    "else:\n",
    "    print(\"Accept the null hypothesis\")"
   ]
  },
  {
   "cell_type": "markdown",
   "metadata": {},
   "source": [
    "### Left Tailed Z - Test"
   ]
  },
  {
   "cell_type": "markdown",
   "metadata": {},
   "source": [
    "Claim : The pH level of wine woth quality = 5 is below average  \n",
    "Null Hypothesis:H0 = mean of the sample is equal to mean of population  \n",
    "Alternative Hypothesis:H1 = Mean of sample is less than mean of population"
   ]
  },
  {
   "cell_type": "code",
   "execution_count": 29,
   "metadata": {},
   "outputs": [
    {
     "name": "stdout",
     "output_type": "stream",
     "text": [
      "Z-statistic is :-5.264802887143946\n",
      "P-value is :0.00000014033984829670905296713145568587854938868986\n",
      "Reject the null hypothesis\n"
     ]
    }
   ],
   "source": [
    "z_statistic, p_value = ztest(x1 = data[data['quality'] == 5]['pH'],\n",
    "                             value = data['pH'].mean())\n",
    "\n",
    "# print the Results\n",
    "print('Z-statistic is :{}'.format(z_statistic))\n",
    "print('P-value is :{:.50f}'.format(p_value))\n",
    "\n",
    "if p_value<0.05:\n",
    "    print(\"Reject the null hypothesis\")\n",
    "else:\n",
    "    print(\"Accept the null hypothesis\")"
   ]
  },
  {
   "cell_type": "markdown",
   "metadata": {},
   "source": [
    "### Two-tailed Z - Test"
   ]
  },
  {
   "cell_type": "markdown",
   "metadata": {},
   "source": [
    "Claim : Total suphur dioxide value of wine with quality 8 differes from the overall average    \n",
    "Null Hypothesis:H0 = mean of the sample is equal to mean of population    \n",
    "Alternative Hypothesis:H1 = Mean of sample is not eqaul to the mean of population  \n",
    "\n",
    "NOTE: Here the significance value is taken as 0.01 because of the fact that the values of total sulphur dioxide are spread out in a large interval. Also this is a two tailed interval so a more strict interval is used."
   ]
  },
  {
   "cell_type": "code",
   "execution_count": 31,
   "metadata": {},
   "outputs": [
    {
     "name": "stdout",
     "output_type": "stream",
     "text": [
      "Z-statistic is :-4.887666594224021\n",
      "P-value is :0.00000102038141004196848579373482768239966844703304\n",
      "Reject the null hypothesis\n"
     ]
    }
   ],
   "source": [
    "z_statistic, p_value = ztest(x1 = data[data['quality'] == 8]['total sulfur dioxide'],\n",
    "                             value = data['total sulfur dioxide'].mean())\n",
    "\n",
    "# print the Results\n",
    "print('Z-statistic is :{}'.format(z_statistic))\n",
    "print('P-value is :{:.50f}'.format(p_value))\n",
    "\n",
    "if p_value<0.01:\n",
    "    print(\"Reject the null hypothesis\")\n",
    "else:\n",
    "    print(\"Accept the null hypothesis\")"
   ]
  },
  {
   "cell_type": "markdown",
   "metadata": {},
   "source": [
    "## T - Tests"
   ]
  },
  {
   "cell_type": "markdown",
   "metadata": {},
   "source": [
    "### One - Sample T - Test"
   ]
  },
  {
   "cell_type": "markdown",
   "metadata": {},
   "source": [
    "Claim : The mean of the residual sugar value for wine with quality 4 is different from mean of all residual sugar values.     \n",
    "Null Hypothesis:H0 = The mean of the residual sugar value for wine with quality 4 is same as mean of all residual sugar values.  \n",
    "Alternative Hypothesis:H1 = H0 = The mean of the residual sugar value for wine with quality 4 is different from mean of all residual sugar values.\n",
    "\n",
    "NOTE: The sample size is taken only as the wines with quality 4 because T - test is performed on a small sample size"
   ]
  },
  {
   "cell_type": "code",
   "execution_count": 68,
   "metadata": {},
   "outputs": [
    {
     "name": "stdout",
     "output_type": "stream",
     "text": [
      "T-statistic is :-5.40659509978101\n",
      "P-value is :0.00000022656660879241258410243483635559957889427096\n",
      "Reject the null hypothesis\n"
     ]
    }
   ],
   "source": [
    "import scipy.stats as stats\n",
    "\n",
    "t_statistic, p_value = stats.ttest_1samp(a= data[data['quality'] == 4]['residual sugar'],\n",
    "                 popmean= data['residual sugar'].mean()) \n",
    "\n",
    "print('T-statistic is :{}'.format(t_statistic))\n",
    "print('P-value is :{:.50f}'.format(p_value))\n",
    "\n",
    "if p_value<0.05:\n",
    "    print(\"Reject the null hypothesis\")\n",
    "else:\n",
    "    print(\"Accept the null hypothesis\")"
   ]
  },
  {
   "cell_type": "markdown",
   "metadata": {},
   "source": [
    "## F- Tests"
   ]
  },
  {
   "cell_type": "markdown",
   "metadata": {},
   "source": [
    "### ANOVA Test"
   ]
  },
  {
   "cell_type": "markdown",
   "metadata": {},
   "source": [
    "Claim : There is not a significant difference in the mean alcohol levels of the wines with quality 6,7,8   \n",
    "Null Hypothesis:H0 = means of alcohol content of wine qualitiess 6,7,8 are all equal  \n",
    "Alternative Hypothesis:H1 = Means are not all equal.  "
   ]
  },
  {
   "cell_type": "code",
   "execution_count": 69,
   "metadata": {},
   "outputs": [
    {
     "name": "stdout",
     "output_type": "stream",
     "text": [
      "F-statistic is :182.3042728669789\n",
      "P-value is :9.138947286417128e-76\n",
      "Reject the null hypothesis\n"
     ]
    }
   ],
   "source": [
    "df_anova = data[['alcohol','quality']]\n",
    "grps = pd.unique(df_anova.quality.values)\n",
    "d_data = {grp:df_anova['alcohol'][df_anova.quality == grp] for grp in grps}\n",
    " \n",
    "F, p = stats.f_oneway(d_data[6], d_data[7], d_data[8])\n",
    "print('F-statistic is :{}'.format(F))\n",
    "print('P-value is :{}'.format(p))\n",
    "\n",
    "if p<0.05:\n",
    "    print(\"Reject the null hypothesis\")\n",
    "else:\n",
    "    print(\"Accept the null hypothesis\")"
   ]
  },
  {
   "cell_type": "markdown",
   "metadata": {},
   "source": [
    "### Chi - Square Test"
   ]
  },
  {
   "cell_type": "markdown",
   "metadata": {},
   "source": [
    "Chi Square Test is used to find the relationship between two or more Categorical Variables and determine whether they are independent from each other or not.  \n",
    " \n",
    "\n",
    "NOTE: In this dataset, only 1 categorical variable is present, i.e. Quality variable. Therefore, performing a Chi- Square Test is not feasible for this dataset. Therfore we will perform the test on other set of data.\n",
    "\n",
    "Null Hypothesis: All the categorical variables are independent.  \n",
    "Alternate Hypothesis: The categorical variables are dependent on each other. "
   ]
  },
  {
   "cell_type": "code",
   "execution_count": 12,
   "metadata": {},
   "outputs": [],
   "source": [
    "# Importing the City Temperature Dataset\n",
    "import statsmodels.api as sm\n",
    "\n",
    "df = sm.datasets.webuse(\"citytemp2\")"
   ]
  },
  {
   "cell_type": "code",
   "execution_count": 20,
   "metadata": {},
   "outputs": [
    {
     "data": {
      "text/html": [
       "<div>\n",
       "<style scoped>\n",
       "    .dataframe tbody tr th:only-of-type {\n",
       "        vertical-align: middle;\n",
       "    }\n",
       "\n",
       "    .dataframe tbody tr th {\n",
       "        vertical-align: top;\n",
       "    }\n",
       "\n",
       "    .dataframe thead th {\n",
       "        text-align: right;\n",
       "    }\n",
       "</style>\n",
       "<table border=\"1\" class=\"dataframe\">\n",
       "  <thead>\n",
       "    <tr style=\"text-align: right;\">\n",
       "      <th></th>\n",
       "      <th>division</th>\n",
       "      <th>region</th>\n",
       "      <th>heatdd</th>\n",
       "      <th>cooldd</th>\n",
       "      <th>tempjan</th>\n",
       "      <th>tempjuly</th>\n",
       "      <th>agecat</th>\n",
       "    </tr>\n",
       "  </thead>\n",
       "  <tbody>\n",
       "    <tr>\n",
       "      <th>0</th>\n",
       "      <td>N. Eng.</td>\n",
       "      <td>NE</td>\n",
       "      <td>NaN</td>\n",
       "      <td>NaN</td>\n",
       "      <td>16.600000</td>\n",
       "      <td>69.599998</td>\n",
       "      <td>19-29</td>\n",
       "    </tr>\n",
       "    <tr>\n",
       "      <th>1</th>\n",
       "      <td>N. Eng.</td>\n",
       "      <td>NE</td>\n",
       "      <td>7947.0</td>\n",
       "      <td>250.0</td>\n",
       "      <td>18.200001</td>\n",
       "      <td>68.000000</td>\n",
       "      <td>19-29</td>\n",
       "    </tr>\n",
       "    <tr>\n",
       "      <th>2</th>\n",
       "      <td>Mid Atl</td>\n",
       "      <td>NE</td>\n",
       "      <td>7480.0</td>\n",
       "      <td>424.0</td>\n",
       "      <td>18.400000</td>\n",
       "      <td>70.199997</td>\n",
       "      <td>19-29</td>\n",
       "    </tr>\n",
       "    <tr>\n",
       "      <th>3</th>\n",
       "      <td>N. Eng.</td>\n",
       "      <td>NE</td>\n",
       "      <td>7482.0</td>\n",
       "      <td>353.0</td>\n",
       "      <td>19.900000</td>\n",
       "      <td>69.500000</td>\n",
       "      <td>19-29</td>\n",
       "    </tr>\n",
       "    <tr>\n",
       "      <th>4</th>\n",
       "      <td>N. Eng.</td>\n",
       "      <td>NE</td>\n",
       "      <td>7482.0</td>\n",
       "      <td>353.0</td>\n",
       "      <td>19.900000</td>\n",
       "      <td>69.500000</td>\n",
       "      <td>19-29</td>\n",
       "    </tr>\n",
       "    <tr>\n",
       "      <th>...</th>\n",
       "      <td>...</td>\n",
       "      <td>...</td>\n",
       "      <td>...</td>\n",
       "      <td>...</td>\n",
       "      <td>...</td>\n",
       "      <td>...</td>\n",
       "      <td>...</td>\n",
       "    </tr>\n",
       "    <tr>\n",
       "      <th>951</th>\n",
       "      <td>Pacific</td>\n",
       "      <td>West</td>\n",
       "      <td>0.0</td>\n",
       "      <td>3134.0</td>\n",
       "      <td>71.400002</td>\n",
       "      <td>75.400002</td>\n",
       "      <td>35+</td>\n",
       "    </tr>\n",
       "    <tr>\n",
       "      <th>952</th>\n",
       "      <td>Pacific</td>\n",
       "      <td>West</td>\n",
       "      <td>0.0</td>\n",
       "      <td>4389.0</td>\n",
       "      <td>72.599998</td>\n",
       "      <td>80.099998</td>\n",
       "      <td>35+</td>\n",
       "    </tr>\n",
       "    <tr>\n",
       "      <th>953</th>\n",
       "      <td>Pacific</td>\n",
       "      <td>West</td>\n",
       "      <td>0.0</td>\n",
       "      <td>4389.0</td>\n",
       "      <td>72.599998</td>\n",
       "      <td>80.099998</td>\n",
       "      <td>35+</td>\n",
       "    </tr>\n",
       "    <tr>\n",
       "      <th>954</th>\n",
       "      <td>Pacific</td>\n",
       "      <td>West</td>\n",
       "      <td>0.0</td>\n",
       "      <td>4389.0</td>\n",
       "      <td>72.599998</td>\n",
       "      <td>80.099998</td>\n",
       "      <td>35+</td>\n",
       "    </tr>\n",
       "    <tr>\n",
       "      <th>955</th>\n",
       "      <td>Pacific</td>\n",
       "      <td>West</td>\n",
       "      <td>0.0</td>\n",
       "      <td>4389.0</td>\n",
       "      <td>72.599998</td>\n",
       "      <td>80.099998</td>\n",
       "      <td>35+</td>\n",
       "    </tr>\n",
       "  </tbody>\n",
       "</table>\n",
       "<p>956 rows × 7 columns</p>\n",
       "</div>"
      ],
      "text/plain": [
       "    division region  heatdd  cooldd    tempjan   tempjuly agecat\n",
       "0    N. Eng.     NE     NaN     NaN  16.600000  69.599998  19-29\n",
       "1    N. Eng.     NE  7947.0   250.0  18.200001  68.000000  19-29\n",
       "2    Mid Atl     NE  7480.0   424.0  18.400000  70.199997  19-29\n",
       "3    N. Eng.     NE  7482.0   353.0  19.900000  69.500000  19-29\n",
       "4    N. Eng.     NE  7482.0   353.0  19.900000  69.500000  19-29\n",
       "..       ...    ...     ...     ...        ...        ...    ...\n",
       "951  Pacific   West     0.0  3134.0  71.400002  75.400002    35+\n",
       "952  Pacific   West     0.0  4389.0  72.599998  80.099998    35+\n",
       "953  Pacific   West     0.0  4389.0  72.599998  80.099998    35+\n",
       "954  Pacific   West     0.0  4389.0  72.599998  80.099998    35+\n",
       "955  Pacific   West     0.0  4389.0  72.599998  80.099998    35+\n",
       "\n",
       "[956 rows x 7 columns]"
      ]
     },
     "execution_count": 20,
     "metadata": {},
     "output_type": "execute_result"
    }
   ],
   "source": [
    "df.head(len(df))"
   ]
  },
  {
   "cell_type": "code",
   "execution_count": 15,
   "metadata": {},
   "outputs": [
    {
     "data": {
      "text/plain": [
       "<bound method DataFrame.info of     division region  heatdd  cooldd    tempjan   tempjuly agecat\n",
       "0    N. Eng.     NE     NaN     NaN  16.600000  69.599998  19-29\n",
       "1    N. Eng.     NE  7947.0   250.0  18.200001  68.000000  19-29\n",
       "2    Mid Atl     NE  7480.0   424.0  18.400000  70.199997  19-29\n",
       "3    N. Eng.     NE  7482.0   353.0  19.900000  69.500000  19-29\n",
       "4    N. Eng.     NE  7482.0   353.0  19.900000  69.500000  19-29\n",
       "..       ...    ...     ...     ...        ...        ...    ...\n",
       "951  Pacific   West     0.0  3134.0  71.400002  75.400002    35+\n",
       "952  Pacific   West     0.0  4389.0  72.599998  80.099998    35+\n",
       "953  Pacific   West     0.0  4389.0  72.599998  80.099998    35+\n",
       "954  Pacific   West     0.0  4389.0  72.599998  80.099998    35+\n",
       "955  Pacific   West     0.0  4389.0  72.599998  80.099998    35+\n",
       "\n",
       "[956 rows x 7 columns]>"
      ]
     },
     "execution_count": 15,
     "metadata": {},
     "output_type": "execute_result"
    }
   ],
   "source": [
    "# High level info about the dataset\n",
    "df.info"
   ]
  },
  {
   "cell_type": "code",
   "execution_count": 19,
   "metadata": {},
   "outputs": [
    {
     "data": {
      "text/html": [
       "<div>\n",
       "<style scoped>\n",
       "    .dataframe tbody tr th:only-of-type {\n",
       "        vertical-align: middle;\n",
       "    }\n",
       "\n",
       "    .dataframe tbody tr th {\n",
       "        vertical-align: top;\n",
       "    }\n",
       "\n",
       "    .dataframe thead th {\n",
       "        text-align: right;\n",
       "    }\n",
       "</style>\n",
       "<table border=\"1\" class=\"dataframe\">\n",
       "  <thead>\n",
       "    <tr style=\"text-align: right;\">\n",
       "      <th>agecat</th>\n",
       "      <th>19-29</th>\n",
       "      <th>30-34</th>\n",
       "      <th>35+</th>\n",
       "    </tr>\n",
       "    <tr>\n",
       "      <th>region</th>\n",
       "      <th></th>\n",
       "      <th></th>\n",
       "      <th></th>\n",
       "    </tr>\n",
       "  </thead>\n",
       "  <tbody>\n",
       "    <tr>\n",
       "      <th>NE</th>\n",
       "      <td>46</td>\n",
       "      <td>83</td>\n",
       "      <td>37</td>\n",
       "    </tr>\n",
       "    <tr>\n",
       "      <th>N Cntrl</th>\n",
       "      <td>162</td>\n",
       "      <td>92</td>\n",
       "      <td>30</td>\n",
       "    </tr>\n",
       "    <tr>\n",
       "      <th>South</th>\n",
       "      <td>139</td>\n",
       "      <td>68</td>\n",
       "      <td>43</td>\n",
       "    </tr>\n",
       "    <tr>\n",
       "      <th>West</th>\n",
       "      <td>160</td>\n",
       "      <td>73</td>\n",
       "      <td>23</td>\n",
       "    </tr>\n",
       "  </tbody>\n",
       "</table>\n",
       "</div>"
      ],
      "text/plain": [
       "agecat   19-29  30-34  35+\n",
       "region                    \n",
       "NE          46     83   37\n",
       "N Cntrl    162     92   30\n",
       "South      139     68   43\n",
       "West       160     73   23"
      ]
     },
     "execution_count": 19,
     "metadata": {},
     "output_type": "execute_result"
    }
   ],
   "source": [
    "crosstab = pd.crosstab(df[\"region\"], df[\"agecat\"])\n",
    "crosstab"
   ]
  },
  {
   "cell_type": "markdown",
   "metadata": {},
   "source": [
    "Here Chi - Square Test is performed to check the dependence between the age groups and regions. Significance level is chosen as 0.1 as the number of values are limited.  \n",
    "\n",
    "Null Hypothesis: H0 = The age category and the geographical region are independent.  \n",
    "Alternate Hypothesis: H1 =  The age category and the geographical region are not independent."
   ]
  },
  {
   "cell_type": "code",
   "execution_count": 26,
   "metadata": {},
   "outputs": [
    {
     "name": "stdout",
     "output_type": "stream",
     "text": [
      "Chi-square test statistic is :61.28767688406036\n",
      "P-value is :2.463382670201326e-11\n",
      "Degree of freedom is :6\n",
      "Reject the null hypothesis\n"
     ]
    }
   ],
   "source": [
    "f_statistic, p_value, degree_of_freedom, expected_values = stats.chi2_contingency(crosstab)\n",
    "print('Chi-square test statistic is :{}'.format(f_statistic))\n",
    "print('P-value is :{}'.format(p_value))\n",
    "print('Degree of freedom is :{}'.format(degree_of_freedom))\n",
    "if p_value<0.01:\n",
    "    print(\"Reject the null hypothesis\")\n",
    "else:\n",
    "    print(\"Accept the null hypothesis\")"
   ]
  }
 ],
 "metadata": {
  "kernelspec": {
   "display_name": "Python 3",
   "language": "python",
   "name": "python3"
  },
  "language_info": {
   "codemirror_mode": {
    "name": "ipython",
    "version": 3
   },
   "file_extension": ".py",
   "mimetype": "text/x-python",
   "name": "python",
   "nbconvert_exporter": "python",
   "pygments_lexer": "ipython3",
   "version": "3.8.5"
  }
 },
 "nbformat": 4,
 "nbformat_minor": 5
}
