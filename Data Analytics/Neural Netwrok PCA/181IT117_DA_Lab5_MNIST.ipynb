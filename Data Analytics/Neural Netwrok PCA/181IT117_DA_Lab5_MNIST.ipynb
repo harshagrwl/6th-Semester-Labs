{
 "cells": [
  {
   "cell_type": "markdown",
   "metadata": {},
   "source": [
    "# IT350 DA Assignment 5 \n",
    "## MNIST Dataset\n",
    "##### Submitted by: Harsh Agarwal (181IT117)"
   ]
  },
  {
   "cell_type": "code",
   "execution_count": 1,
   "metadata": {
    "id": "ooWClPOmiegY"
   },
   "outputs": [],
   "source": [
    "# Import Libraries\n",
    "import keras\n",
    "from keras.datasets import mnist\n",
    "from keras.models import Sequential\n",
    "from keras.layers import Dense, Dropout\n",
    "import matplotlib.pyplot as plt\n",
    "import numpy as np\n",
    "import matplotlib.pyplot as plt\n",
    "np.random.seed(2017)"
   ]
  },
  {
   "cell_type": "code",
   "execution_count": 2,
   "metadata": {
    "colab": {
     "base_uri": "https://localhost:8080/"
    },
    "id": "-5zO2d8Aill7",
    "outputId": "9e003895-19f4-46e0-b22c-23159f753de0"
   },
   "outputs": [
    {
     "name": "stdout",
     "output_type": "stream",
     "text": [
      "Downloading data from https://storage.googleapis.com/tensorflow/tf-keras-datasets/mnist.npz\n",
      "11493376/11490434 [==============================] - 0s 0us/step\n"
     ]
    }
   ],
   "source": [
    "# the data, split between train and test sets\n",
    "(x_train, y_train), (x_test, y_test) = mnist.load_data()"
   ]
  },
  {
   "cell_type": "code",
   "execution_count": 3,
   "metadata": {
    "colab": {
     "base_uri": "https://localhost:8080/"
    },
    "id": "_nCwN7KOi2Ze",
    "outputId": "07db5602-ff9f-4bb3-e4d3-17cee9e929e8"
   },
   "outputs": [
    {
     "name": "stdout",
     "output_type": "stream",
     "text": [
      "60000 train samples\n",
      "10000 test samples\n"
     ]
    }
   ],
   "source": [
    "#Flatten image\n",
    "x_train = x_train.reshape(60000, 784)\n",
    "x_test = x_test.reshape(10000, 784)\n",
    "x_train = x_train.astype('float32')\n",
    "x_test = x_test.astype('float32')\n",
    "#Normalize pixel data\n",
    "x_train /= 255\n",
    "x_test /= 255\n",
    "print(x_train.shape[0], 'train samples')\n",
    "print(x_test.shape[0], 'test samples')"
   ]
  },
  {
   "cell_type": "code",
   "execution_count": 4,
   "metadata": {
    "id": "sWFeQvMbi6aP"
   },
   "outputs": [],
   "source": [
    "# convert class vectors to binary class matrices\n",
    "num_classes = 10\n",
    "y_train = keras.utils.to_categorical(y_train, num_classes)\n",
    "y_test = keras.utils.to_categorical(y_test, num_classes)"
   ]
  },
  {
   "cell_type": "code",
   "execution_count": 5,
   "metadata": {
    "id": "il_YiCC2i9Fl"
   },
   "outputs": [],
   "source": [
    "batch_size = 128\n",
    "epochs = 20"
   ]
  },
  {
   "cell_type": "code",
   "execution_count": 6,
   "metadata": {
    "id": "imCRDbLbi_Cy"
   },
   "outputs": [],
   "source": [
    "#Initialise model\n",
    "model = Sequential()\n",
    "#Add input and 1st hidden layer\n",
    "model.add(Dense(512, activation='sigmoid', input_shape=(784,)))\n",
    "#Add 2nd hidden layer\n",
    "model.add(Dense(512, activation='sigmoid'))\n",
    "#Add output layer\n",
    "model.add(Dense(num_classes, activation='sigmoid'))"
   ]
  },
  {
   "cell_type": "code",
   "execution_count": 7,
   "metadata": {
    "colab": {
     "base_uri": "https://localhost:8080/"
    },
    "id": "NYVh_M-CjEtD",
    "outputId": "3d3160b4-e5b3-4447-fd2d-32fe250d2e22"
   },
   "outputs": [
    {
     "name": "stdout",
     "output_type": "stream",
     "text": [
      "Model: \"sequential\"\n",
      "_________________________________________________________________\n",
      "Layer (type)                 Output Shape              Param #   \n",
      "=================================================================\n",
      "dense (Dense)                (None, 512)               401920    \n",
      "_________________________________________________________________\n",
      "dense_1 (Dense)              (None, 512)               262656    \n",
      "_________________________________________________________________\n",
      "dense_2 (Dense)              (None, 10)                5130      \n",
      "=================================================================\n",
      "Total params: 669,706\n",
      "Trainable params: 669,706\n",
      "Non-trainable params: 0\n",
      "_________________________________________________________________\n"
     ]
    }
   ],
   "source": [
    "#Print model information\n",
    "model.summary()"
   ]
  },
  {
   "cell_type": "code",
   "execution_count": 8,
   "metadata": {
    "id": "5-3uZEHTjG9n"
   },
   "outputs": [],
   "source": [
    "#Compiling model: Using categorical crossentropy loss function and sgd optimiser\n",
    "model.compile(loss='categorical_crossentropy',\n",
    "              optimizer=keras.optimizers.SGD(lr=0.1, momentum=0.0, nesterov=False),\n",
    "              metrics=['accuracy'])\n"
   ]
  },
  {
   "cell_type": "code",
   "execution_count": 9,
   "metadata": {
    "colab": {
     "base_uri": "https://localhost:8080/"
    },
    "id": "0xal5ZNjjL5D",
    "outputId": "ccbadc8d-503a-4c26-a395-9c55d5ae6b19"
   },
   "outputs": [
    {
     "name": "stdout",
     "output_type": "stream",
     "text": [
      "Epoch 1/20\n",
      "469/469 [==============================] - 5s 5ms/step - loss: 2.0702 - accuracy: 0.2696 - val_loss: 0.8628 - val_accuracy: 0.7363\n",
      "Epoch 2/20\n",
      "469/469 [==============================] - 2s 4ms/step - loss: 0.6864 - accuracy: 0.8133 - val_loss: 0.4591 - val_accuracy: 0.8733\n",
      "Epoch 3/20\n",
      "469/469 [==============================] - 2s 4ms/step - loss: 0.4458 - accuracy: 0.8734 - val_loss: 0.3792 - val_accuracy: 0.8905\n",
      "Epoch 4/20\n",
      "469/469 [==============================] - 2s 4ms/step - loss: 0.3847 - accuracy: 0.8892 - val_loss: 0.3415 - val_accuracy: 0.9010\n",
      "Epoch 5/20\n",
      "469/469 [==============================] - 2s 4ms/step - loss: 0.3508 - accuracy: 0.8978 - val_loss: 0.3167 - val_accuracy: 0.9060\n",
      "Epoch 6/20\n",
      "469/469 [==============================] - 2s 4ms/step - loss: 0.3288 - accuracy: 0.9035 - val_loss: 0.3075 - val_accuracy: 0.9105\n",
      "Epoch 7/20\n",
      "469/469 [==============================] - 2s 4ms/step - loss: 0.3124 - accuracy: 0.9080 - val_loss: 0.2991 - val_accuracy: 0.9143\n",
      "Epoch 8/20\n",
      "469/469 [==============================] - 2s 4ms/step - loss: 0.3109 - accuracy: 0.9099 - val_loss: 0.2927 - val_accuracy: 0.9150\n",
      "Epoch 9/20\n",
      "469/469 [==============================] - 2s 4ms/step - loss: 0.3025 - accuracy: 0.9119 - val_loss: 0.2886 - val_accuracy: 0.9140\n",
      "Epoch 10/20\n",
      "469/469 [==============================] - 2s 4ms/step - loss: 0.2856 - accuracy: 0.9155 - val_loss: 0.2794 - val_accuracy: 0.9201\n",
      "Epoch 11/20\n",
      "469/469 [==============================] - 2s 4ms/step - loss: 0.2796 - accuracy: 0.9196 - val_loss: 0.2903 - val_accuracy: 0.9144\n",
      "Epoch 12/20\n",
      "469/469 [==============================] - 2s 4ms/step - loss: 0.2800 - accuracy: 0.9203 - val_loss: 0.2689 - val_accuracy: 0.9221\n",
      "Epoch 13/20\n",
      "469/469 [==============================] - 2s 4ms/step - loss: 0.2753 - accuracy: 0.9193 - val_loss: 0.2621 - val_accuracy: 0.9223\n",
      "Epoch 14/20\n",
      "469/469 [==============================] - 2s 4ms/step - loss: 0.2652 - accuracy: 0.9241 - val_loss: 0.2573 - val_accuracy: 0.9264\n",
      "Epoch 15/20\n",
      "469/469 [==============================] - 2s 4ms/step - loss: 0.2592 - accuracy: 0.9234 - val_loss: 0.2511 - val_accuracy: 0.9277\n",
      "Epoch 16/20\n",
      "469/469 [==============================] - 2s 4ms/step - loss: 0.2572 - accuracy: 0.9256 - val_loss: 0.2484 - val_accuracy: 0.9270\n",
      "Epoch 17/20\n",
      "469/469 [==============================] - 2s 4ms/step - loss: 0.2529 - accuracy: 0.9277 - val_loss: 0.2462 - val_accuracy: 0.9284\n",
      "Epoch 18/20\n",
      "469/469 [==============================] - 2s 4ms/step - loss: 0.2460 - accuracy: 0.9293 - val_loss: 0.2410 - val_accuracy: 0.9316\n",
      "Epoch 19/20\n",
      "469/469 [==============================] - 2s 4ms/step - loss: 0.2394 - accuracy: 0.9329 - val_loss: 0.2280 - val_accuracy: 0.9349\n",
      "Epoch 20/20\n",
      "469/469 [==============================] - 2s 4ms/step - loss: 0.2282 - accuracy: 0.9332 - val_loss: 0.2272 - val_accuracy: 0.9349\n",
      "Test loss: 0.2271760255098343\n",
      "Test accuracy: 0.9348999857902527\n"
     ]
    }
   ],
   "source": [
    "#Training model\n",
    "history = model.fit(x_train, y_train,\n",
    "                    batch_size=batch_size,\n",
    "                    epochs=epochs,\n",
    "                    verbose=1,\n",
    "                    validation_data=(x_test, y_test))\n",
    "#Evaluating model\n",
    "score = model.evaluate(x_test, y_test, verbose=0)\n",
    "print('Test loss:', score[0])\n",
    "print('Test accuracy:', score[1])"
   ]
  },
  {
   "cell_type": "code",
   "execution_count": 10,
   "metadata": {
    "colab": {
     "base_uri": "https://localhost:8080/"
    },
    "id": "6xaKMibpF40h",
    "outputId": "60adbbba-5f00-40c1-b547-0dade418870a"
   },
   "outputs": [
    {
     "name": "stdout",
     "output_type": "stream",
     "text": [
      "Model: \"sequential\"\n",
      "_________________________________________________________________\n",
      "Layer (type)                 Output Shape              Param #   \n",
      "=================================================================\n",
      "dense (Dense)                (None, 512)               401920    \n",
      "_________________________________________________________________\n",
      "dense_1 (Dense)              (None, 512)               262656    \n",
      "_________________________________________________________________\n",
      "dense_2 (Dense)              (None, 10)                5130      \n",
      "=================================================================\n",
      "Total params: 669,706\n",
      "Trainable params: 669,706\n",
      "Non-trainable params: 0\n",
      "_________________________________________________________________\n",
      "None\n"
     ]
    }
   ],
   "source": [
    "print(model.summary())"
   ]
  },
  {
   "cell_type": "code",
   "execution_count": 11,
   "metadata": {
    "colab": {
     "base_uri": "https://localhost:8080/"
    },
    "id": "T90safxgGDuZ",
    "outputId": "4d97c5f7-d30e-4b3b-ce81-0b886acb7324"
   },
   "outputs": [
    {
     "name": "stdout",
     "output_type": "stream",
     "text": [
      "Test loss: 0.2271760255098343\n",
      "Test accuracy: 0.9348999857902527\n"
     ]
    }
   ],
   "source": [
    "score = model.evaluate(x_test, y_test, verbose=0)\n",
    "print('Test loss:', score[0])\n",
    "print('Test accuracy:', score[1])"
   ]
  },
  {
   "cell_type": "code",
   "execution_count": 22,
   "metadata": {
    "colab": {
     "base_uri": "https://localhost:8080/",
     "height": 573
    },
    "id": "tfulnN1qJNSm",
    "outputId": "301d521e-9100-4463-ff03-da33ee2502cc"
   },
   "outputs": [
    {
     "data": {
      "image/png": "[encoded data removed]",
      "text/plain": [
       "<Figure size 432x288 with 1 Axes>"
      ]
     },
     "metadata": {
      "needs_background": "light",
      "tags": []
     },
     "output_type": "display_data"
    },
    {
     "data": {
      "image/png": "[encoded data removed]",
      "text/plain": [
       "<Figure size 432x288 with 1 Axes>"
      ]
     },
     "metadata": {
      "needs_background": "light",
      "tags": []
     },
     "output_type": "display_data"
    }
   ],
   "source": [
    "plt.plot(history.history['accuracy'])\n",
    "plt.plot(history.history['val_accuracy'])\n",
    "plt.title('model accuracy for normal data')\n",
    "plt.ylabel('accuracy')\n",
    "plt.xlabel('epoch')\n",
    "plt.legend(['train', 'test'], loc='upper left')\n",
    "plt.show()\n",
    "\n",
    "plt.plot(history.history['loss'])\n",
    "plt.plot(history.history['val_loss'])\n",
    "plt.title('model loss for normal data')\n",
    "plt.ylabel('loss')\n",
    "plt.xlabel('epoch')\n",
    "plt.legend(['train', 'test'], loc='upper left')\n",
    "plt.show()"
   ]
  },
  {
   "cell_type": "markdown",
   "metadata": {
    "id": "Xbhbxr7RJP0c"
   },
   "source": [
    "## Dimensionality Reduction using PCA"
   ]
  },
  {
   "cell_type": "code",
   "execution_count": 12,
   "metadata": {
    "id": "N3CaRIFCjOkD"
   },
   "outputs": [],
   "source": [
    "x_train, y_train, x_valid, y_valid, x_test ,y_test = [], [], [], [], [], []\n",
    "(x_train, y_train), (x_test, y_test) = mnist.load_data()\n",
    "x_train = x_train.reshape(60000,28,28)\n",
    "x_test = x_test.reshape(10000,28,28)"
   ]
  },
  {
   "cell_type": "code",
   "execution_count": 13,
   "metadata": {
    "id": "m69QH8OvGH_3"
   },
   "outputs": [],
   "source": [
    "from sklearn.model_selection import train_test_split\n",
    "from sklearn.decomposition import PCA\n",
    "x_train, x_valid, y_train, y_valid = train_test_split(x_train, y_train, test_size=0.2)\n",
    "\n",
    "x_train = x_train.astype('float32')\n",
    "x_valid = x_valid.astype('float32')\n",
    "x_test = x_test.astype('float32')\n",
    "x_train /= 255\n",
    "x_valid /= 255\n",
    "x_test /= 255\n",
    "\n",
    "x_train = x_train.reshape(len(x_train),28,28)\n",
    "x_test = x_test.reshape(10000,28,28)\n",
    "y_train = keras.utils.to_categorical(y_train, 10)\n",
    "y_valid = keras.utils.to_categorical(y_valid, 10)\n",
    "y_test = keras.utils.to_categorical(y_test, 10)"
   ]
  },
  {
   "cell_type": "code",
   "execution_count": 14,
   "metadata": {
    "colab": {
     "base_uri": "https://localhost:8080/"
    },
    "id": "fVBOdt33GK9J",
    "outputId": "89580dff-bd03-4933-dc60-205ec0c7410e"
   },
   "outputs": [
    {
     "name": "stdout",
     "output_type": "stream",
     "text": [
      "Explained variance =  48.81797134876251\n",
      "The number of features are reduced to  10\n"
     ]
    }
   ],
   "source": [
    "pca = PCA(n_components=10)\n",
    "X_train = x_train.reshape(48000,784)\n",
    "x_train_reduced = pca.fit_transform(X_train)\n",
    "print(\"Explained variance = \",(100*(np.sum(pca.explained_variance_ratio_))))\n",
    "print(\"The number of features are reduced to \",pca.n_components_)"
   ]
  },
  {
   "cell_type": "code",
   "execution_count": 15,
   "metadata": {
    "id": "K0y4jPgMGWuI"
   },
   "outputs": [],
   "source": [
    "X_test = x_test.reshape(10000,784)\n",
    "x_test_reduced = pca.transform(X_test)\n",
    "X_valid = x_valid.reshape(12000,784)\n",
    "x_valid_reduced = pca.transform(X_valid)"
   ]
  },
  {
   "cell_type": "code",
   "execution_count": 16,
   "metadata": {
    "id": "E51Zwt2JGwjY"
   },
   "outputs": [],
   "source": [
    "\n",
    "optim = keras.optimizers.SGD(lr=0.1)"
   ]
  },
  {
   "cell_type": "code",
   "execution_count": 17,
   "metadata": {
    "id": "VOj1ffKDHytY"
   },
   "outputs": [],
   "source": [
    "PCAmodel = Sequential()\n",
    "PCAmodel.add(Dense(256, activation='sigmoid',kernel_initializer = 'he_normal'))\n",
    "#PCAmodel.add(Dropout(0.4))\n",
    "PCAmodel.add(Dense(128, activation='sigmoid'))\n",
    "#PCAmodel.add(Dropout(0.4))\n",
    "PCAmodel.add(Dense(100, activation='sigmoid'))\n",
    "#PCAmodel.add(Dropout(0.4))\n",
    "PCAmodel.add(Dense(10, activation='sigmoid'))\n",
    "optim = keras.optimizers.SGD(lr=0.1)"
   ]
  },
  {
   "cell_type": "code",
   "execution_count": 18,
   "metadata": {
    "id": "FrSomoOeG2TA"
   },
   "outputs": [],
   "source": [
    "PCAmodel.compile(loss='categorical_crossentropy',\n",
    "              optimizer=keras.optimizers.SGD(lr=0.1, momentum=0.0, nesterov=False),\n",
    "              metrics=['accuracy'])"
   ]
  },
  {
   "cell_type": "code",
   "execution_count": 19,
   "metadata": {
    "colab": {
     "base_uri": "https://localhost:8080/"
    },
    "id": "b-K6TZRaG40g",
    "outputId": "09f06b52-173e-4a45-e4c6-f27a4400b93e"
   },
   "outputs": [
    {
     "name": "stdout",
     "output_type": "stream",
     "text": [
      "Epoch 1/20\n",
      "1500/1500 - 4s - loss: 1.0462 - accuracy: 0.6733 - val_loss: 0.6432 - val_accuracy: 0.7853\n",
      "Epoch 2/20\n",
      "1500/1500 - 3s - loss: 0.5849 - accuracy: 0.8087 - val_loss: 0.5459 - val_accuracy: 0.8261\n",
      "Epoch 3/20\n",
      "1500/1500 - 3s - loss: 0.5058 - accuracy: 0.8363 - val_loss: 0.4786 - val_accuracy: 0.8438\n",
      "Epoch 4/20\n",
      "1500/1500 - 3s - loss: 0.4342 - accuracy: 0.8603 - val_loss: 0.4162 - val_accuracy: 0.8657\n",
      "Epoch 5/20\n",
      "1500/1500 - 3s - loss: 0.3781 - accuracy: 0.8778 - val_loss: 0.3606 - val_accuracy: 0.8817\n",
      "Epoch 6/20\n",
      "1500/1500 - 3s - loss: 0.3415 - accuracy: 0.8900 - val_loss: 0.3308 - val_accuracy: 0.8940\n",
      "Epoch 7/20\n",
      "1500/1500 - 3s - loss: 0.3156 - accuracy: 0.8978 - val_loss: 0.3118 - val_accuracy: 0.8977\n",
      "Epoch 8/20\n",
      "1500/1500 - 3s - loss: 0.2972 - accuracy: 0.9030 - val_loss: 0.2898 - val_accuracy: 0.9044\n",
      "Epoch 9/20\n",
      "1500/1500 - 3s - loss: 0.2844 - accuracy: 0.9080 - val_loss: 0.2781 - val_accuracy: 0.9099\n",
      "Epoch 10/20\n",
      "1500/1500 - 3s - loss: 0.2726 - accuracy: 0.9116 - val_loss: 0.2676 - val_accuracy: 0.9128\n",
      "Epoch 11/20\n",
      "1500/1500 - 3s - loss: 0.2627 - accuracy: 0.9152 - val_loss: 0.2703 - val_accuracy: 0.9141\n",
      "Epoch 12/20\n",
      "1500/1500 - 3s - loss: 0.2555 - accuracy: 0.9173 - val_loss: 0.2530 - val_accuracy: 0.9171\n",
      "Epoch 13/20\n",
      "1500/1500 - 3s - loss: 0.2470 - accuracy: 0.9197 - val_loss: 0.2499 - val_accuracy: 0.9200\n",
      "Epoch 14/20\n",
      "1500/1500 - 3s - loss: 0.2410 - accuracy: 0.9216 - val_loss: 0.2488 - val_accuracy: 0.9197\n",
      "Epoch 15/20\n",
      "1500/1500 - 3s - loss: 0.2358 - accuracy: 0.9234 - val_loss: 0.2393 - val_accuracy: 0.9238\n",
      "Epoch 16/20\n",
      "1500/1500 - 3s - loss: 0.2303 - accuracy: 0.9252 - val_loss: 0.2349 - val_accuracy: 0.9233\n",
      "Epoch 17/20\n",
      "1500/1500 - 3s - loss: 0.2260 - accuracy: 0.9268 - val_loss: 0.2487 - val_accuracy: 0.9202\n",
      "Epoch 18/20\n",
      "1500/1500 - 3s - loss: 0.2206 - accuracy: 0.9279 - val_loss: 0.2316 - val_accuracy: 0.9242\n",
      "Epoch 19/20\n",
      "1500/1500 - 3s - loss: 0.2171 - accuracy: 0.9301 - val_loss: 0.2311 - val_accuracy: 0.9250\n",
      "Epoch 20/20\n",
      "1500/1500 - 3s - loss: 0.2137 - accuracy: 0.9308 - val_loss: 0.2280 - val_accuracy: 0.9275\n"
     ]
    }
   ],
   "source": [
    "history = PCAmodel.fit(x_train_reduced, y_train,batch_size=32,epochs=20,verbose=2,validation_data=(x_valid_reduced,y_valid))"
   ]
  },
  {
   "cell_type": "code",
   "execution_count": 20,
   "metadata": {
    "colab": {
     "base_uri": "https://localhost:8080/"
    },
    "id": "hSCIBSazJKNf",
    "outputId": "909370b3-ed6b-4f6a-af28-0517c25d0cbd"
   },
   "outputs": [
    {
     "name": "stdout",
     "output_type": "stream",
     "text": [
      "Model: \"sequential\"\n",
      "_________________________________________________________________\n",
      "Layer (type)                 Output Shape              Param #   \n",
      "=================================================================\n",
      "dense (Dense)                (None, 512)               401920    \n",
      "_________________________________________________________________\n",
      "dense_1 (Dense)              (None, 512)               262656    \n",
      "_________________________________________________________________\n",
      "dense_2 (Dense)              (None, 10)                5130      \n",
      "=================================================================\n",
      "Total params: 669,706\n",
      "Trainable params: 669,706\n",
      "Non-trainable params: 0\n",
      "_________________________________________________________________\n",
      "None\n"
     ]
    }
   ],
   "source": [
    "print(model.summary())"
   ]
  },
  {
   "cell_type": "code",
   "execution_count": 21,
   "metadata": {
    "colab": {
     "base_uri": "https://localhost:8080/"
    },
    "id": "pEIuWpU9G9Ov",
    "outputId": "41c7e29a-5ac2-4e99-96cf-4bd485485a3c"
   },
   "outputs": [
    {
     "name": "stdout",
     "output_type": "stream",
     "text": [
      "Test loss: 0.22815966606140137\n",
      "Test accuracy: 0.9283000230789185\n"
     ]
    }
   ],
   "source": [
    "score = PCAmodel.evaluate(x_test_reduced, y_test, verbose=0)\n",
    "print('Test loss:', score[0])\n",
    "print('Test accuracy:', score[1])"
   ]
  },
  {
   "cell_type": "code",
   "execution_count": 23,
   "metadata": {
    "colab": {
     "base_uri": "https://localhost:8080/",
     "height": 573
    },
    "id": "vqR0WDLGHUQf",
    "outputId": "a2f10795-93e2-4f63-c4d8-5aacf55863f5"
   },
   "outputs": [
    {
     "data": {
      "image/png": "[encoded data removed]",
      "text/plain": [
       "<Figure size 432x288 with 1 Axes>"
      ]
     },
     "metadata": {
      "needs_background": "light",
      "tags": []
     },
     "output_type": "display_data"
    },
    {
     "data": {
      "image/png": "[encoded data removed]",
      "text/plain": [
       "<Figure size 432x288 with 1 Axes>"
      ]
     },
     "metadata": {
      "needs_background": "light",
      "tags": []
     },
     "output_type": "display_data"
    }
   ],
   "source": [
    "plt.plot(history.history['accuracy'])\n",
    "plt.plot(history.history['val_accuracy'])\n",
    "plt.title('model accuracy for normal data')\n",
    "plt.ylabel('accuracy')\n",
    "plt.xlabel('epoch')\n",
    "plt.legend(['train', 'test'], loc='upper left')\n",
    "plt.show()\n",
    "\n",
    "plt.plot(history.history['loss'])\n",
    "plt.plot(history.history['val_loss'])\n",
    "plt.title('model loss for normal data')\n",
    "plt.ylabel('loss')\n",
    "plt.xlabel('epoch')\n",
    "plt.legend(['train', 'test'], loc='upper left')\n",
    "plt.show()"
   ]
  },
  {
   "cell_type": "code",
   "execution_count": null,
   "metadata": {
    "id": "stgKQxrZPm_l"
   },
   "outputs": [],
   "source": []
  }
 ],
 "metadata": {
  "accelerator": "GPU",
  "colab": {
   "collapsed_sections": [],
   "name": "Untitled5.ipynb",
   "provenance": []
  },
  "kernelspec": {
   "display_name": "Python 3",
   "language": "python",
   "name": "python3"
  },
  "language_info": {
   "codemirror_mode": {
    "name": "ipython",
    "version": 3
   },
   "file_extension": ".py",
   "mimetype": "text/x-python",
   "name": "python",
   "nbconvert_exporter": "python",
   "pygments_lexer": "ipython3",
   "version": "3.8.5"
  }
 },
 "nbformat": 4,
 "nbformat_minor": 1
}
