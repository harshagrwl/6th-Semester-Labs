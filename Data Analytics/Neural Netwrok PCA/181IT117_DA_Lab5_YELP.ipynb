{
 "cells": [
  {
   "cell_type": "markdown",
   "metadata": {
    "id": "rbjjdWA5YOHA"
   },
   "source": [
    "# IT350 DA Assignment 5 \n",
    "## YELP Dataset\n",
    "##### Submitted by: Harsh Agarwal (181IT117)"
   ]
  },
  {
   "cell_type": "code",
   "execution_count": 4,
   "metadata": {
    "executionInfo": {
     "elapsed": 3450,
     "status": "ok",
     "timestamp": 1617543569905,
     "user": {
      "displayName": "Piyush Dilip Ingale.",
      "photoUrl": "",
      "userId": "10187807624547156068"
     },
     "user_tz": -330
    },
    "id": "_2slv9yrX-K8"
   },
   "outputs": [
    {
     "name": "stdout",
     "output_type": "stream",
     "text": [
      "Collecting gensim\n",
      "  Downloading gensim-4.0.1-cp38-cp38-win_amd64.whl (23.9 MB)\n",
      "Requirement already satisfied: Cython==0.29.21 in c:\\users\\harsh\\anaconda3\\lib\\site-packages (from gensim) (0.29.21)\n",
      "Requirement already satisfied: scipy>=0.18.1 in c:\\users\\harsh\\anaconda3\\lib\\site-packages (from gensim) (1.5.2)\n",
      "Collecting smart-open>=1.8.1\n",
      "  Downloading smart_open-5.0.0-py3-none-any.whl (56 kB)\n",
      "Requirement already satisfied: numpy>=1.11.3 in c:\\users\\harsh\\anaconda3\\lib\\site-packages (from gensim) (1.19.2)\n",
      "Installing collected packages: smart-open, gensim\n",
      "Successfully installed gensim-4.0.1 smart-open-5.0.0\n"
     ]
    },
    {
     "name": "stderr",
     "output_type": "stream",
     "text": [
      "C:\\Users\\harsh\\anaconda3\\lib\\site-packages\\gensim\\similarities\\__init__.py:15: UserWarning: The gensim.similarities.levenshtein submodule is disabled, because the optional Levenshtein package <https://pypi.org/project/python-Levenshtein/> is unavailable. Install Levenhstein (e.g. `pip install python-Levenshtein`) to suppress this warning.\n",
      "  warnings.warn(msg)\n"
     ]
    }
   ],
   "source": [
    "# importing libraries\n",
    "import numpy as np\n",
    "import pandas as pd\n",
    "import matplotlib.pyplot as plt\n",
    "import tensorflow as tf\n",
    "from sklearn.decomposition import PCA\n",
    "from sklearn.preprocessing import StandardScaler\n",
    "!pip install gensim\n",
    "from gensim.parsing.preprocessing import remove_stopwords\n",
    "from gensim.utils import simple_preprocess\n",
    "from gensim.parsing.porter import PorterStemmer\n",
    "from sklearn.model_selection import train_test_split\n",
    "from gensim import corpora\n",
    "\n",
    "data_path = \"./yelp.csv\""
   ]
  },
  {
   "cell_type": "code",
   "execution_count": 5,
   "metadata": {
    "colab": {
     "base_uri": "https://localhost:8080/",
     "height": 0
    },
    "executionInfo": {
     "elapsed": 14226,
     "status": "ok",
     "timestamp": 1617543580688,
     "user": {
      "displayName": "Piyush Dilip Ingale.",
      "photoUrl": "",
      "userId": "10187807624547156068"
     },
     "user_tz": -330
    },
    "id": "3Kdcuz1xYjDQ",
    "outputId": "f9548390-fdcf-4a84-cf5d-7c50a638e923"
   },
   "outputs": [
    {
     "name": "stdout",
     "output_type": "stream",
     "text": [
      "Number of rows per star rating:\n",
      "4    3526\n",
      "5    3337\n",
      "3    1461\n",
      "2     927\n",
      "1     749\n",
      "Name: stars, dtype: int64\n"
     ]
    }
   ],
   "source": [
    "# Reading the data\n",
    "data_raw = pd.read_csv(data_path)\n",
    "print(\"Number of rows per star rating:\")\n",
    "print(data_raw['stars'].value_counts())\n",
    "\n",
    "# Function to map stars to sentiment\n",
    "def map_sentiment(stars_received):\n",
    "    if stars_received <= 2:\n",
    "        return 0         #negative review\n",
    "    elif stars_received == 3:\n",
    "        return 1          #neutral review\n",
    "    else:\n",
    "        return 2          #positive review\n",
    "# Mapping stars to sentiment into three categories\n",
    "data_raw['sentiment'] = [ map_sentiment(x) for x in data_raw['stars']]\n",
    "\n",
    "remove_stopwords(\"Restaurant had a really good service!!\")\n",
    "remove_stopwords(\"I did not like the food!!\")\n",
    "remove_stopwords(\"This product is not good!!\")\n",
    "# Tokenizing\n",
    "data_raw['tokenized_text'] = [simple_preprocess(line, deacc=True) for line in data_raw['text']] \n",
    "porter_stemmer = PorterStemmer()\n",
    "data_raw['stemmed_tokens'] = [[porter_stemmer.stem(word) for word in tokens] for tokens in data_raw['tokenized_text'] ]\n"
   ]
  },
  {
   "cell_type": "code",
   "execution_count": 6,
   "metadata": {
    "colab": {
     "base_uri": "https://localhost:8080/",
     "height": 0
    },
    "executionInfo": {
     "elapsed": 14220,
     "status": "ok",
     "timestamp": 1617543580689,
     "user": {
      "displayName": "Piyush Dilip Ingale.",
      "photoUrl": "",
      "userId": "10187807624547156068"
     },
     "user_tz": -330
    },
    "id": "lQu4qeXgbzUw",
    "outputId": "624eb0d1-963b-4845-a937-88982ef5ac05"
   },
   "outputs": [
    {
     "name": "stdout",
     "output_type": "stream",
     "text": [
      "Value counts for Train sentiments\n",
      "2    4822\n",
      "0    1155\n",
      "1    1023\n",
      "Name: sentiment, dtype: int64\n",
      "Value counts for Test sentiments\n",
      "2    2041\n",
      "0     521\n",
      "1     438\n",
      "Name: sentiment, dtype: int64\n"
     ]
    }
   ],
   "source": [
    "# Train Test Split Function\n",
    "def split_train_test(data_raw, test_size=0.3, shuffle_state=True):\n",
    "    X_train, X_test, Y_train, Y_test = train_test_split(data_raw[['business_id', 'cool', 'date', 'funny', 'review_id', 'stars', 'text', 'useful', 'user_id', 'stemmed_tokens']], data_raw['sentiment'], shuffle=shuffle_state, test_size=test_size, random_state=15)\n",
    "    print(\"Value counts for Train sentiments\")\n",
    "    print(Y_train.value_counts())\n",
    "    print(\"Value counts for Test sentiments\")\n",
    "    print(Y_test.value_counts())\n",
    "    X_train = X_train.reset_index()\n",
    "    X_test = X_test.reset_index()\n",
    "    Y_train = Y_train.to_frame()\n",
    "    Y_train = Y_train.reset_index()\n",
    "    Y_test = Y_test.to_frame()\n",
    "    Y_test = Y_test.reset_index()\n",
    "    return X_train, X_test, Y_train, Y_test\n",
    "\n",
    "X_train, X_test, Y_train, Y_test = split_train_test(data_raw)"
   ]
  },
  {
   "cell_type": "code",
   "execution_count": 7,
   "metadata": {
    "executionInfo": {
     "elapsed": 15716,
     "status": "ok",
     "timestamp": 1617543582190,
     "user": {
      "displayName": "Piyush Dilip Ingale.",
      "photoUrl": "",
      "userId": "10187807624547156068"
     },
     "user_tz": -330
    },
    "id": "cbwgJ5r4b8u_"
   },
   "outputs": [],
   "source": [
    "def make_dict(data_raw, padding=True):\n",
    "    if padding:\n",
    "        review_dict = corpora.Dictionary([['pad']])\n",
    "        review_dict.add_documents(data_raw['stemmed_tokens'])\n",
    "    else:\n",
    "        review_dict = corpora.Dictionary(data_raw['stemmed_tokens'])\n",
    "    return review_dict\n",
    "\n",
    "# Making the dictionary(vocalubary)\n",
    "review_dict = make_dict(data_raw, padding=False)"
   ]
  },
  {
   "cell_type": "code",
   "execution_count": 8,
   "metadata": {
    "executionInfo": {
     "elapsed": 19334,
     "status": "ok",
     "timestamp": 1617543585811,
     "user": {
      "displayName": "Piyush Dilip Ingale.",
      "photoUrl": "",
      "userId": "10187807624547156068"
     },
     "user_tz": -330
    },
    "id": "YVi1le2TfIus"
   },
   "outputs": [],
   "source": [
    "\n",
    "VOCAB_SIZE = len(review_dict)\n",
    "NUM_LABELS = 3\n",
    "\n",
    "# Function to make bow vector to be used as input to network\n",
    "def make_bow_vector(review_dict, sentence):\n",
    "    # vec = torch.zeros(VOCAB_SIZE, dtype=torch.float64, device=device)\n",
    "    vec = np.zeros(VOCAB_SIZE, dtype=np.float64)\n",
    "    for word in sentence:\n",
    "        vec[review_dict.token2id[word]] += 1\n",
    "    return vec.reshape(1, -1)\n",
    "\n",
    "x_train = [make_bow_vector(review_dict, row['stemmed_tokens']) for index, row in X_train.iterrows()]\n",
    "x_test = [make_bow_vector(review_dict, row['stemmed_tokens']) for index, row in X_test.iterrows()]\n",
    "x_train = np.array(x_train)\n",
    "x_train = np.reshape(x_train, (x_train.shape[0], -1))\n",
    "y_train = Y_train['sentiment'].to_numpy()\n",
    "x_test = np.array(x_test)\n",
    "x_test = np.reshape(x_test, (x_test.shape[0], -1))\n",
    "y_test = Y_test['sentiment'].to_numpy()"
   ]
  },
  {
   "cell_type": "code",
   "execution_count": 9,
   "metadata": {
    "colab": {
     "base_uri": "https://localhost:8080/",
     "height": 0
    },
    "executionInfo": {
     "elapsed": 19332,
     "status": "ok",
     "timestamp": 1617543585813,
     "user": {
      "displayName": "Piyush Dilip Ingale.",
      "photoUrl": "",
      "userId": "10187807624547156068"
     },
     "user_tz": -330
    },
    "id": "I3EqxuLOy5vr",
    "outputId": "25958207-74cd-444f-90d4-1ca4ecec5cd0"
   },
   "outputs": [
    {
     "name": "stdout",
     "output_type": "stream",
     "text": [
      "(3000, 19608)\n",
      "(3000,)\n"
     ]
    }
   ],
   "source": [
    "print(x_test.shape)\n",
    "print(y_test.shape)"
   ]
  },
  {
   "cell_type": "code",
   "execution_count": 15,
   "metadata": {
    "executionInfo": {
     "elapsed": 19328,
     "status": "ok",
     "timestamp": 1617543585814,
     "user": {
      "displayName": "Piyush Dilip Ingale.",
      "photoUrl": "",
      "userId": "10187807624547156068"
     },
     "user_tz": -330
    },
    "id": "loJw_knbwSME"
   },
   "outputs": [],
   "source": [
    "def yelp_backprop(inputshape, classes):\n",
    "  model = tf.keras.Sequential()\n",
    "  input_shape = (inputshape)\n",
    "  #Input layer\n",
    "  model.add(tf.keras.layers.InputLayer(input_shape=input_shape))\n",
    "  # model.add(tf.keras.layers.Flatten())\n",
    "\n",
    "  #First hidden layer\n",
    "  model.add(tf.keras.layers.Dense(32, activation='sigmoid'))\n",
    "  \n",
    "  #Second hidden layer\n",
    "  model.add(tf.keras.layers.Dense(32, activation='sigmoid'))\n",
    "  \n",
    "  #Output layer\n",
    "  model.add(tf.keras.layers.Dense(classes, activation='sigmoid'))\n",
    "\n",
    "  return model"
   ]
  },
  {
   "cell_type": "code",
   "execution_count": 16,
   "metadata": {
    "colab": {
     "base_uri": "https://localhost:8080/",
     "height": 0
    },
    "executionInfo": {
     "elapsed": 35652,
     "status": "ok",
     "timestamp": 1617544454057,
     "user": {
      "displayName": "Piyush Dilip Ingale.",
      "photoUrl": "",
      "userId": "10187807624547156068"
     },
     "user_tz": -330
    },
    "id": "WK6kskzmyCck",
    "outputId": "90f3b2f3-0830-41a8-86db-f985078ffa29"
   },
   "outputs": [
    {
     "name": "stdout",
     "output_type": "stream",
     "text": [
      "Model: \"sequential_2\"\n",
      "_________________________________________________________________\n",
      "Layer (type)                 Output Shape              Param #   \n",
      "=================================================================\n",
      "dense_6 (Dense)              (None, 32)                627488    \n",
      "_________________________________________________________________\n",
      "dense_7 (Dense)              (None, 32)                1056      \n",
      "_________________________________________________________________\n",
      "dense_8 (Dense)              (None, 3)                 99        \n",
      "=================================================================\n",
      "Total params: 628,643\n",
      "Trainable params: 628,643\n",
      "Non-trainable params: 0\n",
      "_________________________________________________________________\n",
      "Epoch 1/20\n",
      "219/219 [==============================] - 2s 7ms/step - loss: 0.9049 - accuracy: 0.6454 - val_loss: 0.8129 - val_accuracy: 0.6803\n",
      "Epoch 2/20\n",
      "219/219 [==============================] - 1s 5ms/step - loss: 0.7897 - accuracy: 0.6932 - val_loss: 0.7529 - val_accuracy: 0.6980\n",
      "Epoch 3/20\n",
      "219/219 [==============================] - 1s 5ms/step - loss: 0.7316 - accuracy: 0.7057 - val_loss: 0.6909 - val_accuracy: 0.7183\n",
      "Epoch 4/20\n",
      "219/219 [==============================] - 1s 5ms/step - loss: 0.6621 - accuracy: 0.7347 - val_loss: 0.6456 - val_accuracy: 0.7330\n",
      "Epoch 5/20\n",
      "219/219 [==============================] - 1s 5ms/step - loss: 0.6206 - accuracy: 0.7463 - val_loss: 0.6762 - val_accuracy: 0.7293\n",
      "Epoch 6/20\n",
      "219/219 [==============================] - 1s 5ms/step - loss: 0.5697 - accuracy: 0.7720 - val_loss: 0.6402 - val_accuracy: 0.7357\n",
      "Epoch 7/20\n",
      "219/219 [==============================] - 1s 5ms/step - loss: 0.5592 - accuracy: 0.7780 - val_loss: 0.5686 - val_accuracy: 0.7697\n",
      "Epoch 8/20\n",
      "219/219 [==============================] - 1s 5ms/step - loss: 0.5219 - accuracy: 0.7901 - val_loss: 0.6006 - val_accuracy: 0.7533\n",
      "Epoch 9/20\n",
      "219/219 [==============================] - 1s 5ms/step - loss: 0.4921 - accuracy: 0.8023 - val_loss: 0.5531 - val_accuracy: 0.7680\n",
      "Epoch 10/20\n",
      "219/219 [==============================] - 1s 5ms/step - loss: 0.4789 - accuracy: 0.8089 - val_loss: 0.5468 - val_accuracy: 0.7757\n",
      "Epoch 11/20\n",
      "219/219 [==============================] - 1s 5ms/step - loss: 0.4456 - accuracy: 0.8188 - val_loss: 0.5700 - val_accuracy: 0.7743\n",
      "Epoch 12/20\n",
      "219/219 [==============================] - 1s 5ms/step - loss: 0.4315 - accuracy: 0.8293 - val_loss: 0.6114 - val_accuracy: 0.7397\n",
      "Epoch 13/20\n",
      "219/219 [==============================] - 1s 6ms/step - loss: 0.4146 - accuracy: 0.8352 - val_loss: 0.6314 - val_accuracy: 0.7607\n",
      "Epoch 14/20\n",
      "219/219 [==============================] - 1s 6ms/step - loss: 0.3924 - accuracy: 0.8445 - val_loss: 0.5555 - val_accuracy: 0.7700\n",
      "Epoch 15/20\n",
      "219/219 [==============================] - 1s 6ms/step - loss: 0.3703 - accuracy: 0.8600 - val_loss: 0.5545 - val_accuracy: 0.7810\n",
      "Epoch 16/20\n",
      "219/219 [==============================] - 1s 6ms/step - loss: 0.3751 - accuracy: 0.8561 - val_loss: 0.5926 - val_accuracy: 0.7757\n",
      "Epoch 17/20\n",
      "219/219 [==============================] - 1s 6ms/step - loss: 0.3588 - accuracy: 0.8673 - val_loss: 0.5518 - val_accuracy: 0.7773\n",
      "Epoch 18/20\n",
      "219/219 [==============================] - 1s 6ms/step - loss: 0.3368 - accuracy: 0.8698 - val_loss: 0.5737 - val_accuracy: 0.7757\n",
      "Epoch 19/20\n",
      "219/219 [==============================] - 1s 6ms/step - loss: 0.3315 - accuracy: 0.8686 - val_loss: 0.5662 - val_accuracy: 0.7813\n",
      "Epoch 20/20\n",
      "219/219 [==============================] - 1s 5ms/step - loss: 0.3226 - accuracy: 0.8775 - val_loss: 0.6351 - val_accuracy: 0.7790\n"
     ]
    }
   ],
   "source": [
    "model = yelp_backprop(x_train.shape[-1], 3)\n",
    "optimizer = tf.keras.optimizers.SGD(learning_rate=0.1)\n",
    "model.compile(optimizer=optimizer, metrics=['accuracy'], loss='sparse_categorical_crossentropy')\n",
    "model.summary()\n",
    "history = model.fit(x = x_train, y = y_train, batch_size=32, epochs=20, validation_data=(x_test, y_test), )"
   ]
  },
  {
   "cell_type": "code",
   "execution_count": 17,
   "metadata": {},
   "outputs": [
    {
     "name": "stdout",
     "output_type": "stream",
     "text": [
      "Test loss: 0.6351478695869446\n",
      "Test accuracy: 0.7789999842643738\n"
     ]
    }
   ],
   "source": [
    "score = model.evaluate(x_test, y_test, verbose=0)\n",
    "print('Test loss:', score[0])\n",
    "print('Test accuracy:', score[1])"
   ]
  },
  {
   "cell_type": "code",
   "execution_count": 18,
   "metadata": {
    "colab": {
     "base_uri": "https://localhost:8080/",
     "height": 573
    },
    "executionInfo": {
     "elapsed": 2088,
     "status": "ok",
     "timestamp": 1617544458374,
     "user": {
      "displayName": "Piyush Dilip Ingale.",
      "photoUrl": "",
      "userId": "10187807624547156068"
     },
     "user_tz": -330
    },
    "id": "6IsYBJDOExmq",
    "outputId": "c8b0b96d-5ae1-4a5d-ed20-e82c499baa64"
   },
   "outputs": [
    {
     "data": {
      "image/png": "[encoded data removed]",
      "text/plain": [
       "<Figure size 432x288 with 1 Axes>"
      ]
     },
     "metadata": {
      "needs_background": "light"
     },
     "output_type": "display_data"
    },
    {
     "data": {
      "image/png": "[encoded data removed]",
      "text/plain": [
       "<Figure size 432x288 with 1 Axes>"
      ]
     },
     "metadata": {
      "needs_background": "light"
     },
     "output_type": "display_data"
    }
   ],
   "source": [
    "plt.plot(history.history['accuracy'])\n",
    "plt.plot(history.history['val_accuracy'])\n",
    "plt.title('model accuracy for normal data')\n",
    "plt.ylabel('accuracy')\n",
    "plt.xlabel('epoch')\n",
    "plt.legend(['train', 'test'], loc='upper left')\n",
    "plt.show()\n",
    "\n",
    "plt.plot(history.history['loss'])\n",
    "plt.plot(history.history['val_loss'])\n",
    "plt.title('model loss for normal data')\n",
    "plt.ylabel('loss')\n",
    "plt.xlabel('epoch')\n",
    "plt.legend(['train', 'test'], loc='upper left')\n",
    "plt.show()"
   ]
  },
  {
   "cell_type": "markdown",
   "metadata": {},
   "source": [
    "## Dimensionality Reduction using PCA"
   ]
  },
  {
   "cell_type": "markdown",
   "metadata": {},
   "source": [
    "### NOTE: Due to the large size of correlation matrix generated in this dataset, the PCA is taking too much time to run on the RAM. Therefore the code is commented out."
   ]
  },
  {
   "cell_type": "code",
   "execution_count": null,
   "metadata": {
    "executionInfo": {
     "elapsed": 48770,
     "status": "ok",
     "timestamp": 1617543615272,
     "user": {
      "displayName": "Piyush Dilip Ingale.",
      "photoUrl": "",
      "userId": "10187807624547156068"
     },
     "user_tz": -330
    },
    "id": "3k7SWrRE3Ygy"
   },
   "outputs": [],
   "source": [
    "#PCA is taking too long to run as correlation matrix is too large to accomodate in RAM\n",
    "# scaler = StandardScaler()\n",
    "# x_train_pca = np.copy(x_train)\n",
    "# x_test_pca = np.copy(x_test)\n",
    "\n",
    "# scaler.fit(x_train_pca)\n",
    "\n",
    "# x_train_pca = scaler.transform(x_train_pca)\n",
    "# x_test_pca = scaler.transform(x_test_pca)\n",
    "# pca = PCA(0.95)\n",
    "# pca.fit(x_train)              \n",
    "# print(\"PCA number of components: \",pca.n_components_)\n",
    "# x_train_pca = pca.transform(x_train_pca)\n",
    "# x_test_pca = pca.transform(x_test_pca)\n",
    "\n",
    "# pca_model = yelp_backprop(pca.n_components_.item(), 10)\n",
    "# pca_model.compile(optimizer='adam', metrics=['accuracy'], loss='sparse_categorical_crossentropy')\n",
    "# pca_model.summary()\n",
    "# pca_history = pca_model.fit(x = x_train_pca, y = Y_train, batch_size=32, epochs=10, validation_data=(x_test_pca, Y_test))"
   ]
  }
 ],
 "metadata": {
  "colab": {
   "authorship_tag": "ABX9TyP6/Eq768z+qVd4uoAgv68O",
   "collapsed_sections": [],
   "mount_file_id": "18gvDaus1xQyS6tLIvNtFA1_oCqc4elMC",
   "name": "DA_lab5_yelp.ipynb",
   "provenance": []
  },
  "kernelspec": {
   "display_name": "Python 3",
   "language": "python",
   "name": "python3"
  },
  "language_info": {
   "codemirror_mode": {
    "name": "ipython",
    "version": 3
   },
   "file_extension": ".py",
   "mimetype": "text/x-python",
   "name": "python",
   "nbconvert_exporter": "python",
   "pygments_lexer": "ipython3",
   "version": "3.8.5"
  }
 },
 "nbformat": 4,
 "nbformat_minor": 1
}
