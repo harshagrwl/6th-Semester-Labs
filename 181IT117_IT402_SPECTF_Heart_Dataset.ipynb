{
 "cells": [
  {
   "cell_type": "code",
   "execution_count": 1,
   "metadata": {},
   "outputs": [],
   "source": [
    "# importing the basic libraries"
   ]
  },
  {
   "cell_type": "code",
   "execution_count": 2,
   "metadata": {},
   "outputs": [],
   "source": [
    "import numpy as np\n",
    "import pandas as pd\n",
    "import matplotlib.pyplot as plt\n",
    "import seaborn as sns"
   ]
  },
  {
   "cell_type": "code",
   "execution_count": 4,
   "metadata": {},
   "outputs": [],
   "source": [
    "# reading data from the file\n",
    "#Source: http://archive.ics.uci.edu/ml/datasets/SPECTF+Heart"
   ]
  },
  {
   "cell_type": "code",
   "execution_count": 7,
   "metadata": {},
   "outputs": [],
   "source": [
    "df = pd.read_csv('SPECTF_test.csv')"
   ]
  },
  {
   "cell_type": "code",
   "execution_count": 8,
   "metadata": {},
   "outputs": [
    {
     "data": {
      "text/html": [
       "<div>\n",
       "<style scoped>\n",
       "    .dataframe tbody tr th:only-of-type {\n",
       "        vertical-align: middle;\n",
       "    }\n",
       "\n",
       "    .dataframe tbody tr th {\n",
       "        vertical-align: top;\n",
       "    }\n",
       "\n",
       "    .dataframe thead th {\n",
       "        text-align: right;\n",
       "    }\n",
       "</style>\n",
       "<table border=\"1\" class=\"dataframe\">\n",
       "  <thead>\n",
       "    <tr style=\"text-align: right;\">\n",
       "      <th></th>\n",
       "      <th>Attr_1</th>\n",
       "      <th>Attr_2</th>\n",
       "      <th>Attr_3</th>\n",
       "      <th>Attr_4</th>\n",
       "      <th>Attr_5</th>\n",
       "      <th>Attr_6</th>\n",
       "      <th>Attr_7</th>\n",
       "      <th>Attr_8</th>\n",
       "      <th>Attr_9</th>\n",
       "      <th>Attr_10</th>\n",
       "      <th>...</th>\n",
       "      <th>Attr_36</th>\n",
       "      <th>Attr_37</th>\n",
       "      <th>Attr_38</th>\n",
       "      <th>Attr_39</th>\n",
       "      <th>Attr_40</th>\n",
       "      <th>Attr_41</th>\n",
       "      <th>Attr_42</th>\n",
       "      <th>Attr_43</th>\n",
       "      <th>Attr_44</th>\n",
       "      <th>Class</th>\n",
       "    </tr>\n",
       "  </thead>\n",
       "  <tbody>\n",
       "    <tr>\n",
       "      <th>0</th>\n",
       "      <td>32</td>\n",
       "      <td>41</td>\n",
       "      <td>76</td>\n",
       "      <td>34</td>\n",
       "      <td>65</td>\n",
       "      <td>53</td>\n",
       "      <td>30</td>\n",
       "      <td>54</td>\n",
       "      <td>16</td>\n",
       "      <td>51</td>\n",
       "      <td>...</td>\n",
       "      <td>43</td>\n",
       "      <td>67</td>\n",
       "      <td>61</td>\n",
       "      <td>29</td>\n",
       "      <td>31</td>\n",
       "      <td>17</td>\n",
       "      <td>8</td>\n",
       "      <td>18</td>\n",
       "      <td>11</td>\n",
       "      <td>Yes</td>\n",
       "    </tr>\n",
       "    <tr>\n",
       "      <th>1</th>\n",
       "      <td>76</td>\n",
       "      <td>65</td>\n",
       "      <td>60</td>\n",
       "      <td>40</td>\n",
       "      <td>32</td>\n",
       "      <td>34</td>\n",
       "      <td>65</td>\n",
       "      <td>50</td>\n",
       "      <td>53</td>\n",
       "      <td>37</td>\n",
       "      <td>...</td>\n",
       "      <td>51</td>\n",
       "      <td>65</td>\n",
       "      <td>59</td>\n",
       "      <td>43</td>\n",
       "      <td>39</td>\n",
       "      <td>35</td>\n",
       "      <td>30</td>\n",
       "      <td>24</td>\n",
       "      <td>21</td>\n",
       "      <td>Yes</td>\n",
       "    </tr>\n",
       "    <tr>\n",
       "      <th>2</th>\n",
       "      <td>60</td>\n",
       "      <td>51</td>\n",
       "      <td>75</td>\n",
       "      <td>60</td>\n",
       "      <td>65</td>\n",
       "      <td>45</td>\n",
       "      <td>64</td>\n",
       "      <td>55</td>\n",
       "      <td>55</td>\n",
       "      <td>61</td>\n",
       "      <td>...</td>\n",
       "      <td>68</td>\n",
       "      <td>69</td>\n",
       "      <td>63</td>\n",
       "      <td>62</td>\n",
       "      <td>53</td>\n",
       "      <td>57</td>\n",
       "      <td>31</td>\n",
       "      <td>46</td>\n",
       "      <td>30</td>\n",
       "      <td>Yes</td>\n",
       "    </tr>\n",
       "    <tr>\n",
       "      <th>3</th>\n",
       "      <td>64</td>\n",
       "      <td>60</td>\n",
       "      <td>71</td>\n",
       "      <td>69</td>\n",
       "      <td>71</td>\n",
       "      <td>65</td>\n",
       "      <td>66</td>\n",
       "      <td>64</td>\n",
       "      <td>68</td>\n",
       "      <td>59</td>\n",
       "      <td>...</td>\n",
       "      <td>55</td>\n",
       "      <td>66</td>\n",
       "      <td>58</td>\n",
       "      <td>65</td>\n",
       "      <td>65</td>\n",
       "      <td>75</td>\n",
       "      <td>64</td>\n",
       "      <td>61</td>\n",
       "      <td>56</td>\n",
       "      <td>Yes</td>\n",
       "    </tr>\n",
       "    <tr>\n",
       "      <th>4</th>\n",
       "      <td>65</td>\n",
       "      <td>69</td>\n",
       "      <td>66</td>\n",
       "      <td>76</td>\n",
       "      <td>58</td>\n",
       "      <td>67</td>\n",
       "      <td>65</td>\n",
       "      <td>72</td>\n",
       "      <td>66</td>\n",
       "      <td>64</td>\n",
       "      <td>...</td>\n",
       "      <td>64</td>\n",
       "      <td>71</td>\n",
       "      <td>70</td>\n",
       "      <td>72</td>\n",
       "      <td>69</td>\n",
       "      <td>70</td>\n",
       "      <td>65</td>\n",
       "      <td>63</td>\n",
       "      <td>61</td>\n",
       "      <td>Yes</td>\n",
       "    </tr>\n",
       "  </tbody>\n",
       "</table>\n",
       "<p>5 rows × 45 columns</p>\n",
       "</div>"
      ],
      "text/plain": [
       "   Attr_1  Attr_2  Attr_3  Attr_4  Attr_5  Attr_6  Attr_7  Attr_8  Attr_9  \\\n",
       "0      32      41      76      34      65      53      30      54      16   \n",
       "1      76      65      60      40      32      34      65      50      53   \n",
       "2      60      51      75      60      65      45      64      55      55   \n",
       "3      64      60      71      69      71      65      66      64      68   \n",
       "4      65      69      66      76      58      67      65      72      66   \n",
       "\n",
       "   Attr_10  ...  Attr_36  Attr_37  Attr_38  Attr_39  Attr_40  Attr_41  \\\n",
       "0       51  ...       43       67       61       29       31       17   \n",
       "1       37  ...       51       65       59       43       39       35   \n",
       "2       61  ...       68       69       63       62       53       57   \n",
       "3       59  ...       55       66       58       65       65       75   \n",
       "4       64  ...       64       71       70       72       69       70   \n",
       "\n",
       "   Attr_42  Attr_43  Attr_44  Class  \n",
       "0        8       18       11    Yes  \n",
       "1       30       24       21    Yes  \n",
       "2       31       46       30    Yes  \n",
       "3       64       61       56    Yes  \n",
       "4       65       63       61    Yes  \n",
       "\n",
       "[5 rows x 45 columns]"
      ]
     },
     "execution_count": 8,
     "metadata": {},
     "output_type": "execute_result"
    }
   ],
   "source": [
    "df.head()"
   ]
  },
  {
   "cell_type": "code",
   "execution_count": null,
   "metadata": {},
   "outputs": [],
   "source": []
  },
  {
   "cell_type": "code",
   "execution_count": null,
   "metadata": {},
   "outputs": [],
   "source": []
  },
  {
   "cell_type": "code",
   "execution_count": null,
   "metadata": {},
   "outputs": [],
   "source": []
  },
  {
   "cell_type": "code",
   "execution_count": null,
   "metadata": {},
   "outputs": [],
   "source": []
  },
  {
   "cell_type": "code",
   "execution_count": null,
   "metadata": {},
   "outputs": [],
   "source": []
  },
  {
   "cell_type": "code",
   "execution_count": null,
   "metadata": {},
   "outputs": [],
   "source": []
  },
  {
   "cell_type": "code",
   "execution_count": 9,
   "metadata": {},
   "outputs": [
    {
     "data": {
      "text/html": [
       "<div>\n",
       "<style scoped>\n",
       "    .dataframe tbody tr th:only-of-type {\n",
       "        vertical-align: middle;\n",
       "    }\n",
       "\n",
       "    .dataframe tbody tr th {\n",
       "        vertical-align: top;\n",
       "    }\n",
       "\n",
       "    .dataframe thead th {\n",
       "        text-align: right;\n",
       "    }\n",
       "</style>\n",
       "<table border=\"1\" class=\"dataframe\">\n",
       "  <thead>\n",
       "    <tr style=\"text-align: right;\">\n",
       "      <th></th>\n",
       "      <th>Attr_1</th>\n",
       "      <th>Attr_2</th>\n",
       "      <th>Attr_3</th>\n",
       "      <th>Attr_4</th>\n",
       "      <th>Attr_5</th>\n",
       "      <th>Attr_6</th>\n",
       "      <th>Attr_7</th>\n",
       "      <th>Attr_8</th>\n",
       "      <th>Attr_9</th>\n",
       "      <th>Attr_10</th>\n",
       "      <th>...</th>\n",
       "      <th>Attr_36</th>\n",
       "      <th>Attr_37</th>\n",
       "      <th>Attr_38</th>\n",
       "      <th>Attr_39</th>\n",
       "      <th>Attr_40</th>\n",
       "      <th>Attr_41</th>\n",
       "      <th>Attr_42</th>\n",
       "      <th>Attr_43</th>\n",
       "      <th>Attr_44</th>\n",
       "      <th>Class</th>\n",
       "    </tr>\n",
       "  </thead>\n",
       "  <tbody>\n",
       "    <tr>\n",
       "      <th>105</th>\n",
       "      <td>70</td>\n",
       "      <td>75</td>\n",
       "      <td>72</td>\n",
       "      <td>72</td>\n",
       "      <td>67</td>\n",
       "      <td>71</td>\n",
       "      <td>71</td>\n",
       "      <td>78</td>\n",
       "      <td>63</td>\n",
       "      <td>67</td>\n",
       "      <td>...</td>\n",
       "      <td>67</td>\n",
       "      <td>68</td>\n",
       "      <td>70</td>\n",
       "      <td>70</td>\n",
       "      <td>71</td>\n",
       "      <td>64</td>\n",
       "      <td>67</td>\n",
       "      <td>56</td>\n",
       "      <td>54</td>\n",
       "      <td>No</td>\n",
       "    </tr>\n",
       "    <tr>\n",
       "      <th>106</th>\n",
       "      <td>59</td>\n",
       "      <td>57</td>\n",
       "      <td>67</td>\n",
       "      <td>71</td>\n",
       "      <td>66</td>\n",
       "      <td>68</td>\n",
       "      <td>68</td>\n",
       "      <td>70</td>\n",
       "      <td>56</td>\n",
       "      <td>62</td>\n",
       "      <td>...</td>\n",
       "      <td>64</td>\n",
       "      <td>56</td>\n",
       "      <td>53</td>\n",
       "      <td>71</td>\n",
       "      <td>68</td>\n",
       "      <td>64</td>\n",
       "      <td>63</td>\n",
       "      <td>56</td>\n",
       "      <td>56</td>\n",
       "      <td>No</td>\n",
       "    </tr>\n",
       "    <tr>\n",
       "      <th>107</th>\n",
       "      <td>67</td>\n",
       "      <td>64</td>\n",
       "      <td>73</td>\n",
       "      <td>75</td>\n",
       "      <td>77</td>\n",
       "      <td>77</td>\n",
       "      <td>74</td>\n",
       "      <td>70</td>\n",
       "      <td>65</td>\n",
       "      <td>62</td>\n",
       "      <td>...</td>\n",
       "      <td>64</td>\n",
       "      <td>65</td>\n",
       "      <td>60</td>\n",
       "      <td>68</td>\n",
       "      <td>75</td>\n",
       "      <td>74</td>\n",
       "      <td>80</td>\n",
       "      <td>67</td>\n",
       "      <td>68</td>\n",
       "      <td>No</td>\n",
       "    </tr>\n",
       "    <tr>\n",
       "      <th>108</th>\n",
       "      <td>68</td>\n",
       "      <td>65</td>\n",
       "      <td>72</td>\n",
       "      <td>72</td>\n",
       "      <td>47</td>\n",
       "      <td>74</td>\n",
       "      <td>76</td>\n",
       "      <td>74</td>\n",
       "      <td>67</td>\n",
       "      <td>66</td>\n",
       "      <td>...</td>\n",
       "      <td>69</td>\n",
       "      <td>71</td>\n",
       "      <td>73</td>\n",
       "      <td>73</td>\n",
       "      <td>75</td>\n",
       "      <td>68</td>\n",
       "      <td>56</td>\n",
       "      <td>58</td>\n",
       "      <td>44</td>\n",
       "      <td>No</td>\n",
       "    </tr>\n",
       "    <tr>\n",
       "      <th>109</th>\n",
       "      <td>66</td>\n",
       "      <td>54</td>\n",
       "      <td>69</td>\n",
       "      <td>66</td>\n",
       "      <td>69</td>\n",
       "      <td>69</td>\n",
       "      <td>75</td>\n",
       "      <td>72</td>\n",
       "      <td>63</td>\n",
       "      <td>62</td>\n",
       "      <td>...</td>\n",
       "      <td>65</td>\n",
       "      <td>65</td>\n",
       "      <td>64</td>\n",
       "      <td>67</td>\n",
       "      <td>69</td>\n",
       "      <td>71</td>\n",
       "      <td>68</td>\n",
       "      <td>59</td>\n",
       "      <td>59</td>\n",
       "      <td>No</td>\n",
       "    </tr>\n",
       "  </tbody>\n",
       "</table>\n",
       "<p>5 rows × 45 columns</p>\n",
       "</div>"
      ],
      "text/plain": [
       "     Attr_1  Attr_2  Attr_3  Attr_4  Attr_5  Attr_6  Attr_7  Attr_8  Attr_9  \\\n",
       "105      70      75      72      72      67      71      71      78      63   \n",
       "106      59      57      67      71      66      68      68      70      56   \n",
       "107      67      64      73      75      77      77      74      70      65   \n",
       "108      68      65      72      72      47      74      76      74      67   \n",
       "109      66      54      69      66      69      69      75      72      63   \n",
       "\n",
       "     Attr_10  ...  Attr_36  Attr_37  Attr_38  Attr_39  Attr_40  Attr_41  \\\n",
       "105       67  ...       67       68       70       70       71       64   \n",
       "106       62  ...       64       56       53       71       68       64   \n",
       "107       62  ...       64       65       60       68       75       74   \n",
       "108       66  ...       69       71       73       73       75       68   \n",
       "109       62  ...       65       65       64       67       69       71   \n",
       "\n",
       "     Attr_42  Attr_43  Attr_44  Class  \n",
       "105       67       56       54     No  \n",
       "106       63       56       56     No  \n",
       "107       80       67       68     No  \n",
       "108       56       58       44     No  \n",
       "109       68       59       59     No  \n",
       "\n",
       "[5 rows x 45 columns]"
      ]
     },
     "execution_count": 9,
     "metadata": {},
     "output_type": "execute_result"
    }
   ],
   "source": [
    "df.tail()"
   ]
  },
  {
   "cell_type": "code",
   "execution_count": null,
   "metadata": {},
   "outputs": [],
   "source": []
  },
  {
   "cell_type": "code",
   "execution_count": null,
   "metadata": {},
   "outputs": [],
   "source": []
  },
  {
   "cell_type": "code",
   "execution_count": null,
   "metadata": {},
   "outputs": [],
   "source": []
  },
  {
   "cell_type": "code",
   "execution_count": 413,
   "metadata": {},
   "outputs": [],
   "source": [
    "# identifying the number of categories available"
   ]
  },
  {
   "cell_type": "code",
   "execution_count": 10,
   "metadata": {},
   "outputs": [],
   "source": [
    "y = df['Class'].values"
   ]
  },
  {
   "cell_type": "code",
   "execution_count": 11,
   "metadata": {},
   "outputs": [
    {
     "data": {
      "text/plain": [
       "No     55\n",
       "Yes    55\n",
       "Name: Class, dtype: int64"
      ]
     },
     "execution_count": 11,
     "metadata": {},
     "output_type": "execute_result"
    }
   ],
   "source": [
    "df['Class'].value_counts()"
   ]
  },
  {
   "cell_type": "code",
   "execution_count": 12,
   "metadata": {},
   "outputs": [],
   "source": [
    "# since there are 2 categories we are going to using k = 2."
   ]
  },
  {
   "cell_type": "code",
   "execution_count": 13,
   "metadata": {},
   "outputs": [
    {
     "data": {
      "text/plain": [
       "(110,)"
      ]
     },
     "execution_count": 13,
     "metadata": {},
     "output_type": "execute_result"
    }
   ],
   "source": [
    "y.shape"
   ]
  },
  {
   "cell_type": "code",
   "execution_count": 14,
   "metadata": {},
   "outputs": [],
   "source": [
    "X = df.drop(['Class'],axis = 1).values"
   ]
  },
  {
   "cell_type": "code",
   "execution_count": 15,
   "metadata": {},
   "outputs": [
    {
     "data": {
      "text/plain": [
       "array([[32, 41, 76, 34, 65, 53, 30, 54, 16, 51, 61, 43, 74, 70, 62, 21,\n",
       "        34, 42, 61, 37, 58, 66, 54, 49, 17, 19, 11, 42, 53, 30, 71,  9,\n",
       "        61, 16, 31, 43, 67, 61, 29, 31, 17,  8, 18, 11],\n",
       "       [76, 65, 60, 40, 32, 34, 65, 50, 53, 37, 66, 53, 33, 31, 30, 30,\n",
       "        69, 75, 64, 45, 68, 65, 57, 43, 23, 23, 53, 77, 48, 32, 55, 32,\n",
       "        48, 23, 62, 51, 65, 59, 43, 39, 35, 30, 24, 21],\n",
       "       [60, 51, 75, 60, 65, 45, 64, 55, 55, 61, 66, 74, 61, 50, 62, 41,\n",
       "        70, 63, 60, 62, 76, 69, 70, 54, 51, 47, 77, 80, 69, 48, 74, 59,\n",
       "        72, 57, 76, 68, 69, 63, 62, 53, 57, 31, 46, 30],\n",
       "       [64, 60, 71, 69, 71, 65, 66, 64, 68, 59, 63, 67, 68, 64, 73, 59,\n",
       "        73, 60, 72, 56, 77, 68, 69, 69, 66, 59, 57, 40, 55, 53, 69, 63,\n",
       "        71, 63, 66, 55, 66, 58, 65, 65, 75, 64, 61, 56],\n",
       "       [65, 69, 66, 76, 58, 67, 65, 72, 66, 64, 77, 75, 64, 62, 63, 59,\n",
       "        71, 61, 67, 45, 74, 45, 66, 46, 64, 48, 62, 27, 65, 67, 72, 72,\n",
       "        62, 66, 71, 64, 71, 70, 72, 69, 70, 65, 63, 61],\n",
       "       [71, 76, 74, 79, 71, 69, 77, 75, 64, 64, 75, 78, 69, 70, 59, 52,\n",
       "        71, 62, 47, 50, 68, 65, 67, 62, 56, 48, 58, 50, 65, 63, 75, 75,\n",
       "        64, 62, 60, 56, 64, 63, 61, 65, 64, 58, 51, 38],\n",
       "       [55, 66, 58, 75, 71, 77, 68, 73, 63, 69, 77, 78, 60, 69, 59, 60,\n",
       "        69, 69, 67, 70, 72, 80, 67, 72, 53, 60, 70, 58, 46, 67, 68, 84,\n",
       "        69, 79, 70, 74, 62, 71, 67, 66, 63, 61, 53, 60],\n",
       "       [76, 77, 69, 70, 64, 69, 76, 80, 50, 56, 70, 74, 61, 55, 54, 59,\n",
       "        65, 65, 53, 72, 76, 73, 51, 47, 43, 46, 66, 80, 73, 73, 71, 65,\n",
       "        60, 53, 69, 70, 54, 62, 64, 66, 51, 42, 28, 22],\n",
       "       [70, 72, 65, 64, 71, 69, 75, 76, 65, 68, 69, 79, 65, 74, 62, 67,\n",
       "        73, 73, 53, 51, 72, 69, 74, 68, 49, 44, 52, 48, 65, 68, 64, 72,\n",
       "        57, 58, 66, 69, 64, 69, 76, 73, 66, 69, 50, 53],\n",
       "       [64, 72, 70, 74, 63, 70, 73, 74, 61, 69, 65, 75, 61, 71, 65, 67,\n",
       "        73, 69, 72, 71, 74, 81, 69, 69, 65, 65, 78, 75, 67, 71, 66, 74,\n",
       "        54, 60, 64, 68, 64, 68, 69, 71, 65, 65, 56, 58]], dtype=int64)"
      ]
     },
     "execution_count": 15,
     "metadata": {},
     "output_type": "execute_result"
    }
   ],
   "source": [
    "X[:10]"
   ]
  },
  {
   "cell_type": "code",
   "execution_count": 20,
   "metadata": {},
   "outputs": [
    {
     "data": {
      "text/plain": [
       "110"
      ]
     },
     "execution_count": 20,
     "metadata": {},
     "output_type": "execute_result"
    }
   ],
   "source": [
    "# distance calculator\n",
    "y.size"
   ]
  },
  {
   "cell_type": "code",
   "execution_count": 17,
   "metadata": {},
   "outputs": [],
   "source": [
    "# distance between 2 points\n",
    "def distance(p1,p2):\n",
    "    \n",
    "    return np.linalg.norm(p1 - p2)"
   ]
  },
  {
   "cell_type": "code",
   "execution_count": 18,
   "metadata": {},
   "outputs": [],
   "source": [
    "# calculating centroid "
   ]
  },
  {
   "cell_type": "code",
   "execution_count": 41,
   "metadata": {},
   "outputs": [],
   "source": [
    "# centroid of a cluster\n",
    "def centroid(cluster):\n",
    "    \n",
    "    length = cluster.shape[0]\n",
    "    c = [None]*44\n",
    "    for i in range(44):\n",
    "        c[i] = np.sum(cluster[:,i])\n",
    "        c[i] = c[i]/length\n",
    "    \n",
    "    \n",
    "    # c0, c1, c2, c3 = c0/length , c1/length , c2/length , c3/length \n",
    "       \n",
    "    return np.array(c)\n"
   ]
  },
  {
   "cell_type": "code",
   "execution_count": 27,
   "metadata": {},
   "outputs": [
    {
     "data": {
      "text/html": [
       "<div>\n",
       "<style scoped>\n",
       "    .dataframe tbody tr th:only-of-type {\n",
       "        vertical-align: middle;\n",
       "    }\n",
       "\n",
       "    .dataframe tbody tr th {\n",
       "        vertical-align: top;\n",
       "    }\n",
       "\n",
       "    .dataframe thead th {\n",
       "        text-align: right;\n",
       "    }\n",
       "</style>\n",
       "<table border=\"1\" class=\"dataframe\">\n",
       "  <thead>\n",
       "    <tr style=\"text-align: right;\">\n",
       "      <th></th>\n",
       "      <th>Attr_1</th>\n",
       "      <th>Attr_2</th>\n",
       "      <th>Attr_3</th>\n",
       "      <th>Attr_4</th>\n",
       "      <th>Attr_5</th>\n",
       "      <th>Attr_6</th>\n",
       "      <th>Attr_7</th>\n",
       "      <th>Attr_8</th>\n",
       "      <th>Attr_9</th>\n",
       "      <th>Attr_10</th>\n",
       "      <th>...</th>\n",
       "      <th>Attr_36</th>\n",
       "      <th>Attr_37</th>\n",
       "      <th>Attr_38</th>\n",
       "      <th>Attr_39</th>\n",
       "      <th>Attr_40</th>\n",
       "      <th>Attr_41</th>\n",
       "      <th>Attr_42</th>\n",
       "      <th>Attr_43</th>\n",
       "      <th>Attr_44</th>\n",
       "      <th>Class</th>\n",
       "    </tr>\n",
       "  </thead>\n",
       "  <tbody>\n",
       "    <tr>\n",
       "      <th>0</th>\n",
       "      <td>32</td>\n",
       "      <td>41</td>\n",
       "      <td>76</td>\n",
       "      <td>34</td>\n",
       "      <td>65</td>\n",
       "      <td>53</td>\n",
       "      <td>30</td>\n",
       "      <td>54</td>\n",
       "      <td>16</td>\n",
       "      <td>51</td>\n",
       "      <td>...</td>\n",
       "      <td>43</td>\n",
       "      <td>67</td>\n",
       "      <td>61</td>\n",
       "      <td>29</td>\n",
       "      <td>31</td>\n",
       "      <td>17</td>\n",
       "      <td>8</td>\n",
       "      <td>18</td>\n",
       "      <td>11</td>\n",
       "      <td>Yes</td>\n",
       "    </tr>\n",
       "    <tr>\n",
       "      <th>1</th>\n",
       "      <td>76</td>\n",
       "      <td>65</td>\n",
       "      <td>60</td>\n",
       "      <td>40</td>\n",
       "      <td>32</td>\n",
       "      <td>34</td>\n",
       "      <td>65</td>\n",
       "      <td>50</td>\n",
       "      <td>53</td>\n",
       "      <td>37</td>\n",
       "      <td>...</td>\n",
       "      <td>51</td>\n",
       "      <td>65</td>\n",
       "      <td>59</td>\n",
       "      <td>43</td>\n",
       "      <td>39</td>\n",
       "      <td>35</td>\n",
       "      <td>30</td>\n",
       "      <td>24</td>\n",
       "      <td>21</td>\n",
       "      <td>Yes</td>\n",
       "    </tr>\n",
       "    <tr>\n",
       "      <th>2</th>\n",
       "      <td>60</td>\n",
       "      <td>51</td>\n",
       "      <td>75</td>\n",
       "      <td>60</td>\n",
       "      <td>65</td>\n",
       "      <td>45</td>\n",
       "      <td>64</td>\n",
       "      <td>55</td>\n",
       "      <td>55</td>\n",
       "      <td>61</td>\n",
       "      <td>...</td>\n",
       "      <td>68</td>\n",
       "      <td>69</td>\n",
       "      <td>63</td>\n",
       "      <td>62</td>\n",
       "      <td>53</td>\n",
       "      <td>57</td>\n",
       "      <td>31</td>\n",
       "      <td>46</td>\n",
       "      <td>30</td>\n",
       "      <td>Yes</td>\n",
       "    </tr>\n",
       "    <tr>\n",
       "      <th>3</th>\n",
       "      <td>64</td>\n",
       "      <td>60</td>\n",
       "      <td>71</td>\n",
       "      <td>69</td>\n",
       "      <td>71</td>\n",
       "      <td>65</td>\n",
       "      <td>66</td>\n",
       "      <td>64</td>\n",
       "      <td>68</td>\n",
       "      <td>59</td>\n",
       "      <td>...</td>\n",
       "      <td>55</td>\n",
       "      <td>66</td>\n",
       "      <td>58</td>\n",
       "      <td>65</td>\n",
       "      <td>65</td>\n",
       "      <td>75</td>\n",
       "      <td>64</td>\n",
       "      <td>61</td>\n",
       "      <td>56</td>\n",
       "      <td>Yes</td>\n",
       "    </tr>\n",
       "    <tr>\n",
       "      <th>4</th>\n",
       "      <td>65</td>\n",
       "      <td>69</td>\n",
       "      <td>66</td>\n",
       "      <td>76</td>\n",
       "      <td>58</td>\n",
       "      <td>67</td>\n",
       "      <td>65</td>\n",
       "      <td>72</td>\n",
       "      <td>66</td>\n",
       "      <td>64</td>\n",
       "      <td>...</td>\n",
       "      <td>64</td>\n",
       "      <td>71</td>\n",
       "      <td>70</td>\n",
       "      <td>72</td>\n",
       "      <td>69</td>\n",
       "      <td>70</td>\n",
       "      <td>65</td>\n",
       "      <td>63</td>\n",
       "      <td>61</td>\n",
       "      <td>Yes</td>\n",
       "    </tr>\n",
       "  </tbody>\n",
       "</table>\n",
       "<p>5 rows × 45 columns</p>\n",
       "</div>"
      ],
      "text/plain": [
       "   Attr_1  Attr_2  Attr_3  Attr_4  Attr_5  Attr_6  Attr_7  Attr_8  Attr_9  \\\n",
       "0      32      41      76      34      65      53      30      54      16   \n",
       "1      76      65      60      40      32      34      65      50      53   \n",
       "2      60      51      75      60      65      45      64      55      55   \n",
       "3      64      60      71      69      71      65      66      64      68   \n",
       "4      65      69      66      76      58      67      65      72      66   \n",
       "\n",
       "   Attr_10  ...  Attr_36  Attr_37  Attr_38  Attr_39  Attr_40  Attr_41  \\\n",
       "0       51  ...       43       67       61       29       31       17   \n",
       "1       37  ...       51       65       59       43       39       35   \n",
       "2       61  ...       68       69       63       62       53       57   \n",
       "3       59  ...       55       66       58       65       65       75   \n",
       "4       64  ...       64       71       70       72       69       70   \n",
       "\n",
       "   Attr_42  Attr_43  Attr_44  Class  \n",
       "0        8       18       11    Yes  \n",
       "1       30       24       21    Yes  \n",
       "2       31       46       30    Yes  \n",
       "3       64       61       56    Yes  \n",
       "4       65       63       61    Yes  \n",
       "\n",
       "[5 rows x 45 columns]"
      ]
     },
     "execution_count": 27,
     "metadata": {},
     "output_type": "execute_result"
    }
   ],
   "source": [
    "df.head()"
   ]
  },
  {
   "cell_type": "code",
   "execution_count": null,
   "metadata": {},
   "outputs": [],
   "source": []
  },
  {
   "cell_type": "code",
   "execution_count": 28,
   "metadata": {},
   "outputs": [],
   "source": [
    "# Assigning random cluster centers initially"
   ]
  },
  {
   "cell_type": "code",
   "execution_count": 134,
   "metadata": {},
   "outputs": [],
   "source": [
    "c1 = X[10].copy()\n",
    "c2 = X[51].copy()\n",
    "c1 = c1.reshape(1,44)\n",
    "c2 = c2.reshape(1,44)"
   ]
  },
  {
   "cell_type": "code",
   "execution_count": 135,
   "metadata": {},
   "outputs": [],
   "source": [
    "# cluster 1"
   ]
  },
  {
   "cell_type": "code",
   "execution_count": 136,
   "metadata": {},
   "outputs": [
    {
     "data": {
      "text/plain": [
       "array([[76, 59, 82, 76, 80, 56, 74, 67, 67, 58, 77, 71, 56, 68, 60, 64,\n",
       "        66, 66, 66, 66, 82, 79, 40, 45, 49, 48, 75, 70, 64, 35, 71, 60,\n",
       "        39, 28, 71, 66, 73, 61, 71, 49, 53, 45, 29, 15]], dtype=int64)"
      ]
     },
     "execution_count": 136,
     "metadata": {},
     "output_type": "execute_result"
    }
   ],
   "source": [
    "c1"
   ]
  },
  {
   "cell_type": "code",
   "execution_count": 137,
   "metadata": {},
   "outputs": [],
   "source": [
    "# cluster 2"
   ]
  },
  {
   "cell_type": "code",
   "execution_count": 138,
   "metadata": {},
   "outputs": [
    {
     "data": {
      "text/plain": [
       "array([[70, 65, 65, 62, 68, 67, 77, 74, 62, 61, 66, 61, 69, 74, 64, 62,\n",
       "        71, 71, 74, 70, 77, 78, 69, 70, 67, 65, 67, 70, 49, 48, 73, 71,\n",
       "        65, 73, 73, 73, 75, 71, 73, 72, 73, 70, 65, 64]], dtype=int64)"
      ]
     },
     "execution_count": 138,
     "metadata": {},
     "output_type": "execute_result"
    }
   ],
   "source": [
    "c2"
   ]
  },
  {
   "cell_type": "code",
   "execution_count": 139,
   "metadata": {},
   "outputs": [
    {
     "name": "stdout",
     "output_type": "stream",
     "text": [
      "[[32 41 76 ...  8 18 11]\n",
      " [76 65 60 ... 30 24 21]\n",
      " [60 51 75 ... 31 46 30]\n",
      " ...\n",
      " [67 64 73 ... 80 67 68]\n",
      " [68 65 72 ... 56 58 44]\n",
      " [66 54 69 ... 68 59 59]]\n"
     ]
    }
   ],
   "source": [
    "print(X)\n"
   ]
  },
  {
   "cell_type": "code",
   "execution_count": null,
   "metadata": {},
   "outputs": [],
   "source": []
  },
  {
   "cell_type": "code",
   "execution_count": 140,
   "metadata": {},
   "outputs": [],
   "source": [
    "# centroids for each cluster"
   ]
  },
  {
   "cell_type": "code",
   "execution_count": 141,
   "metadata": {},
   "outputs": [],
   "source": [
    "centroid_1 = centroid(c1)\n",
    "centroid_2 = centroid(c2)"
   ]
  },
  {
   "cell_type": "code",
   "execution_count": 142,
   "metadata": {},
   "outputs": [
    {
     "data": {
      "text/plain": [
       "array([76., 59., 82., 76., 80., 56., 74., 67., 67., 58., 77., 71., 56.,\n",
       "       68., 60., 64., 66., 66., 66., 66., 82., 79., 40., 45., 49., 48.,\n",
       "       75., 70., 64., 35., 71., 60., 39., 28., 71., 66., 73., 61., 71.,\n",
       "       49., 53., 45., 29., 15.])"
      ]
     },
     "execution_count": 142,
     "metadata": {},
     "output_type": "execute_result"
    }
   ],
   "source": [
    "centroid_1"
   ]
  },
  {
   "cell_type": "code",
   "execution_count": 143,
   "metadata": {},
   "outputs": [
    {
     "data": {
      "text/plain": [
       "array([70., 65., 65., 62., 68., 67., 77., 74., 62., 61., 66., 61., 69.,\n",
       "       74., 64., 62., 71., 71., 74., 70., 77., 78., 69., 70., 67., 65.,\n",
       "       67., 70., 49., 48., 73., 71., 65., 73., 73., 73., 75., 71., 73.,\n",
       "       72., 73., 70., 65., 64.])"
      ]
     },
     "execution_count": 143,
     "metadata": {},
     "output_type": "execute_result"
    }
   ],
   "source": [
    "centroid_2"
   ]
  },
  {
   "cell_type": "code",
   "execution_count": null,
   "metadata": {},
   "outputs": [],
   "source": [
    "\n"
   ]
  },
  {
   "cell_type": "code",
   "execution_count": 144,
   "metadata": {},
   "outputs": [],
   "source": [
    "# making a numpy array for all the clusters for futher calculations"
   ]
  },
  {
   "cell_type": "code",
   "execution_count": 145,
   "metadata": {},
   "outputs": [],
   "source": [
    "cluster_centroid = np.array([centroid_1,centroid_2])"
   ]
  },
  {
   "cell_type": "code",
   "execution_count": 146,
   "metadata": {},
   "outputs": [
    {
     "data": {
      "text/plain": [
       "array([[76., 59., 82., 76., 80., 56., 74., 67., 67., 58., 77., 71., 56.,\n",
       "        68., 60., 64., 66., 66., 66., 66., 82., 79., 40., 45., 49., 48.,\n",
       "        75., 70., 64., 35., 71., 60., 39., 28., 71., 66., 73., 61., 71.,\n",
       "        49., 53., 45., 29., 15.],\n",
       "       [70., 65., 65., 62., 68., 67., 77., 74., 62., 61., 66., 61., 69.,\n",
       "        74., 64., 62., 71., 71., 74., 70., 77., 78., 69., 70., 67., 65.,\n",
       "        67., 70., 49., 48., 73., 71., 65., 73., 73., 73., 75., 71., 73.,\n",
       "        72., 73., 70., 65., 64.]])"
      ]
     },
     "execution_count": 146,
     "metadata": {},
     "output_type": "execute_result"
    }
   ],
   "source": [
    "cluster_centroid"
   ]
  },
  {
   "cell_type": "code",
   "execution_count": 147,
   "metadata": {},
   "outputs": [],
   "source": [
    "cluster_centroid = np.round(cluster_centroid,2)"
   ]
  },
  {
   "cell_type": "code",
   "execution_count": 148,
   "metadata": {},
   "outputs": [
    {
     "data": {
      "text/plain": [
       "array([[76., 59., 82., 76., 80., 56., 74., 67., 67., 58., 77., 71., 56.,\n",
       "        68., 60., 64., 66., 66., 66., 66., 82., 79., 40., 45., 49., 48.,\n",
       "        75., 70., 64., 35., 71., 60., 39., 28., 71., 66., 73., 61., 71.,\n",
       "        49., 53., 45., 29., 15.],\n",
       "       [70., 65., 65., 62., 68., 67., 77., 74., 62., 61., 66., 61., 69.,\n",
       "        74., 64., 62., 71., 71., 74., 70., 77., 78., 69., 70., 67., 65.,\n",
       "        67., 70., 49., 48., 73., 71., 65., 73., 73., 73., 75., 71., 73.,\n",
       "        72., 73., 70., 65., 64.]])"
      ]
     },
     "execution_count": 148,
     "metadata": {},
     "output_type": "execute_result"
    }
   ],
   "source": [
    "cluster_centroid"
   ]
  },
  {
   "cell_type": "code",
   "execution_count": null,
   "metadata": {},
   "outputs": [],
   "source": []
  },
  {
   "cell_type": "code",
   "execution_count": 149,
   "metadata": {},
   "outputs": [],
   "source": [
    "# iterative implementation of k-means"
   ]
  },
  {
   "cell_type": "code",
   "execution_count": 150,
   "metadata": {},
   "outputs": [
    {
     "name": "stdout",
     "output_type": "stream",
     "text": [
      "181.29534 221.58745\n",
      "100.60815 172.66152\n",
      "94.8859 94.49868\n",
      "132.39084 56.06692\n",
      "143.67092 66.66667\n",
      "124.1679 50.15476\n",
      "149.09393 52.86889\n",
      "107.26913 77.45142\n",
      "135.48186 45.14195\n",
      "146.5617 46.38359\n",
      "93.14684 87.42687\n",
      "184.51219 60.5062\n",
      "188.67631 51.60058\n",
      "168.37681 28.6183\n",
      "167.17581 48.18081\n",
      "193.65627 44.32872\n",
      "177.52394 40.94831\n",
      "181.70237 33.99035\n",
      "176.8071 35.01354\n",
      "191.916 71.96885\n",
      "192.89051 40.90578\n",
      "178.03019 35.853\n",
      "179.4401 47.19036\n",
      "189.89142 36.88669\n",
      "190.63775 41.55214\n",
      "181.49311 25.6147\n",
      "181.00483 38.29717\n",
      "200.38151 40.47534\n",
      "193.94265 37.11743\n",
      "182.14211 32.82394\n",
      "176.81275 43.54199\n",
      "192.79977 37.72733\n",
      "155.86132 56.27699\n",
      "175.68651 37.40737\n",
      "153.33542 61.07672\n",
      "184.6016 35.57073\n",
      "185.7976 28.55585\n",
      "167.93674 39.58167\n",
      "172.10099 45.63135\n",
      "151.67317 58.85994\n",
      "165.5891 39.03123\n",
      "198.09278 40.20594\n",
      "194.63491 54.03716\n",
      "180.65367 36.76959\n",
      "178.46218 26.57484\n",
      "160.77235 36.12837\n",
      "139.75246 83.90658\n",
      "174.81061 38.30849\n",
      "178.02177 37.46929\n",
      "185.4663 34.95737\n",
      "180.90813 52.16962\n",
      "185.39889 40.62377\n",
      "173.95042 52.75804\n",
      "161.78303 178.65081\n",
      "134.57257 131.57915\n",
      "160.59611 37.49374\n",
      "155.14223 49.16344\n",
      "146.78821 56.90457\n",
      "168.66173 36.93773\n",
      "162.34052 55.88249\n",
      "157.42758 43.69646\n",
      "96.93526 102.25545\n",
      "131.18117 101.40855\n",
      "118.86126 85.07473\n",
      "147.22771 34.75528\n",
      "155.46061 39.71468\n",
      "146.34548 45.78928\n",
      "105.32569 130.50935\n",
      "111.61201 60.87151\n",
      "121.40033 41.19333\n",
      "139.48706 32.44384\n",
      "160.2986 39.7314\n",
      "152.62385 39.77052\n",
      "154.62419 34.97249\n",
      "158.8403 42.39219\n",
      "131.81214 44.26484\n",
      "156.48974 45.07358\n",
      "148.76505 34.7703\n",
      "151.86718 35.90107\n",
      "158.291 45.34511\n",
      "161.33332 43.93487\n",
      "140.3896 37.31121\n",
      "147.71269 35.19418\n",
      "140.2984 27.32703\n",
      "145.98575 34.76895\n",
      "144.04735 31.90919\n",
      "155.01948 37.80181\n",
      "146.08436 36.19317\n",
      "156.97019 45.043\n",
      "149.48257 35.17299\n",
      "152.42913 34.23983\n",
      "125.96603 40.4349\n",
      "140.90649 33.13993\n",
      "147.16535 38.83976\n",
      "157.77275 35.30474\n",
      "150.21797 37.06649\n",
      "149.04308 30.25576\n",
      "151.02861 34.77833\n",
      "143.85979 32.22041\n",
      "149.14771 48.38886\n",
      "137.66931 36.55327\n",
      "146.18906 28.30438\n",
      "149.23686 40.72416\n",
      "153.5931 36.2667\n",
      "161.50926 40.24205\n",
      "137.90228 22.13089\n",
      "146.47471 47.76466\n",
      "151.62599 35.08038\n",
      "133.2045 45.75546\n",
      "141.28921 23.68493\n",
      "108.28222 208.96561\n",
      "80.60794 163.8099\n",
      "104.07132 81.90138\n",
      "125.48323 43.68925\n",
      "135.69687 60.98469\n",
      "112.51418 48.75926\n",
      "138.61544 43.81627\n",
      "107.72019 79.52004\n",
      "127.41444 43.06903\n",
      "145.86651 30.84923\n",
      "113.96771 96.6207\n",
      "148.71866 48.04391\n",
      "150.87028 41.0783\n",
      "131.01237 28.13875\n",
      "131.11308 46.90495\n",
      "154.93947 31.13073\n",
      "142.31528 39.07853\n",
      "138.58225 26.75886\n",
      "136.49484 32.65299\n",
      "149.48859 67.82912\n",
      "153.95986 34.42796\n",
      "137.49051 33.85724\n",
      "141.85711 47.19361\n",
      "151.79736 32.1995\n",
      "151.26083 36.34305\n",
      "141.17946 21.58854\n",
      "146.76662 34.36289\n",
      "161.02186 35.87742\n",
      "155.53983 34.6388\n",
      "144.35803 29.33628\n",
      "135.80589 44.49471\n",
      "154.33742 35.423\n",
      "122.57667 56.80391\n",
      "134.43824 34.68729\n",
      "114.77038 60.52484\n",
      "142.62833 34.89615\n",
      "147.52912 27.15333\n",
      "134.74064 41.30927\n",
      "131.12757 45.79237\n",
      "107.39385 60.41695\n",
      "129.92321 38.63638\n",
      "158.99069 38.50749\n",
      "156.63282 51.11144\n",
      "143.04349 37.74348\n",
      "138.48263 25.16798\n",
      "126.4715 39.08499\n",
      "106.02849 87.79559\n",
      "135.21035 40.59836\n",
      "143.29564 37.89294\n",
      "143.05607 30.20152\n",
      "148.51343 50.90737\n",
      "147.42334 39.91525\n",
      "140.36965 52.52671\n",
      "118.93713 180.97805\n",
      "128.39408 132.47634\n",
      "125.69916 36.57324\n",
      "117.46749 48.33741\n",
      "110.28121 57.20582\n",
      "138.04931 34.24075\n",
      "132.96846 55.84616\n",
      "127.64512 44.72486\n",
      "65.38306 106.56871\n",
      "114.24511 102.65179\n",
      "101.95887 87.71789\n",
      "130.81263 32.8807\n",
      "139.05375 36.79002\n",
      "128.6116 45.81449\n",
      "88.26444 135.35177\n",
      "106.59242 62.47111\n",
      "115.00121 44.38063\n",
      "130.77185 28.98982\n",
      "150.90155 33.53107\n",
      "144.25768 35.5488\n",
      "145.10092 29.70958\n",
      "149.37741 37.78133\n",
      "124.54829 44.25109\n",
      "147.74847 41.70277\n",
      "140.13783 31.64931\n",
      "144.39972 30.9585\n",
      "150.23851 42.43916\n",
      "150.72584 40.26577\n",
      "132.29995 35.2511\n",
      "140.32443 33.12107\n",
      "132.44852 25.24963\n",
      "137.69027 33.35655\n",
      "133.99606 30.07692\n",
      "145.62375 34.99706\n",
      "139.25855 35.141\n",
      "146.38629 42.97524\n",
      "139.95456 33.14748\n",
      "144.57735 32.4844\n",
      "118.01248 39.94282\n",
      "133.99357 32.46723\n",
      "136.2618 37.82863\n",
      "148.25635 33.04289\n",
      "139.99504 35.81558\n",
      "140.49891 28.89813\n",
      "141.46358 33.05918\n",
      "136.20063 31.33298\n",
      "138.81382 47.20298\n",
      "126.83432 36.71546\n",
      "137.92127 26.80639\n",
      "139.27172 39.91946\n",
      "144.34546 35.41384\n",
      "153.40343 39.09857\n",
      "130.44134 21.5399\n",
      "135.86738 47.60642\n",
      "142.98349 34.45546\n",
      "126.3208 45.23109\n",
      "131.52418 23.57243\n",
      "117.09374 209.51722\n",
      "79.8975 164.54204\n",
      "97.28966 82.37266\n",
      "116.30826 44.06776\n",
      "129.04112 60.97356\n",
      "106.63932 48.89948\n",
      "131.07229 43.69459\n",
      "101.35718 79.92307\n",
      "119.40803 43.23155\n",
      "136.34006 30.81592\n",
      "110.44129 96.87296\n",
      "137.7907 48.339\n",
      "140.81765 41.1368\n",
      "121.34501 28.52\n",
      "122.80178 47.07406\n",
      "146.63769 30.50135\n",
      "132.67734 39.2206\n",
      "129.50654 26.77516\n",
      "129.60688 32.26998\n",
      "142.42522 67.73028\n",
      "145.98611 33.83821\n",
      "130.45412 33.50554\n",
      "131.26923 47.54235\n",
      "141.76839 32.14579\n",
      "141.49303 36.28739\n",
      "132.23821 21.40601\n",
      "138.7814 33.98339\n",
      "152.39186 35.27864\n",
      "146.53195 34.26404\n",
      "134.78357 29.34257\n",
      "127.11784 44.62672\n",
      "144.36855 35.32549\n",
      "115.54917 56.99178\n",
      "125.66335 34.79868\n",
      "107.58227 60.84664\n",
      "135.15033 34.52488\n",
      "138.23269 26.95662\n",
      "125.85949 41.47411\n",
      "124.53893 45.68628\n",
      "103.89712 60.45919\n",
      "121.06724 38.87586\n",
      "149.88421 38.13899\n",
      "147.47636 50.99534\n",
      "134.54223 37.62908\n",
      "129.60946 25.11255\n",
      "117.8952 39.34104\n",
      "101.78381 88.10934\n",
      "128.38852 40.37714\n",
      "135.25264 37.6799\n",
      "134.6351 29.95519\n",
      "137.3303 51.25526\n",
      "137.3667 40.03851\n",
      "129.99338 52.87963\n",
      "116.91141 181.653\n",
      "106.99507 133.75015\n",
      "125.69916 36.57324\n",
      "117.46749 48.33741\n",
      "110.28121 57.20582\n",
      "138.04931 34.24075\n",
      "132.96846 55.84616\n",
      "127.64512 44.72486\n",
      "65.38306 106.56871\n",
      "114.24511 102.65179\n",
      "101.95887 87.71789\n",
      "130.81263 32.8807\n",
      "139.05375 36.79002\n",
      "128.6116 45.81449\n",
      "88.26444 135.35177\n",
      "106.59242 62.47111\n",
      "115.00121 44.38063\n",
      "130.77185 28.98982\n",
      "150.90155 33.53107\n",
      "144.25768 35.5488\n",
      "145.10092 29.70958\n",
      "149.37741 37.78133\n",
      "124.54829 44.25109\n",
      "147.74847 41.70277\n",
      "140.13783 31.64931\n",
      "144.39972 30.9585\n",
      "150.23851 42.43916\n",
      "150.72584 40.26577\n",
      "132.29995 35.2511\n",
      "140.32443 33.12107\n",
      "132.44852 25.24963\n",
      "137.69027 33.35655\n",
      "133.99606 30.07692\n",
      "145.62375 34.99706\n",
      "139.25855 35.141\n",
      "146.38629 42.97524\n",
      "139.95456 33.14748\n",
      "144.57735 32.4844\n",
      "118.01248 39.94282\n",
      "133.99357 32.46723\n",
      "136.2618 37.82863\n",
      "148.25635 33.04289\n",
      "139.99504 35.81558\n",
      "140.49891 28.89813\n",
      "141.46358 33.05918\n",
      "136.20063 31.33298\n",
      "138.81382 47.20298\n",
      "126.83432 36.71546\n",
      "137.92127 26.80639\n",
      "139.27172 39.91946\n",
      "144.34546 35.41384\n",
      "153.40343 39.09857\n",
      "130.44134 21.5399\n",
      "135.86738 47.60642\n",
      "142.98349 34.45546\n",
      "126.3208 45.23109\n",
      "131.52418 23.57243\n",
      "True\n"
     ]
    }
   ],
   "source": [
    "counter = 0\n",
    "\n",
    "while(1):\n",
    "    \n",
    "    counter +=1\n",
    "    #print(counter)\n",
    "    \n",
    "    if counter>1:\n",
    "        cluster_centroid = new_centroids.copy()\n",
    "    \n",
    "    for x in X[:]:\n",
    "        \n",
    "        x = x.reshape(1,44)\n",
    "        \n",
    "        distance_1 = np.round(distance(x,centroid(c1)),5)\n",
    "        distance_2 = np.round(distance(x,centroid(c2)),5)\n",
    "\n",
    "        \n",
    "        print(distance_1,distance_2)\n",
    "        \n",
    "        for i in range(c1.shape[0]):\n",
    "            if ((c1[i] == x).all()):\n",
    "                c1 = np.delete(c1,i,0)\n",
    "                break\n",
    "            else:\n",
    "                pass\n",
    "        \n",
    "        for i in range(c2.shape[0]):\n",
    "            if ((c2[i] == x).all()):\n",
    "                c2 = np.delete(c2,i,0)\n",
    "                break\n",
    "            else:\n",
    "                pass\n",
    "                \n",
    "        \n",
    "        flag = 0\n",
    "        \n",
    "        if flag == 0:\n",
    "            if distance_1 <= distance_2:\n",
    "                c1 = np.vstack((c1,x))\n",
    "                flag = 1\n",
    "\n",
    "        if flag == 0: \n",
    "            if distance_2 <= distance_1:\n",
    "                c2 = np.vstack((c2,x))\n",
    "                flag = 1\n",
    "        \n",
    "    \n",
    "    \n",
    "    new_centroids = np.array([centroid(c1),centroid(c2)])\n",
    "    new_centroids = np.round(new_centroids,5)\n",
    "    \n",
    "    \n",
    "    if counter>1:\n",
    "        if((new_centroids == cluster_centroid).all()):\n",
    "            print(True)\n",
    "            break\n",
    "    "
   ]
  },
  {
   "cell_type": "code",
   "execution_count": 151,
   "metadata": {},
   "outputs": [],
   "source": [
    "# final clusters"
   ]
  },
  {
   "cell_type": "code",
   "execution_count": 152,
   "metadata": {},
   "outputs": [
    {
     "data": {
      "text/plain": [
       "(6, 44)"
      ]
     },
     "execution_count": 152,
     "metadata": {},
     "output_type": "execute_result"
    }
   ],
   "source": [
    "c1.shape"
   ]
  },
  {
   "cell_type": "code",
   "execution_count": 153,
   "metadata": {},
   "outputs": [
    {
     "data": {
      "text/plain": [
       "(104, 44)"
      ]
     },
     "execution_count": 153,
     "metadata": {},
     "output_type": "execute_result"
    }
   ],
   "source": [
    "c2.shape"
   ]
  },
  {
   "cell_type": "code",
   "execution_count": null,
   "metadata": {},
   "outputs": [],
   "source": []
  },
  {
   "cell_type": "code",
   "execution_count": 154,
   "metadata": {},
   "outputs": [],
   "source": [
    "# calculating each cluster's individual accuracy"
   ]
  },
  {
   "cell_type": "code",
   "execution_count": 155,
   "metadata": {},
   "outputs": [],
   "source": [
    "true_positive = 0\n",
    "false_positive = 0\n",
    "for i in range(X.shape[0]):\n",
    "    if list(X[i]) in c1.tolist():\n",
    "        if y[i] == 'Yes':\n",
    "            true_positive+=1\n",
    "        else:\n",
    "            false_positive+=1"
   ]
  },
  {
   "cell_type": "code",
   "execution_count": 156,
   "metadata": {},
   "outputs": [],
   "source": [
    "true_negative = 0\n",
    "false_negative = 0\n",
    "for i in range(X.shape[0]):\n",
    "    if list(X[i]) in c2.tolist():\n",
    "        if y[i] == 'Yes':\n",
    "            false_negative+=1\n",
    "        else:\n",
    "            true_negative+=1"
   ]
  },
  {
   "cell_type": "code",
   "execution_count": 157,
   "metadata": {},
   "outputs": [
    {
     "data": {
      "text/plain": [
       "6"
      ]
     },
     "execution_count": 157,
     "metadata": {},
     "output_type": "execute_result"
    }
   ],
   "source": [
    "true_positive"
   ]
  },
  {
   "cell_type": "code",
   "execution_count": 158,
   "metadata": {},
   "outputs": [
    {
     "data": {
      "text/plain": [
       "0"
      ]
     },
     "execution_count": 158,
     "metadata": {},
     "output_type": "execute_result"
    }
   ],
   "source": [
    "false_positive"
   ]
  },
  {
   "cell_type": "code",
   "execution_count": 159,
   "metadata": {},
   "outputs": [
    {
     "data": {
      "text/plain": [
       "55"
      ]
     },
     "execution_count": 159,
     "metadata": {},
     "output_type": "execute_result"
    }
   ],
   "source": [
    "true_negative"
   ]
  },
  {
   "cell_type": "code",
   "execution_count": 160,
   "metadata": {},
   "outputs": [
    {
     "data": {
      "text/plain": [
       "49"
      ]
     },
     "execution_count": 160,
     "metadata": {},
     "output_type": "execute_result"
    }
   ],
   "source": [
    "false_negative"
   ]
  },
  {
   "cell_type": "code",
   "execution_count": null,
   "metadata": {},
   "outputs": [],
   "source": []
  },
  {
   "cell_type": "code",
   "execution_count": null,
   "metadata": {},
   "outputs": [],
   "source": []
  },
  {
   "cell_type": "code",
   "execution_count": 88,
   "metadata": {},
   "outputs": [],
   "source": [
    "# The distribution of clusters in the compted data"
   ]
  },
  {
   "cell_type": "code",
   "execution_count": 89,
   "metadata": {},
   "outputs": [
    {
     "name": "stdout",
     "output_type": "stream",
     "text": [
      "['Yes' 'Yes' 'Yes' 'Yes' 'Yes' 'Yes' 'Yes' 'Yes' 'Yes' 'Yes' 'Yes' 'Yes'\n",
      " 'Yes' 'Yes' 'Yes' 'No' 'No' 'No' 'No' 'No' 'No' 'No' 'No' 'No' 'No' 'No'\n",
      " 'No' 'No' 'No' 'No' 'Yes' 'Yes' 'Yes' 'Yes' 'Yes' 'Yes' 'Yes' 'Yes' 'Yes'\n",
      " 'Yes' 'Yes' 'Yes' 'Yes' 'Yes' 'Yes' 'Yes' 'Yes' 'Yes' 'Yes' 'Yes' 'Yes'\n",
      " 'Yes' 'Yes' 'Yes' 'Yes' 'Yes' 'Yes' 'Yes' 'Yes' 'Yes' 'Yes' 'Yes' 'Yes'\n",
      " 'Yes' 'Yes' 'Yes' 'Yes' 'Yes' 'Yes' 'Yes' 'No' 'No' 'No' 'No' 'No' 'No'\n",
      " 'No' 'No' 'No' 'No' 'No' 'No' 'No' 'No' 'No' 'No' 'No' 'No' 'No' 'No'\n",
      " 'No' 'No' 'No' 'No' 'No' 'No' 'No' 'No' 'No' 'No' 'No' 'No' 'No' 'No'\n",
      " 'No' 'No' 'No' 'No' 'No' 'No']\n"
     ]
    }
   ],
   "source": [
    "print(y)"
   ]
  },
  {
   "cell_type": "code",
   "execution_count": null,
   "metadata": {},
   "outputs": [],
   "source": []
  },
  {
   "cell_type": "code",
   "execution_count": 161,
   "metadata": {},
   "outputs": [],
   "source": [
    "# Calculation of final accuracy in percentage"
   ]
  },
  {
   "cell_type": "code",
   "execution_count": null,
   "metadata": {},
   "outputs": [],
   "source": []
  },
  {
   "cell_type": "code",
   "execution_count": null,
   "metadata": {},
   "outputs": [],
   "source": []
  },
  {
   "cell_type": "code",
   "execution_count": null,
   "metadata": {},
   "outputs": [],
   "source": []
  }
 ],
 "metadata": {
  "kernelspec": {
   "display_name": "Python 3",
   "language": "python",
   "name": "python3"
  },
  "language_info": {
   "codemirror_mode": {
    "name": "ipython",
    "version": 3
   },
   "file_extension": ".py",
   "mimetype": "text/x-python",
   "name": "python",
   "nbconvert_exporter": "python",
   "pygments_lexer": "ipython3",
   "version": "3.8.5"
  }
 },
 "nbformat": 4,
 "nbformat_minor": 2
}
