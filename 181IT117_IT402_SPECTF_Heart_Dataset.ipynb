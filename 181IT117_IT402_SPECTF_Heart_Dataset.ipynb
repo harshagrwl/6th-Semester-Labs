{
 "cells": [
  {
   "cell_type": "code",
   "execution_count": 1,
   "metadata": {},
   "outputs": [],
   "source": [
    "# importing the basic libraries"
   ]
  },
  {
   "cell_type": "code",
   "execution_count": 2,
   "metadata": {},
   "outputs": [],
   "source": [
    "import numpy as np\n",
    "import pandas as pd\n",
    "import matplotlib.pyplot as plt\n",
    "import seaborn as sns\n",
    "from sklearn.preprocessing import StandardScaler"
   ]
  },
  {
   "cell_type": "code",
   "execution_count": 4,
   "metadata": {},
   "outputs": [],
   "source": [
    "# reading data from the file\n",
    "#Source: http://archive.ics.uci.edu/ml/datasets/SPECTF+Heart"
   ]
  },
  {
   "cell_type": "code",
   "execution_count": 4,
   "metadata": {},
   "outputs": [],
   "source": [
    "df = pd.read_csv('SPECTF_test.csv')"
   ]
  },
  {
   "cell_type": "code",
   "execution_count": 5,
   "metadata": {},
   "outputs": [
    {
     "data": {
      "text/html": [
       "<div>\n",
       "<style scoped>\n",
       "    .dataframe tbody tr th:only-of-type {\n",
       "        vertical-align: middle;\n",
       "    }\n",
       "\n",
       "    .dataframe tbody tr th {\n",
       "        vertical-align: top;\n",
       "    }\n",
       "\n",
       "    .dataframe thead th {\n",
       "        text-align: right;\n",
       "    }\n",
       "</style>\n",
       "<table border=\"1\" class=\"dataframe\">\n",
       "  <thead>\n",
       "    <tr style=\"text-align: right;\">\n",
       "      <th></th>\n",
       "      <th>Attr_1</th>\n",
       "      <th>Attr_2</th>\n",
       "      <th>Attr_3</th>\n",
       "      <th>Attr_4</th>\n",
       "      <th>Attr_5</th>\n",
       "      <th>Attr_6</th>\n",
       "      <th>Attr_7</th>\n",
       "      <th>Attr_8</th>\n",
       "      <th>Attr_9</th>\n",
       "      <th>Attr_10</th>\n",
       "      <th>...</th>\n",
       "      <th>Attr_36</th>\n",
       "      <th>Attr_37</th>\n",
       "      <th>Attr_38</th>\n",
       "      <th>Attr_39</th>\n",
       "      <th>Attr_40</th>\n",
       "      <th>Attr_41</th>\n",
       "      <th>Attr_42</th>\n",
       "      <th>Attr_43</th>\n",
       "      <th>Attr_44</th>\n",
       "      <th>Class</th>\n",
       "    </tr>\n",
       "  </thead>\n",
       "  <tbody>\n",
       "    <tr>\n",
       "      <th>0</th>\n",
       "      <td>32</td>\n",
       "      <td>41</td>\n",
       "      <td>76</td>\n",
       "      <td>34</td>\n",
       "      <td>65</td>\n",
       "      <td>53</td>\n",
       "      <td>30</td>\n",
       "      <td>54</td>\n",
       "      <td>16</td>\n",
       "      <td>51</td>\n",
       "      <td>...</td>\n",
       "      <td>43</td>\n",
       "      <td>67</td>\n",
       "      <td>61</td>\n",
       "      <td>29</td>\n",
       "      <td>31</td>\n",
       "      <td>17</td>\n",
       "      <td>8</td>\n",
       "      <td>18</td>\n",
       "      <td>11</td>\n",
       "      <td>Yes</td>\n",
       "    </tr>\n",
       "    <tr>\n",
       "      <th>1</th>\n",
       "      <td>76</td>\n",
       "      <td>65</td>\n",
       "      <td>60</td>\n",
       "      <td>40</td>\n",
       "      <td>32</td>\n",
       "      <td>34</td>\n",
       "      <td>65</td>\n",
       "      <td>50</td>\n",
       "      <td>53</td>\n",
       "      <td>37</td>\n",
       "      <td>...</td>\n",
       "      <td>51</td>\n",
       "      <td>65</td>\n",
       "      <td>59</td>\n",
       "      <td>43</td>\n",
       "      <td>39</td>\n",
       "      <td>35</td>\n",
       "      <td>30</td>\n",
       "      <td>24</td>\n",
       "      <td>21</td>\n",
       "      <td>Yes</td>\n",
       "    </tr>\n",
       "    <tr>\n",
       "      <th>2</th>\n",
       "      <td>60</td>\n",
       "      <td>51</td>\n",
       "      <td>75</td>\n",
       "      <td>60</td>\n",
       "      <td>65</td>\n",
       "      <td>45</td>\n",
       "      <td>64</td>\n",
       "      <td>55</td>\n",
       "      <td>55</td>\n",
       "      <td>61</td>\n",
       "      <td>...</td>\n",
       "      <td>68</td>\n",
       "      <td>69</td>\n",
       "      <td>63</td>\n",
       "      <td>62</td>\n",
       "      <td>53</td>\n",
       "      <td>57</td>\n",
       "      <td>31</td>\n",
       "      <td>46</td>\n",
       "      <td>30</td>\n",
       "      <td>Yes</td>\n",
       "    </tr>\n",
       "    <tr>\n",
       "      <th>3</th>\n",
       "      <td>64</td>\n",
       "      <td>60</td>\n",
       "      <td>71</td>\n",
       "      <td>69</td>\n",
       "      <td>71</td>\n",
       "      <td>65</td>\n",
       "      <td>66</td>\n",
       "      <td>64</td>\n",
       "      <td>68</td>\n",
       "      <td>59</td>\n",
       "      <td>...</td>\n",
       "      <td>55</td>\n",
       "      <td>66</td>\n",
       "      <td>58</td>\n",
       "      <td>65</td>\n",
       "      <td>65</td>\n",
       "      <td>75</td>\n",
       "      <td>64</td>\n",
       "      <td>61</td>\n",
       "      <td>56</td>\n",
       "      <td>Yes</td>\n",
       "    </tr>\n",
       "    <tr>\n",
       "      <th>4</th>\n",
       "      <td>65</td>\n",
       "      <td>69</td>\n",
       "      <td>66</td>\n",
       "      <td>76</td>\n",
       "      <td>58</td>\n",
       "      <td>67</td>\n",
       "      <td>65</td>\n",
       "      <td>72</td>\n",
       "      <td>66</td>\n",
       "      <td>64</td>\n",
       "      <td>...</td>\n",
       "      <td>64</td>\n",
       "      <td>71</td>\n",
       "      <td>70</td>\n",
       "      <td>72</td>\n",
       "      <td>69</td>\n",
       "      <td>70</td>\n",
       "      <td>65</td>\n",
       "      <td>63</td>\n",
       "      <td>61</td>\n",
       "      <td>Yes</td>\n",
       "    </tr>\n",
       "  </tbody>\n",
       "</table>\n",
       "<p>5 rows × 45 columns</p>\n",
       "</div>"
      ],
      "text/plain": [
       "   Attr_1  Attr_2  Attr_3  Attr_4  Attr_5  Attr_6  Attr_7  Attr_8  Attr_9  \\\n",
       "0      32      41      76      34      65      53      30      54      16   \n",
       "1      76      65      60      40      32      34      65      50      53   \n",
       "2      60      51      75      60      65      45      64      55      55   \n",
       "3      64      60      71      69      71      65      66      64      68   \n",
       "4      65      69      66      76      58      67      65      72      66   \n",
       "\n",
       "   Attr_10  ...  Attr_36  Attr_37  Attr_38  Attr_39  Attr_40  Attr_41  \\\n",
       "0       51  ...       43       67       61       29       31       17   \n",
       "1       37  ...       51       65       59       43       39       35   \n",
       "2       61  ...       68       69       63       62       53       57   \n",
       "3       59  ...       55       66       58       65       65       75   \n",
       "4       64  ...       64       71       70       72       69       70   \n",
       "\n",
       "   Attr_42  Attr_43  Attr_44  Class  \n",
       "0        8       18       11    Yes  \n",
       "1       30       24       21    Yes  \n",
       "2       31       46       30    Yes  \n",
       "3       64       61       56    Yes  \n",
       "4       65       63       61    Yes  \n",
       "\n",
       "[5 rows x 45 columns]"
      ]
     },
     "execution_count": 5,
     "metadata": {},
     "output_type": "execute_result"
    }
   ],
   "source": [
    "df.head()"
   ]
  },
  {
   "cell_type": "code",
   "execution_count": null,
   "metadata": {},
   "outputs": [],
   "source": []
  },
  {
   "cell_type": "code",
   "execution_count": null,
   "metadata": {},
   "outputs": [],
   "source": []
  },
  {
   "cell_type": "code",
   "execution_count": null,
   "metadata": {},
   "outputs": [],
   "source": []
  },
  {
   "cell_type": "code",
   "execution_count": null,
   "metadata": {},
   "outputs": [],
   "source": []
  },
  {
   "cell_type": "code",
   "execution_count": null,
   "metadata": {},
   "outputs": [],
   "source": []
  },
  {
   "cell_type": "code",
   "execution_count": null,
   "metadata": {},
   "outputs": [],
   "source": []
  },
  {
   "cell_type": "code",
   "execution_count": 6,
   "metadata": {},
   "outputs": [
    {
     "data": {
      "text/html": [
       "<div>\n",
       "<style scoped>\n",
       "    .dataframe tbody tr th:only-of-type {\n",
       "        vertical-align: middle;\n",
       "    }\n",
       "\n",
       "    .dataframe tbody tr th {\n",
       "        vertical-align: top;\n",
       "    }\n",
       "\n",
       "    .dataframe thead th {\n",
       "        text-align: right;\n",
       "    }\n",
       "</style>\n",
       "<table border=\"1\" class=\"dataframe\">\n",
       "  <thead>\n",
       "    <tr style=\"text-align: right;\">\n",
       "      <th></th>\n",
       "      <th>Attr_1</th>\n",
       "      <th>Attr_2</th>\n",
       "      <th>Attr_3</th>\n",
       "      <th>Attr_4</th>\n",
       "      <th>Attr_5</th>\n",
       "      <th>Attr_6</th>\n",
       "      <th>Attr_7</th>\n",
       "      <th>Attr_8</th>\n",
       "      <th>Attr_9</th>\n",
       "      <th>Attr_10</th>\n",
       "      <th>...</th>\n",
       "      <th>Attr_36</th>\n",
       "      <th>Attr_37</th>\n",
       "      <th>Attr_38</th>\n",
       "      <th>Attr_39</th>\n",
       "      <th>Attr_40</th>\n",
       "      <th>Attr_41</th>\n",
       "      <th>Attr_42</th>\n",
       "      <th>Attr_43</th>\n",
       "      <th>Attr_44</th>\n",
       "      <th>Class</th>\n",
       "    </tr>\n",
       "  </thead>\n",
       "  <tbody>\n",
       "    <tr>\n",
       "      <th>105</th>\n",
       "      <td>70</td>\n",
       "      <td>75</td>\n",
       "      <td>72</td>\n",
       "      <td>72</td>\n",
       "      <td>67</td>\n",
       "      <td>71</td>\n",
       "      <td>71</td>\n",
       "      <td>78</td>\n",
       "      <td>63</td>\n",
       "      <td>67</td>\n",
       "      <td>...</td>\n",
       "      <td>67</td>\n",
       "      <td>68</td>\n",
       "      <td>70</td>\n",
       "      <td>70</td>\n",
       "      <td>71</td>\n",
       "      <td>64</td>\n",
       "      <td>67</td>\n",
       "      <td>56</td>\n",
       "      <td>54</td>\n",
       "      <td>No</td>\n",
       "    </tr>\n",
       "    <tr>\n",
       "      <th>106</th>\n",
       "      <td>59</td>\n",
       "      <td>57</td>\n",
       "      <td>67</td>\n",
       "      <td>71</td>\n",
       "      <td>66</td>\n",
       "      <td>68</td>\n",
       "      <td>68</td>\n",
       "      <td>70</td>\n",
       "      <td>56</td>\n",
       "      <td>62</td>\n",
       "      <td>...</td>\n",
       "      <td>64</td>\n",
       "      <td>56</td>\n",
       "      <td>53</td>\n",
       "      <td>71</td>\n",
       "      <td>68</td>\n",
       "      <td>64</td>\n",
       "      <td>63</td>\n",
       "      <td>56</td>\n",
       "      <td>56</td>\n",
       "      <td>No</td>\n",
       "    </tr>\n",
       "    <tr>\n",
       "      <th>107</th>\n",
       "      <td>67</td>\n",
       "      <td>64</td>\n",
       "      <td>73</td>\n",
       "      <td>75</td>\n",
       "      <td>77</td>\n",
       "      <td>77</td>\n",
       "      <td>74</td>\n",
       "      <td>70</td>\n",
       "      <td>65</td>\n",
       "      <td>62</td>\n",
       "      <td>...</td>\n",
       "      <td>64</td>\n",
       "      <td>65</td>\n",
       "      <td>60</td>\n",
       "      <td>68</td>\n",
       "      <td>75</td>\n",
       "      <td>74</td>\n",
       "      <td>80</td>\n",
       "      <td>67</td>\n",
       "      <td>68</td>\n",
       "      <td>No</td>\n",
       "    </tr>\n",
       "    <tr>\n",
       "      <th>108</th>\n",
       "      <td>68</td>\n",
       "      <td>65</td>\n",
       "      <td>72</td>\n",
       "      <td>72</td>\n",
       "      <td>47</td>\n",
       "      <td>74</td>\n",
       "      <td>76</td>\n",
       "      <td>74</td>\n",
       "      <td>67</td>\n",
       "      <td>66</td>\n",
       "      <td>...</td>\n",
       "      <td>69</td>\n",
       "      <td>71</td>\n",
       "      <td>73</td>\n",
       "      <td>73</td>\n",
       "      <td>75</td>\n",
       "      <td>68</td>\n",
       "      <td>56</td>\n",
       "      <td>58</td>\n",
       "      <td>44</td>\n",
       "      <td>No</td>\n",
       "    </tr>\n",
       "    <tr>\n",
       "      <th>109</th>\n",
       "      <td>66</td>\n",
       "      <td>54</td>\n",
       "      <td>69</td>\n",
       "      <td>66</td>\n",
       "      <td>69</td>\n",
       "      <td>69</td>\n",
       "      <td>75</td>\n",
       "      <td>72</td>\n",
       "      <td>63</td>\n",
       "      <td>62</td>\n",
       "      <td>...</td>\n",
       "      <td>65</td>\n",
       "      <td>65</td>\n",
       "      <td>64</td>\n",
       "      <td>67</td>\n",
       "      <td>69</td>\n",
       "      <td>71</td>\n",
       "      <td>68</td>\n",
       "      <td>59</td>\n",
       "      <td>59</td>\n",
       "      <td>No</td>\n",
       "    </tr>\n",
       "  </tbody>\n",
       "</table>\n",
       "<p>5 rows × 45 columns</p>\n",
       "</div>"
      ],
      "text/plain": [
       "     Attr_1  Attr_2  Attr_3  Attr_4  Attr_5  Attr_6  Attr_7  Attr_8  Attr_9  \\\n",
       "105      70      75      72      72      67      71      71      78      63   \n",
       "106      59      57      67      71      66      68      68      70      56   \n",
       "107      67      64      73      75      77      77      74      70      65   \n",
       "108      68      65      72      72      47      74      76      74      67   \n",
       "109      66      54      69      66      69      69      75      72      63   \n",
       "\n",
       "     Attr_10  ...  Attr_36  Attr_37  Attr_38  Attr_39  Attr_40  Attr_41  \\\n",
       "105       67  ...       67       68       70       70       71       64   \n",
       "106       62  ...       64       56       53       71       68       64   \n",
       "107       62  ...       64       65       60       68       75       74   \n",
       "108       66  ...       69       71       73       73       75       68   \n",
       "109       62  ...       65       65       64       67       69       71   \n",
       "\n",
       "     Attr_42  Attr_43  Attr_44  Class  \n",
       "105       67       56       54     No  \n",
       "106       63       56       56     No  \n",
       "107       80       67       68     No  \n",
       "108       56       58       44     No  \n",
       "109       68       59       59     No  \n",
       "\n",
       "[5 rows x 45 columns]"
      ]
     },
     "execution_count": 6,
     "metadata": {},
     "output_type": "execute_result"
    }
   ],
   "source": [
    "df.tail()"
   ]
  },
  {
   "cell_type": "code",
   "execution_count": null,
   "metadata": {},
   "outputs": [],
   "source": []
  },
  {
   "cell_type": "code",
   "execution_count": null,
   "metadata": {},
   "outputs": [],
   "source": []
  },
  {
   "cell_type": "code",
   "execution_count": null,
   "metadata": {},
   "outputs": [],
   "source": []
  },
  {
   "cell_type": "code",
   "execution_count": 86,
   "metadata": {},
   "outputs": [],
   "source": [
    "# identifying the number of categories available"
   ]
  },
  {
   "cell_type": "code",
   "execution_count": 87,
   "metadata": {},
   "outputs": [],
   "source": [
    "y = df['Class'].values"
   ]
  },
  {
   "cell_type": "code",
   "execution_count": 88,
   "metadata": {},
   "outputs": [
    {
     "data": {
      "text/plain": [
       "Yes    55\n",
       "No     55\n",
       "Name: Class, dtype: int64"
      ]
     },
     "execution_count": 88,
     "metadata": {},
     "output_type": "execute_result"
    }
   ],
   "source": [
    "df['Class'].value_counts()"
   ]
  },
  {
   "cell_type": "code",
   "execution_count": 89,
   "metadata": {},
   "outputs": [],
   "source": [
    "# since there are 2 categories we are going to using k = 2."
   ]
  },
  {
   "cell_type": "code",
   "execution_count": 90,
   "metadata": {},
   "outputs": [
    {
     "data": {
      "text/plain": [
       "(110,)"
      ]
     },
     "execution_count": 90,
     "metadata": {},
     "output_type": "execute_result"
    }
   ],
   "source": [
    "y.shape"
   ]
  },
  {
   "cell_type": "code",
   "execution_count": 91,
   "metadata": {},
   "outputs": [],
   "source": [
    "X = df.drop(['Class'],axis = 1).values"
   ]
  },
  {
   "cell_type": "code",
   "execution_count": 15,
   "metadata": {},
   "outputs": [
    {
     "data": {
      "text/plain": [
       "array([[32, 41, 76, 34, 65, 53, 30, 54, 16, 51, 61, 43, 74, 70, 62, 21,\n",
       "        34, 42, 61, 37, 58, 66, 54, 49, 17, 19, 11, 42, 53, 30, 71,  9,\n",
       "        61, 16, 31, 43, 67, 61, 29, 31, 17,  8, 18, 11],\n",
       "       [76, 65, 60, 40, 32, 34, 65, 50, 53, 37, 66, 53, 33, 31, 30, 30,\n",
       "        69, 75, 64, 45, 68, 65, 57, 43, 23, 23, 53, 77, 48, 32, 55, 32,\n",
       "        48, 23, 62, 51, 65, 59, 43, 39, 35, 30, 24, 21],\n",
       "       [60, 51, 75, 60, 65, 45, 64, 55, 55, 61, 66, 74, 61, 50, 62, 41,\n",
       "        70, 63, 60, 62, 76, 69, 70, 54, 51, 47, 77, 80, 69, 48, 74, 59,\n",
       "        72, 57, 76, 68, 69, 63, 62, 53, 57, 31, 46, 30],\n",
       "       [64, 60, 71, 69, 71, 65, 66, 64, 68, 59, 63, 67, 68, 64, 73, 59,\n",
       "        73, 60, 72, 56, 77, 68, 69, 69, 66, 59, 57, 40, 55, 53, 69, 63,\n",
       "        71, 63, 66, 55, 66, 58, 65, 65, 75, 64, 61, 56],\n",
       "       [65, 69, 66, 76, 58, 67, 65, 72, 66, 64, 77, 75, 64, 62, 63, 59,\n",
       "        71, 61, 67, 45, 74, 45, 66, 46, 64, 48, 62, 27, 65, 67, 72, 72,\n",
       "        62, 66, 71, 64, 71, 70, 72, 69, 70, 65, 63, 61],\n",
       "       [71, 76, 74, 79, 71, 69, 77, 75, 64, 64, 75, 78, 69, 70, 59, 52,\n",
       "        71, 62, 47, 50, 68, 65, 67, 62, 56, 48, 58, 50, 65, 63, 75, 75,\n",
       "        64, 62, 60, 56, 64, 63, 61, 65, 64, 58, 51, 38],\n",
       "       [55, 66, 58, 75, 71, 77, 68, 73, 63, 69, 77, 78, 60, 69, 59, 60,\n",
       "        69, 69, 67, 70, 72, 80, 67, 72, 53, 60, 70, 58, 46, 67, 68, 84,\n",
       "        69, 79, 70, 74, 62, 71, 67, 66, 63, 61, 53, 60],\n",
       "       [76, 77, 69, 70, 64, 69, 76, 80, 50, 56, 70, 74, 61, 55, 54, 59,\n",
       "        65, 65, 53, 72, 76, 73, 51, 47, 43, 46, 66, 80, 73, 73, 71, 65,\n",
       "        60, 53, 69, 70, 54, 62, 64, 66, 51, 42, 28, 22],\n",
       "       [70, 72, 65, 64, 71, 69, 75, 76, 65, 68, 69, 79, 65, 74, 62, 67,\n",
       "        73, 73, 53, 51, 72, 69, 74, 68, 49, 44, 52, 48, 65, 68, 64, 72,\n",
       "        57, 58, 66, 69, 64, 69, 76, 73, 66, 69, 50, 53],\n",
       "       [64, 72, 70, 74, 63, 70, 73, 74, 61, 69, 65, 75, 61, 71, 65, 67,\n",
       "        73, 69, 72, 71, 74, 81, 69, 69, 65, 65, 78, 75, 67, 71, 66, 74,\n",
       "        54, 60, 64, 68, 64, 68, 69, 71, 65, 65, 56, 58]], dtype=int64)"
      ]
     },
     "execution_count": 15,
     "metadata": {},
     "output_type": "execute_result"
    }
   ],
   "source": [
    "X[:10]"
   ]
  },
  {
   "cell_type": "code",
   "execution_count": 16,
   "metadata": {},
   "outputs": [
    {
     "data": {
      "text/plain": [
       "110"
      ]
     },
     "execution_count": 16,
     "metadata": {},
     "output_type": "execute_result"
    }
   ],
   "source": [
    "# distance calculator\n",
    "y.size"
   ]
  },
  {
   "cell_type": "code",
   "execution_count": 18,
   "metadata": {},
   "outputs": [
    {
     "name": "stdout",
     "output_type": "stream",
     "text": [
      "[[32 41 76 ...  8 18 11]\n",
      " [76 65 60 ... 30 24 21]\n",
      " [60 51 75 ... 31 46 30]\n",
      " ...\n",
      " [67 64 73 ... 80 67 68]\n",
      " [68 65 72 ... 56 58 44]\n",
      " [66 54 69 ... 68 59 59]]\n"
     ]
    }
   ],
   "source": [
    "print(X)"
   ]
  },
  {
   "cell_type": "code",
   "execution_count": null,
   "metadata": {},
   "outputs": [],
   "source": []
  },
  {
   "cell_type": "code",
   "execution_count": 181,
   "metadata": {},
   "outputs": [
    {
     "name": "stdout",
     "output_type": "stream",
     "text": [
      "[[32 41 76 ...  8 18 11]\n",
      " [76 65 60 ... 30 24 21]\n",
      " [60 51 75 ... 31 46 30]\n",
      " ...\n",
      " [67 64 73 ... 80 67 68]\n",
      " [68 65 72 ... 56 58 44]\n",
      " [66 54 69 ... 68 59 59]]\n"
     ]
    }
   ],
   "source": [
    "print(X)"
   ]
  },
  {
   "cell_type": "code",
   "execution_count": null,
   "metadata": {},
   "outputs": [],
   "source": []
  },
  {
   "cell_type": "code",
   "execution_count": 182,
   "metadata": {},
   "outputs": [],
   "source": [
    "# distance between 2 points\n",
    "def distance(p1,p2):\n",
    "    \n",
    "    return np.linalg.norm(p1 - p2)"
   ]
  },
  {
   "cell_type": "code",
   "execution_count": 183,
   "metadata": {},
   "outputs": [],
   "source": [
    "# calculating centroid "
   ]
  },
  {
   "cell_type": "code",
   "execution_count": 184,
   "metadata": {},
   "outputs": [],
   "source": [
    "# centroid of a cluster\n",
    "def centroid(cluster):\n",
    "    \n",
    "    length = cluster.shape[0]\n",
    "    c = [None]*44\n",
    "    for i in range(44):\n",
    "        c[i] = np.sum(cluster[:,i])\n",
    "        c[i] = c[i]/length\n",
    "    \n",
    "    \n",
    "    # c0, c1, c2, c3 = c0/length , c1/length , c2/length , c3/length \n",
    "       \n",
    "    return np.array(c)\n"
   ]
  },
  {
   "cell_type": "code",
   "execution_count": 185,
   "metadata": {},
   "outputs": [
    {
     "data": {
      "text/html": [
       "<div>\n",
       "<style scoped>\n",
       "    .dataframe tbody tr th:only-of-type {\n",
       "        vertical-align: middle;\n",
       "    }\n",
       "\n",
       "    .dataframe tbody tr th {\n",
       "        vertical-align: top;\n",
       "    }\n",
       "\n",
       "    .dataframe thead th {\n",
       "        text-align: right;\n",
       "    }\n",
       "</style>\n",
       "<table border=\"1\" class=\"dataframe\">\n",
       "  <thead>\n",
       "    <tr style=\"text-align: right;\">\n",
       "      <th></th>\n",
       "      <th>Attr_1</th>\n",
       "      <th>Attr_2</th>\n",
       "      <th>Attr_3</th>\n",
       "      <th>Attr_4</th>\n",
       "      <th>Attr_5</th>\n",
       "      <th>Attr_6</th>\n",
       "      <th>Attr_7</th>\n",
       "      <th>Attr_8</th>\n",
       "      <th>Attr_9</th>\n",
       "      <th>Attr_10</th>\n",
       "      <th>...</th>\n",
       "      <th>Attr_36</th>\n",
       "      <th>Attr_37</th>\n",
       "      <th>Attr_38</th>\n",
       "      <th>Attr_39</th>\n",
       "      <th>Attr_40</th>\n",
       "      <th>Attr_41</th>\n",
       "      <th>Attr_42</th>\n",
       "      <th>Attr_43</th>\n",
       "      <th>Attr_44</th>\n",
       "      <th>Class</th>\n",
       "    </tr>\n",
       "  </thead>\n",
       "  <tbody>\n",
       "    <tr>\n",
       "      <th>0</th>\n",
       "      <td>32</td>\n",
       "      <td>41</td>\n",
       "      <td>76</td>\n",
       "      <td>34</td>\n",
       "      <td>65</td>\n",
       "      <td>53</td>\n",
       "      <td>30</td>\n",
       "      <td>54</td>\n",
       "      <td>16</td>\n",
       "      <td>51</td>\n",
       "      <td>...</td>\n",
       "      <td>43</td>\n",
       "      <td>67</td>\n",
       "      <td>61</td>\n",
       "      <td>29</td>\n",
       "      <td>31</td>\n",
       "      <td>17</td>\n",
       "      <td>8</td>\n",
       "      <td>18</td>\n",
       "      <td>11</td>\n",
       "      <td>Yes</td>\n",
       "    </tr>\n",
       "    <tr>\n",
       "      <th>1</th>\n",
       "      <td>76</td>\n",
       "      <td>65</td>\n",
       "      <td>60</td>\n",
       "      <td>40</td>\n",
       "      <td>32</td>\n",
       "      <td>34</td>\n",
       "      <td>65</td>\n",
       "      <td>50</td>\n",
       "      <td>53</td>\n",
       "      <td>37</td>\n",
       "      <td>...</td>\n",
       "      <td>51</td>\n",
       "      <td>65</td>\n",
       "      <td>59</td>\n",
       "      <td>43</td>\n",
       "      <td>39</td>\n",
       "      <td>35</td>\n",
       "      <td>30</td>\n",
       "      <td>24</td>\n",
       "      <td>21</td>\n",
       "      <td>Yes</td>\n",
       "    </tr>\n",
       "    <tr>\n",
       "      <th>2</th>\n",
       "      <td>60</td>\n",
       "      <td>51</td>\n",
       "      <td>75</td>\n",
       "      <td>60</td>\n",
       "      <td>65</td>\n",
       "      <td>45</td>\n",
       "      <td>64</td>\n",
       "      <td>55</td>\n",
       "      <td>55</td>\n",
       "      <td>61</td>\n",
       "      <td>...</td>\n",
       "      <td>68</td>\n",
       "      <td>69</td>\n",
       "      <td>63</td>\n",
       "      <td>62</td>\n",
       "      <td>53</td>\n",
       "      <td>57</td>\n",
       "      <td>31</td>\n",
       "      <td>46</td>\n",
       "      <td>30</td>\n",
       "      <td>Yes</td>\n",
       "    </tr>\n",
       "    <tr>\n",
       "      <th>3</th>\n",
       "      <td>64</td>\n",
       "      <td>60</td>\n",
       "      <td>71</td>\n",
       "      <td>69</td>\n",
       "      <td>71</td>\n",
       "      <td>65</td>\n",
       "      <td>66</td>\n",
       "      <td>64</td>\n",
       "      <td>68</td>\n",
       "      <td>59</td>\n",
       "      <td>...</td>\n",
       "      <td>55</td>\n",
       "      <td>66</td>\n",
       "      <td>58</td>\n",
       "      <td>65</td>\n",
       "      <td>65</td>\n",
       "      <td>75</td>\n",
       "      <td>64</td>\n",
       "      <td>61</td>\n",
       "      <td>56</td>\n",
       "      <td>Yes</td>\n",
       "    </tr>\n",
       "    <tr>\n",
       "      <th>4</th>\n",
       "      <td>65</td>\n",
       "      <td>69</td>\n",
       "      <td>66</td>\n",
       "      <td>76</td>\n",
       "      <td>58</td>\n",
       "      <td>67</td>\n",
       "      <td>65</td>\n",
       "      <td>72</td>\n",
       "      <td>66</td>\n",
       "      <td>64</td>\n",
       "      <td>...</td>\n",
       "      <td>64</td>\n",
       "      <td>71</td>\n",
       "      <td>70</td>\n",
       "      <td>72</td>\n",
       "      <td>69</td>\n",
       "      <td>70</td>\n",
       "      <td>65</td>\n",
       "      <td>63</td>\n",
       "      <td>61</td>\n",
       "      <td>Yes</td>\n",
       "    </tr>\n",
       "  </tbody>\n",
       "</table>\n",
       "<p>5 rows × 45 columns</p>\n",
       "</div>"
      ],
      "text/plain": [
       "   Attr_1  Attr_2  Attr_3  Attr_4  Attr_5  Attr_6  Attr_7  Attr_8  Attr_9  \\\n",
       "0      32      41      76      34      65      53      30      54      16   \n",
       "1      76      65      60      40      32      34      65      50      53   \n",
       "2      60      51      75      60      65      45      64      55      55   \n",
       "3      64      60      71      69      71      65      66      64      68   \n",
       "4      65      69      66      76      58      67      65      72      66   \n",
       "\n",
       "   Attr_10  ...  Attr_36  Attr_37  Attr_38  Attr_39  Attr_40  Attr_41  \\\n",
       "0       51  ...       43       67       61       29       31       17   \n",
       "1       37  ...       51       65       59       43       39       35   \n",
       "2       61  ...       68       69       63       62       53       57   \n",
       "3       59  ...       55       66       58       65       65       75   \n",
       "4       64  ...       64       71       70       72       69       70   \n",
       "\n",
       "   Attr_42  Attr_43  Attr_44  Class  \n",
       "0        8       18       11    Yes  \n",
       "1       30       24       21    Yes  \n",
       "2       31       46       30    Yes  \n",
       "3       64       61       56    Yes  \n",
       "4       65       63       61    Yes  \n",
       "\n",
       "[5 rows x 45 columns]"
      ]
     },
     "execution_count": 185,
     "metadata": {},
     "output_type": "execute_result"
    }
   ],
   "source": [
    "df.head()"
   ]
  },
  {
   "cell_type": "code",
   "execution_count": null,
   "metadata": {},
   "outputs": [],
   "source": []
  },
  {
   "cell_type": "code",
   "execution_count": 186,
   "metadata": {},
   "outputs": [],
   "source": [
    "# Assigning random cluster centers initially"
   ]
  },
  {
   "cell_type": "code",
   "execution_count": 420,
   "metadata": {},
   "outputs": [],
   "source": [
    "c1 = X[14].copy()\n",
    "c2 = X[72].copy()\n",
    "c1 = c1.reshape(1,44)\n",
    "c2 = c2.reshape(1,44)"
   ]
  },
  {
   "cell_type": "code",
   "execution_count": 421,
   "metadata": {},
   "outputs": [],
   "source": [
    "# cluster 1"
   ]
  },
  {
   "cell_type": "code",
   "execution_count": 422,
   "metadata": {},
   "outputs": [
    {
     "data": {
      "text/plain": [
       "array([[40, 73, 61, 74, 61, 67, 56, 75, 64, 71, 75, 76, 63, 61, 56, 67,\n",
       "        70, 73, 69, 60, 74, 63, 65, 73, 57, 63, 66, 69, 60, 66, 72, 71,\n",
       "        57, 64, 64, 69, 67, 68, 59, 66, 55, 62, 51, 60]], dtype=int64)"
      ]
     },
     "execution_count": 422,
     "metadata": {},
     "output_type": "execute_result"
    }
   ],
   "source": [
    "c1"
   ]
  },
  {
   "cell_type": "code",
   "execution_count": 423,
   "metadata": {},
   "outputs": [],
   "source": [
    "# cluster 2"
   ]
  },
  {
   "cell_type": "code",
   "execution_count": 424,
   "metadata": {},
   "outputs": [
    {
     "data": {
      "text/plain": [
       "array([[59, 68, 69, 67, 69, 59, 78, 73, 66, 65, 77, 73, 74, 66, 66, 55,\n",
       "        71, 66, 69, 68, 75, 73, 80, 79, 69, 65, 69, 66, 68, 65, 75, 71,\n",
       "        59, 61, 65, 64, 73, 71, 81, 75, 74, 65, 69, 66]], dtype=int64)"
      ]
     },
     "execution_count": 424,
     "metadata": {},
     "output_type": "execute_result"
    }
   ],
   "source": [
    "c2"
   ]
  },
  {
   "cell_type": "code",
   "execution_count": 425,
   "metadata": {},
   "outputs": [
    {
     "name": "stdout",
     "output_type": "stream",
     "text": [
      "[[32 41 76 ...  8 18 11]\n",
      " [76 65 60 ... 30 24 21]\n",
      " [60 51 75 ... 31 46 30]\n",
      " ...\n",
      " [67 64 73 ... 80 67 68]\n",
      " [68 65 72 ... 56 58 44]\n",
      " [66 54 69 ... 68 59 59]]\n"
     ]
    }
   ],
   "source": [
    "print(X)\n"
   ]
  },
  {
   "cell_type": "code",
   "execution_count": null,
   "metadata": {},
   "outputs": [],
   "source": []
  },
  {
   "cell_type": "code",
   "execution_count": 426,
   "metadata": {},
   "outputs": [],
   "source": [
    "# centroids for each cluster"
   ]
  },
  {
   "cell_type": "code",
   "execution_count": 427,
   "metadata": {},
   "outputs": [],
   "source": [
    "centroid_1 = centroid(c1)\n",
    "centroid_2 = centroid(c2)"
   ]
  },
  {
   "cell_type": "code",
   "execution_count": 428,
   "metadata": {},
   "outputs": [
    {
     "data": {
      "text/plain": [
       "array([40., 73., 61., 74., 61., 67., 56., 75., 64., 71., 75., 76., 63.,\n",
       "       61., 56., 67., 70., 73., 69., 60., 74., 63., 65., 73., 57., 63.,\n",
       "       66., 69., 60., 66., 72., 71., 57., 64., 64., 69., 67., 68., 59.,\n",
       "       66., 55., 62., 51., 60.])"
      ]
     },
     "execution_count": 428,
     "metadata": {},
     "output_type": "execute_result"
    }
   ],
   "source": [
    "centroid_1"
   ]
  },
  {
   "cell_type": "code",
   "execution_count": 429,
   "metadata": {},
   "outputs": [
    {
     "data": {
      "text/plain": [
       "array([59., 68., 69., 67., 69., 59., 78., 73., 66., 65., 77., 73., 74.,\n",
       "       66., 66., 55., 71., 66., 69., 68., 75., 73., 80., 79., 69., 65.,\n",
       "       69., 66., 68., 65., 75., 71., 59., 61., 65., 64., 73., 71., 81.,\n",
       "       75., 74., 65., 69., 66.])"
      ]
     },
     "execution_count": 429,
     "metadata": {},
     "output_type": "execute_result"
    }
   ],
   "source": [
    "centroid_2"
   ]
  },
  {
   "cell_type": "code",
   "execution_count": null,
   "metadata": {},
   "outputs": [],
   "source": [
    "\n"
   ]
  },
  {
   "cell_type": "code",
   "execution_count": 430,
   "metadata": {},
   "outputs": [],
   "source": [
    "# making a numpy array for all the clusters for futher calculations"
   ]
  },
  {
   "cell_type": "code",
   "execution_count": 431,
   "metadata": {},
   "outputs": [],
   "source": [
    "cluster_centroid = np.array([centroid_1,centroid_2])"
   ]
  },
  {
   "cell_type": "code",
   "execution_count": 432,
   "metadata": {},
   "outputs": [
    {
     "data": {
      "text/plain": [
       "array([[40., 73., 61., 74., 61., 67., 56., 75., 64., 71., 75., 76., 63.,\n",
       "        61., 56., 67., 70., 73., 69., 60., 74., 63., 65., 73., 57., 63.,\n",
       "        66., 69., 60., 66., 72., 71., 57., 64., 64., 69., 67., 68., 59.,\n",
       "        66., 55., 62., 51., 60.],\n",
       "       [59., 68., 69., 67., 69., 59., 78., 73., 66., 65., 77., 73., 74.,\n",
       "        66., 66., 55., 71., 66., 69., 68., 75., 73., 80., 79., 69., 65.,\n",
       "        69., 66., 68., 65., 75., 71., 59., 61., 65., 64., 73., 71., 81.,\n",
       "        75., 74., 65., 69., 66.]])"
      ]
     },
     "execution_count": 432,
     "metadata": {},
     "output_type": "execute_result"
    }
   ],
   "source": [
    "cluster_centroid"
   ]
  },
  {
   "cell_type": "code",
   "execution_count": 433,
   "metadata": {},
   "outputs": [],
   "source": [
    "cluster_centroid = np.round(cluster_centroid,2)"
   ]
  },
  {
   "cell_type": "code",
   "execution_count": 434,
   "metadata": {},
   "outputs": [
    {
     "data": {
      "text/plain": [
       "array([[40., 73., 61., 74., 61., 67., 56., 75., 64., 71., 75., 76., 63.,\n",
       "        61., 56., 67., 70., 73., 69., 60., 74., 63., 65., 73., 57., 63.,\n",
       "        66., 69., 60., 66., 72., 71., 57., 64., 64., 69., 67., 68., 59.,\n",
       "        66., 55., 62., 51., 60.],\n",
       "       [59., 68., 69., 67., 69., 59., 78., 73., 66., 65., 77., 73., 74.,\n",
       "        66., 66., 55., 71., 66., 69., 68., 75., 73., 80., 79., 69., 65.,\n",
       "        69., 66., 68., 65., 75., 71., 59., 61., 65., 64., 73., 71., 81.,\n",
       "        75., 74., 65., 69., 66.]])"
      ]
     },
     "execution_count": 434,
     "metadata": {},
     "output_type": "execute_result"
    }
   ],
   "source": [
    "cluster_centroid"
   ]
  },
  {
   "cell_type": "code",
   "execution_count": null,
   "metadata": {},
   "outputs": [],
   "source": []
  },
  {
   "cell_type": "code",
   "execution_count": 435,
   "metadata": {},
   "outputs": [],
   "source": [
    "# iterative implementation of k-means"
   ]
  },
  {
   "cell_type": "code",
   "execution_count": 436,
   "metadata": {},
   "outputs": [
    {
     "name": "stdout",
     "output_type": "stream",
     "text": [
      "202.44999 223.23306\n",
      "111.62213 178.41525\n",
      "86.14071 93.44517\n",
      "102.74665 58.5662\n",
      "114.53547 58.89397\n",
      "97.16931 51.54178\n",
      "116.02748 54.39037\n",
      "87.45785 85.44191\n",
      "107.72825 39.29801\n",
      "115.71031 44.89557\n",
      "90.80129 92.70088\n",
      "113.14999 57.99744\n",
      "116.67185 46.14069\n",
      "94.64206 26.35261\n",
      "93.91869 46.52006\n",
      "139.69923 38.60645\n",
      "124.79333 40.43674\n",
      "127.98975 30.91735\n",
      "124.00151 32.58752\n",
      "146.1861 68.64202\n",
      "139.1757 37.27565\n",
      "122.20014 37.25496\n",
      "128.87348 45.89398\n",
      "137.18555 33.0983\n",
      "138.71509 37.89812\n",
      "126.12246 24.67483\n",
      "125.57816 38.81856\n",
      "145.64125 37.03161\n",
      "141.75463 33.05189\n",
      "126.94241 32.8237\n",
      "127.52402 42.37521\n",
      "138.82498 36.04127\n",
      "97.46217 60.48541\n",
      "126.70191 35.18406\n",
      "105.71601 62.95993\n",
      "133.55664 32.92248\n",
      "132.11879 27.07869\n",
      "115.05814 40.77403\n",
      "124.46636 44.57152\n",
      "100.20417 60.84641\n",
      "111.88331 40.44183\n",
      "145.71848 37.66492\n",
      "140.20654 53.70415\n",
      "129.82247 35.50326\n",
      "123.45799 26.89705\n",
      "106.30087 37.63335\n",
      "92.17036 85.87267\n",
      "123.91277 37.73365\n",
      "125.17937 37.31822\n",
      "132.26819 33.95037\n",
      "130.62303 51.93547\n",
      "132.47594 40.65753\n",
      "122.7696 52.92011\n",
      "162.60804 179.33443\n",
      "117.65322 132.74576\n",
      "115.47883 37.34002\n",
      "107.5997 50.8664\n",
      "101.47263 58.80955\n",
      "124.84535 34.99972\n",
      "120.03761 55.73078\n",
      "111.8825 44.26762\n",
      "68.59806 105.07264\n",
      "105.12286 103.71067\n",
      "90.7994 87.54161\n",
      "115.27465 34.14068\n",
      "122.28463 38.88905\n",
      "112.69726 46.36809\n",
      "93.82713 132.90088\n",
      "94.55 61.52305\n",
      "98.11831 41.81607\n",
      "114.98893 31.01366\n",
      "134.81822 37.14489\n",
      "127.44196 37.63898\n",
      "127.94316 33.48663\n",
      "133.73744 40.5077\n",
      "108.16517 44.3558\n",
      "130.3925 44.06776\n",
      "123.20391 33.56542\n",
      "128.00079 33.78195\n",
      "132.2666 44.27511\n",
      "133.49233 43.16397\n",
      "118.33936 35.91764\n",
      "122.46307 34.18056\n",
      "115.99764 26.09093\n",
      "119.88308 34.2559\n",
      "118.28019 31.29587\n",
      "129.12863 36.63426\n",
      "122.1053 35.05877\n",
      "130.13533 44.50457\n",
      "122.74141 34.69609\n",
      "128.04961 32.58613\n",
      "104.44354 40.36119\n",
      "117.21221 32.26554\n",
      "120.183 38.81808\n",
      "131.76951 33.94324\n",
      "125.20764 36.15984\n",
      "123.09022 29.37198\n",
      "125.0478 34.02556\n",
      "120.23291 31.1341\n",
      "125.31541 47.8806\n",
      "111.20793 36.96922\n",
      "121.86551 27.0214\n",
      "124.59917 40.0861\n",
      "126.06527 35.95058\n",
      "136.93412 38.70766\n",
      "114.03378 21.11514\n",
      "119.72136 48.05333\n",
      "127.4753 33.89053\n",
      "110.41039 45.84138\n",
      "115.21156 23.39301\n",
      "126.25452 210.49472\n",
      "80.30693 165.73516\n",
      "76.15578 83.74791\n",
      "101.75438 44.24051\n",
      "115.45 60.97787\n",
      "91.31102 49.46267\n",
      "115.96208 43.54383\n",
      "83.54611 81.01432\n",
      "105.06642 43.26715\n",
      "118.62421 30.84698\n",
      "88.59291 98.30458\n",
      "122.0244 48.21812\n",
      "124.6072 40.83596\n",
      "104.39566 28.88291\n",
      "107.47071 47.26652\n",
      "129.78715 29.76224\n",
      "115.95669 39.27888\n",
      "113.36315 26.51649\n",
      "113.16781 32.23241\n",
      "130.48545 67.29542\n",
      "129.23894 33.23574\n",
      "112.43644 33.87762\n",
      "116.24845 47.45345\n",
      "125.71576 31.46125\n",
      "126.03949 35.60633\n",
      "114.75715 21.36533\n",
      "120.3119 34.18615\n",
      "135.35307 34.52062\n",
      "130.70177 33.37292\n",
      "117.14821 29.38765\n",
      "113.00532 44.41898\n",
      "127.71238 34.8229\n",
      "95.00238 58.1616\n",
      "111.7551 34.31553\n",
      "93.41281 61.35837\n",
      "120.14139 33.92967\n",
      "121.50804 26.46616\n",
      "108.55622 41.89116\n",
      "110.94685 45.48181\n",
      "87.75365 61.24946\n",
      "103.59755 39.43233\n",
      "134.13129 37.2428\n",
      "130.40592 50.89808\n",
      "119.07856 37.28121\n",
      "112.21944 25.23821\n",
      "99.73943 40.11169\n",
      "86.43178 89.06446\n",
      "106.65532 40.6366\n",
      "112.84957 37.69467\n",
      "113.94454 29.16982\n",
      "117.34764 51.04363\n",
      "116.18626 39.69608\n",
      "109.9309 53.04077\n",
      "133.67258 182.2216\n",
      "106.9809 134.49056\n",
      "103.75839 36.92764\n",
      "93.20838 49.58308\n",
      "87.65033 58.43484\n",
      "117.56096 33.38964\n",
      "113.71124 55.82635\n",
      "108.13224 44.64022\n",
      "53.21886 108.17957\n",
      "95.42025 104.02607\n",
      "74.88571 89.99774\n",
      "99.38385 33.78314\n",
      "109.86671 36.31091\n",
      "99.31293 46.66361\n",
      "76.2756 138.33657\n",
      "82.62656 63.99769\n",
      "82.77606 46.63968\n",
      "103.71711 28.10653\n",
      "122.48437 30.98692\n",
      "115.73506 34.15277\n",
      "114.49876 28.50478\n",
      "121.43597 35.76689\n",
      "95.07635 45.37328\n",
      "118.29072 40.75719\n",
      "110.3357 30.91529\n",
      "116.48201 28.79091\n",
      "118.7873 41.93004\n",
      "121.06371 38.95539\n",
      "106.8451 34.11311\n",
      "108.38804 33.26261\n",
      "103.89971 24.48268\n",
      "105.81271 33.76026\n",
      "105.881 29.30487\n",
      "117.35093 33.28174\n",
      "108.11342 35.21073\n",
      "119.66113 41.39838\n",
      "111.03138 32.21044\n",
      "114.82225 31.2471\n",
      "94.61868 39.89047\n",
      "103.5162 32.72316\n",
      "108.39181 37.27034\n",
      "120.26472 30.62608\n",
      "114.50353 33.8302\n",
      "110.24833 28.09\n",
      "113.34286 31.61459\n",
      "107.71369 30.53541\n",
      "116.8533 45.35669\n",
      "100.87735 36.41855\n",
      "109.26641 25.43813\n",
      "115.39601 37.89389\n",
      "113.13975 34.98409\n",
      "125.07475 36.87636\n",
      "100.70372 21.39474\n",
      "109.79925 47.18058\n",
      "116.70189 32.23129\n",
      "96.91216 46.24547\n",
      "103.48194 22.54373\n",
      "137.00884 211.95682\n",
      "88.92419 167.3788\n",
      "65.69948 85.36935\n",
      "92.23125 44.50454\n",
      "103.96268 61.47963\n",
      "77.39488 51.00502\n",
      "103.40548 43.87145\n",
      "69.47899 82.84016\n",
      "89.45091 44.3708\n",
      "102.42623 30.87719\n",
      "74.9353 100.54998\n",
      "110.60048 47.29146\n",
      "112.15822 39.51895\n",
      "89.49748 29.59889\n",
      "93.66945 47.88264\n",
      "114.51477 28.1108\n",
      "101.89438 39.12868\n",
      "97.31203 26.83838\n",
      "99.13609 31.97372\n",
      "122.45938 66.07643\n",
      "113.09862 32.3396\n",
      "94.88484 34.97218\n",
      "103.06211 47.38372\n",
      "110.7157 30.30411\n",
      "112.54317 34.12302\n",
      "97.61215 21.96315\n",
      "104.24234 34.15231\n",
      "120.34242 32.58008\n",
      "117.37461 31.07615\n",
      "101.07488 29.44785\n",
      "103.27616 43.46207\n",
      "112.67563 33.73354\n",
      "75.51577 60.4837\n",
      "98.87011 33.86908\n",
      "79.07991 62.96057\n",
      "106.65895 32.90048\n",
      "105.83855 25.72128\n",
      "93.44053 42.64175\n",
      "98.05593 45.60112\n",
      "71.83174 63.24856\n",
      "85.24063 41.27623\n",
      "119.36205 35.59054\n",
      "114.83596 50.68281\n",
      "104.30627 37.02526\n",
      "96.81149 25.34321\n",
      "87.13667 40.69288\n",
      "74.22914 91.0513\n",
      "100.1597 40.03892\n",
      "105.12516 36.95492\n",
      "103.5107 29.02168\n",
      "110.61253 50.36492\n",
      "108.36035 38.87044\n",
      "103.64506 52.71479\n",
      "144.82506 182.69874\n",
      "110.61479 135.20058\n",
      "92.59841 37.80364\n",
      "78.29942 51.63187\n",
      "73.28573 60.43189\n",
      "109.52685 32.16019\n",
      "108.0307 55.27531\n",
      "100.83716 44.35585\n",
      "50.81468 109.95432\n",
      "77.15546 106.5124\n",
      "64.08561 91.60392\n",
      "95.92253 34.06645\n",
      "106.8073 36.27014\n",
      "96.62711 46.78776\n",
      "74.75604 139.02016\n",
      "80.30856 64.34024\n",
      "80.15484 46.96191\n",
      "100.86608 28.02281\n",
      "119.39556 30.56096\n",
      "113.08978 33.78371\n",
      "110.82854 28.52876\n",
      "118.29257 35.49235\n",
      "92.2305 45.58903\n",
      "114.91794 40.70893\n",
      "106.95232 30.93364\n",
      "113.74518 28.3137\n",
      "115.41071 41.88678\n",
      "117.48106 38.90612\n",
      "104.0487 34.01309\n",
      "105.0871 33.31195\n",
      "101.05509 24.33802\n",
      "102.20061 33.98128\n",
      "102.51812 29.40312\n",
      "114.17004 33.07895\n",
      "105.0871 35.18193\n",
      "116.57029 41.23344\n",
      "107.60095 32.2448\n",
      "111.49125 31.14011\n",
      "92.03151 40.01062\n",
      "99.99899 32.94882\n",
      "105.23053 37.30476\n",
      "117.05397 30.31219\n",
      "111.57568 33.60079\n",
      "106.96556 28.03519\n",
      "110.05816 31.52829\n",
      "104.57995 30.50548\n",
      "114.2875 45.13418\n",
      "98.34446 36.37829\n",
      "105.92906 25.40474\n",
      "113.1001 37.47724\n",
      "109.55424 35.05873\n",
      "122.11046 36.46123\n",
      "97.40704 21.55185\n",
      "106.84396 47.21955\n",
      "113.80377 31.90407\n",
      "93.45034 46.59303\n",
      "100.62454 22.38605\n",
      "140.51441 212.36533\n",
      "91.11878 167.92276\n",
      "63.62755 85.8874\n",
      "91.05931 44.33905\n",
      "102.10925 61.4848\n",
      "74.51039 51.441\n",
      "100.56738 43.95119\n",
      "63.68908 83.68547\n",
      "89.45091 44.3708\n",
      "102.42623 30.87719\n",
      "74.9353 100.54998\n",
      "110.60048 47.29146\n",
      "112.15822 39.51895\n",
      "89.49748 29.59889\n",
      "93.66945 47.88264\n",
      "114.51477 28.1108\n",
      "101.89438 39.12868\n",
      "97.31203 26.83838\n",
      "99.13609 31.97372\n",
      "122.45938 66.07643\n",
      "113.09862 32.3396\n",
      "94.88484 34.97218\n",
      "103.06211 47.38372\n",
      "110.7157 30.30411\n",
      "112.54317 34.12302\n",
      "97.61215 21.96315\n",
      "104.24234 34.15231\n",
      "120.34242 32.58008\n",
      "117.37461 31.07615\n",
      "101.07488 29.44785\n",
      "103.27616 43.46207\n",
      "112.67563 33.73354\n",
      "75.51577 60.4837\n",
      "98.87011 33.86908\n",
      "79.07991 62.96057\n",
      "106.65895 32.90048\n",
      "105.83855 25.72128\n",
      "93.44053 42.64175\n",
      "98.05593 45.60112\n",
      "71.83174 63.24856\n",
      "85.24063 41.27623\n",
      "119.36205 35.59054\n",
      "114.83596 50.68281\n",
      "104.30627 37.02526\n",
      "96.81149 25.34321\n",
      "87.13667 40.69288\n",
      "74.22914 91.0513\n",
      "100.1597 40.03892\n",
      "105.12516 36.95492\n",
      "103.5107 29.02168\n",
      "110.61253 50.36492\n",
      "108.36035 38.87044\n",
      "103.64506 52.71479\n",
      "144.82506 182.69874\n",
      "110.61479 135.20058\n",
      "92.59841 37.80364\n",
      "78.29942 51.63187\n",
      "73.28573 60.43189\n",
      "109.52685 32.16019\n",
      "108.0307 55.27531\n",
      "100.83716 44.35585\n",
      "50.81468 109.95432\n",
      "77.15546 106.5124\n",
      "64.08561 91.60392\n",
      "95.92253 34.06645\n",
      "106.8073 36.27014\n",
      "96.62711 46.78776\n",
      "74.75604 139.02016\n",
      "80.30856 64.34024\n",
      "80.15484 46.96191\n",
      "100.86608 28.02281\n",
      "119.39556 30.56096\n",
      "113.08978 33.78371\n",
      "110.82854 28.52876\n",
      "118.29257 35.49235\n",
      "92.2305 45.58903\n",
      "114.91794 40.70893\n",
      "106.95232 30.93364\n",
      "113.74518 28.3137\n",
      "115.41071 41.88678\n",
      "117.48106 38.90612\n",
      "104.0487 34.01309\n",
      "105.0871 33.31195\n",
      "101.05509 24.33802\n",
      "102.20061 33.98128\n",
      "102.51812 29.40312\n",
      "114.17004 33.07895\n",
      "105.0871 35.18193\n",
      "116.57029 41.23344\n",
      "107.60095 32.2448\n",
      "111.49125 31.14011\n",
      "92.03151 40.01062\n",
      "99.99899 32.94882\n",
      "105.23053 37.30476\n",
      "117.05397 30.31219\n",
      "111.57568 33.60079\n",
      "106.96556 28.03519\n",
      "110.05816 31.52829\n",
      "104.57995 30.50548\n",
      "114.2875 45.13418\n",
      "98.34446 36.37829\n",
      "105.92906 25.40474\n",
      "113.1001 37.47724\n",
      "109.55424 35.05873\n",
      "122.11046 36.46123\n",
      "97.40704 21.55185\n",
      "106.84396 47.21955\n",
      "113.80377 31.90407\n",
      "93.45034 46.59303\n",
      "100.62454 22.38605\n",
      "True\n"
     ]
    }
   ],
   "source": [
    "counter = 0\n",
    "\n",
    "while(1):\n",
    "    \n",
    "    counter +=1\n",
    "    #print(counter)\n",
    "    \n",
    "    if counter>1:\n",
    "        cluster_centroid = new_centroids.copy()\n",
    "    \n",
    "    for x in X[:]:\n",
    "        \n",
    "        x = x.reshape(1,44)\n",
    "        \n",
    "        distance_1 = np.round(distance(x,centroid(c1)),5)\n",
    "        distance_2 = np.round(distance(x,centroid(c2)),5)\n",
    "\n",
    "        \n",
    "        print(distance_1,distance_2)\n",
    "        \n",
    "        for i in range(c1.shape[0]):\n",
    "            if ((c1[i] == x).all()):\n",
    "                c1 = np.delete(c1,i,0)\n",
    "                break\n",
    "            else:\n",
    "                pass\n",
    "        \n",
    "        for i in range(c2.shape[0]):\n",
    "            if ((c2[i] == x).all()):\n",
    "                c2 = np.delete(c2,i,0)\n",
    "                break\n",
    "            else:\n",
    "                pass\n",
    "                \n",
    "        \n",
    "        flag = 0\n",
    "        \n",
    "        if flag == 0:\n",
    "            if distance_1 <= distance_2:\n",
    "                c1 = np.vstack((c1,x))\n",
    "                flag = 1\n",
    "\n",
    "        if flag == 0: \n",
    "            if distance_2 <= distance_1:\n",
    "                c2 = np.vstack((c2,x))\n",
    "                flag = 1\n",
    "        \n",
    "    \n",
    "    \n",
    "    new_centroids = np.array([centroid(c1),centroid(c2)])\n",
    "    new_centroids = np.round(new_centroids,5)\n",
    "    \n",
    "    \n",
    "    if counter>1:\n",
    "        if((new_centroids == cluster_centroid).all()):\n",
    "            print(True)\n",
    "            break\n",
    "    "
   ]
  },
  {
   "cell_type": "code",
   "execution_count": 437,
   "metadata": {},
   "outputs": [],
   "source": [
    "# final clusters"
   ]
  },
  {
   "cell_type": "code",
   "execution_count": 438,
   "metadata": {},
   "outputs": [
    {
     "data": {
      "text/plain": [
       "(12, 44)"
      ]
     },
     "execution_count": 438,
     "metadata": {},
     "output_type": "execute_result"
    }
   ],
   "source": [
    "c1.shape"
   ]
  },
  {
   "cell_type": "code",
   "execution_count": 439,
   "metadata": {},
   "outputs": [
    {
     "data": {
      "text/plain": [
       "(98, 44)"
      ]
     },
     "execution_count": 439,
     "metadata": {},
     "output_type": "execute_result"
    }
   ],
   "source": [
    "c2.shape"
   ]
  },
  {
   "cell_type": "code",
   "execution_count": null,
   "metadata": {},
   "outputs": [],
   "source": []
  },
  {
   "cell_type": "code",
   "execution_count": 440,
   "metadata": {},
   "outputs": [],
   "source": [
    "# calculating each cluster's individual accuracy"
   ]
  },
  {
   "cell_type": "code",
   "execution_count": 441,
   "metadata": {},
   "outputs": [],
   "source": [
    "true_positive = 0\n",
    "false_positive = 0\n",
    "for i in range(X.shape[0]):\n",
    "    if list(X[i]) in c1.tolist():\n",
    "        if y[i] == 'Yes':\n",
    "            true_positive+=1\n",
    "        else:\n",
    "            false_positive+=1"
   ]
  },
  {
   "cell_type": "code",
   "execution_count": 442,
   "metadata": {},
   "outputs": [],
   "source": [
    "true_negative = 0\n",
    "false_negative = 0\n",
    "for i in range(X.shape[0]):\n",
    "    if list(X[i]) in c2.tolist():\n",
    "        if y[i] == 'Yes':\n",
    "            false_negative+=1\n",
    "        else:\n",
    "            true_negative+=1"
   ]
  },
  {
   "cell_type": "code",
   "execution_count": 443,
   "metadata": {},
   "outputs": [
    {
     "data": {
      "text/plain": [
       "12"
      ]
     },
     "execution_count": 443,
     "metadata": {},
     "output_type": "execute_result"
    }
   ],
   "source": [
    "true_positive"
   ]
  },
  {
   "cell_type": "code",
   "execution_count": 444,
   "metadata": {},
   "outputs": [
    {
     "data": {
      "text/plain": [
       "0"
      ]
     },
     "execution_count": 444,
     "metadata": {},
     "output_type": "execute_result"
    }
   ],
   "source": [
    "false_positive"
   ]
  },
  {
   "cell_type": "code",
   "execution_count": 445,
   "metadata": {},
   "outputs": [
    {
     "data": {
      "text/plain": [
       "55"
      ]
     },
     "execution_count": 445,
     "metadata": {},
     "output_type": "execute_result"
    }
   ],
   "source": [
    "true_negative"
   ]
  },
  {
   "cell_type": "code",
   "execution_count": 446,
   "metadata": {},
   "outputs": [
    {
     "data": {
      "text/plain": [
       "43"
      ]
     },
     "execution_count": 446,
     "metadata": {},
     "output_type": "execute_result"
    }
   ],
   "source": [
    "false_negative"
   ]
  },
  {
   "cell_type": "code",
   "execution_count": 447,
   "metadata": {},
   "outputs": [],
   "source": [
    "accuracy = 100*(true_positive+true_negative)/(true_positive+true_negative+false_positive+false_negative)"
   ]
  },
  {
   "cell_type": "code",
   "execution_count": 448,
   "metadata": {},
   "outputs": [
    {
     "data": {
      "text/plain": [
       "60.90909090909091"
      ]
     },
     "execution_count": 448,
     "metadata": {},
     "output_type": "execute_result"
    }
   ],
   "source": [
    "accuracy"
   ]
  },
  {
   "cell_type": "raw",
   "metadata": {},
   "source": []
  },
  {
   "cell_type": "code",
   "execution_count": null,
   "metadata": {},
   "outputs": [],
   "source": []
  },
  {
   "cell_type": "code",
   "execution_count": 179,
   "metadata": {},
   "outputs": [],
   "source": [
    "# The distribution of clusters in the compted data"
   ]
  },
  {
   "cell_type": "code",
   "execution_count": 180,
   "metadata": {},
   "outputs": [
    {
     "name": "stdout",
     "output_type": "stream",
     "text": [
      "['Yes' 'Yes' 'Yes' 'Yes' 'Yes' 'Yes' 'Yes' 'Yes' 'Yes' 'Yes' 'Yes' 'Yes'\n",
      " 'Yes' 'Yes' 'Yes' 'No' 'No' 'No' 'No' 'No' 'No' 'No' 'No' 'No' 'No' 'No'\n",
      " 'No' 'No' 'No' 'No' 'Yes' 'Yes' 'Yes' 'Yes' 'Yes' 'Yes' 'Yes' 'Yes' 'Yes'\n",
      " 'Yes' 'Yes' 'Yes' 'Yes' 'Yes' 'Yes' 'Yes' 'Yes' 'Yes' 'Yes' 'Yes' 'Yes'\n",
      " 'Yes' 'Yes' 'Yes' 'Yes' 'Yes' 'Yes' 'Yes' 'Yes' 'Yes' 'Yes' 'Yes' 'Yes'\n",
      " 'Yes' 'Yes' 'Yes' 'Yes' 'Yes' 'Yes' 'Yes' 'No' 'No' 'No' 'No' 'No' 'No'\n",
      " 'No' 'No' 'No' 'No' 'No' 'No' 'No' 'No' 'No' 'No' 'No' 'No' 'No' 'No'\n",
      " 'No' 'No' 'No' 'No' 'No' 'No' 'No' 'No' 'No' 'No' 'No' 'No' 'No' 'No'\n",
      " 'No' 'No' 'No' 'No' 'No' 'No']\n"
     ]
    }
   ],
   "source": [
    "print(y)"
   ]
  },
  {
   "cell_type": "code",
   "execution_count": null,
   "metadata": {},
   "outputs": [],
   "source": []
  },
  {
   "cell_type": "code",
   "execution_count": 161,
   "metadata": {},
   "outputs": [],
   "source": [
    "# Calculation of final accuracy in percentage"
   ]
  },
  {
   "cell_type": "code",
   "execution_count": null,
   "metadata": {},
   "outputs": [],
   "source": []
  },
  {
   "cell_type": "code",
   "execution_count": null,
   "metadata": {},
   "outputs": [],
   "source": []
  },
  {
   "cell_type": "code",
   "execution_count": null,
   "metadata": {},
   "outputs": [],
   "source": []
  }
 ],
 "metadata": {
  "kernelspec": {
   "display_name": "Python 3",
   "language": "python",
   "name": "python3"
  },
  "language_info": {
   "codemirror_mode": {
    "name": "ipython",
    "version": 3
   },
   "file_extension": ".py",
   "mimetype": "text/x-python",
   "name": "python",
   "nbconvert_exporter": "python",
   "pygments_lexer": "ipython3",
   "version": "3.8.5"
  }
 },
 "nbformat": 4,
 "nbformat_minor": 2
}
