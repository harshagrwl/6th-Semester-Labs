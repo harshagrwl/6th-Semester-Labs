{
 "cells": [
  {
   "cell_type": "code",
   "execution_count": 1,
   "metadata": {},
   "outputs": [],
   "source": [
    "import numpy as np\n",
    "import pandas as pd\n",
    "import seaborn as sn\n",
    "import matplotlib.pyplot as plt\n",
    "import statistics as stat"
   ]
  },
  {
   "cell_type": "code",
   "execution_count": 2,
   "metadata": {
    "scrolled": false
   },
   "outputs": [
    {
     "name": "stdout",
     "output_type": "stream",
     "text": [
      "No     55\n",
      "Yes    55\n",
      "Name: Class, dtype: int64\n"
     ]
    }
   ],
   "source": [
    "spect_data = pd.read_csv(\"SPECTF_test.csv\")\n",
    "actual_class = spect_data[\"Class\"]\n",
    "print(actual_class.value_counts())\n",
    "data=spect_data.drop(columns=[\"Class\"]).to_numpy()"
   ]
  },
  {
   "cell_type": "code",
   "execution_count": 3,
   "metadata": {},
   "outputs": [],
   "source": [
    "def EuclideanDistance(point1,point2):\n",
    "    dist=sum((point1-point2)**2)**0.5\n",
    "    return dist\n",
    "\n",
    "def KMeans(data,k):\n",
    "    centroids={}\n",
    "    for i in range(k):\n",
    "        centroids[i]=data[(i*10)+5]\n",
    "    pred_class={}\n",
    "    \n",
    "    while True:\n",
    "        pred_class={}\n",
    "        for i in range(k):\n",
    "            pred_class[i]=[]\n",
    "\n",
    "        for point in data: \n",
    "            distances=[]\n",
    "            for centroid in centroids:\n",
    "                dist=EuclideanDistance(point,centroids[centroid])\n",
    "                distances.append(dist)\n",
    "\n",
    "            minDist=min(distances)\n",
    "            minDistIdx=distances.index(minDist)\n",
    "            pred_class[minDistIdx].append(point)\n",
    "\n",
    "        oldCentroid=dict(centroids)\n",
    "        for i in pred_class:\n",
    "            classData=pred_class[i]\n",
    "            newCent=np.mean(classData,axis=0)\n",
    "            centroids[i]=newCent\n",
    "\n",
    "        flag=True\n",
    "        for centroid in oldCentroid:\n",
    "            oldCent=oldCentroid[centroid]\n",
    "            currCent=centroids[centroid]\n",
    "            if np.sum((currCent-oldCent)/oldCent*100)>0.001:\n",
    "                flag=False\n",
    "        if flag:\n",
    "            break\n",
    "\n",
    "    return centroids,pred_class"
   ]
  },
  {
   "cell_type": "code",
   "execution_count": 4,
   "metadata": {
    "scrolled": false
   },
   "outputs": [
    {
     "name": "stdout",
     "output_type": "stream",
     "text": [
      "24\n",
      "86\n"
     ]
    }
   ],
   "source": [
    "centroids,pred_class=KMeans(data,2)\n",
    "\n",
    "# Cluster Sizes obtained\n",
    "print(len(pred_class[0]))\n",
    "print(len(pred_class[1]))"
   ]
  },
  {
   "cell_type": "code",
   "execution_count": 5,
   "metadata": {},
   "outputs": [
    {
     "name": "stdout",
     "output_type": "stream",
     "text": [
      "{0: array([69.375     , 67.54166667, 69.20833333, 67.29166667, 65.54166667,\n",
      "       62.375     , 71.45833333, 69.45833333, 59.625     , 59.66666667,\n",
      "       68.66666667, 68.79166667, 63.        , 63.08333333, 55.91666667,\n",
      "       50.25      , 65.625     , 63.66666667, 60.66666667, 57.        ,\n",
      "       74.        , 69.75      , 61.83333333, 58.625     , 44.375     ,\n",
      "       41.75      , 57.45833333, 56.08333333, 58.83333333, 54.125     ,\n",
      "       69.04166667, 65.75      , 60.        , 57.41666667, 62.04166667,\n",
      "       59.54166667, 63.375     , 61.33333333, 61.33333333, 58.83333333,\n",
      "       51.16666667, 45.91666667, 39.83333333, 35.75      ]), 1: array([66.90697674, 66.6627907 , 69.56976744, 71.05813953, 67.63953488,\n",
      "       68.55813953, 71.29069767, 71.70930233, 65.09302326, 64.59302326,\n",
      "       70.47674419, 71.22093023, 69.38372093, 70.65116279, 66.5       ,\n",
      "       65.20930233, 69.19767442, 68.40697674, 68.19767442, 66.46511628,\n",
      "       74.3372093 , 73.84883721, 70.19767442, 70.76744186, 64.6744186 ,\n",
      "       64.20930233, 64.3372093 , 63.24418605, 65.81395349, 65.97674419,\n",
      "       72.41860465, 73.98837209, 62.75581395, 63.81395349, 66.3372093 ,\n",
      "       66.31395349, 66.38372093, 65.90697674, 71.04651163, 69.96511628,\n",
      "       70.27906977, 69.5       , 60.02325581, 59.3372093 ])}\n"
     ]
    }
   ],
   "source": [
    "print(centroids)"
   ]
  },
  {
   "cell_type": "code",
   "execution_count": null,
   "metadata": {},
   "outputs": [],
   "source": []
  },
  {
   "cell_type": "code",
   "execution_count": 6,
   "metadata": {},
   "outputs": [],
   "source": [
    "\n",
    "c1 = np.array(pred_class[0])\n",
    "c1 = c1.reshape(len(pred_class[0]),44)\n",
    "c2 = np.array(pred_class[1])\n",
    "c2 = c2.reshape(len(pred_class[1]),44)"
   ]
  },
  {
   "cell_type": "code",
   "execution_count": null,
   "metadata": {},
   "outputs": [],
   "source": []
  },
  {
   "cell_type": "code",
   "execution_count": 7,
   "metadata": {},
   "outputs": [
    {
     "data": {
      "text/plain": [
       "(86, 44)"
      ]
     },
     "execution_count": 7,
     "metadata": {},
     "output_type": "execute_result"
    }
   ],
   "source": [
    "c1.shape\n",
    "c2.shape"
   ]
  },
  {
   "cell_type": "code",
   "execution_count": 8,
   "metadata": {},
   "outputs": [
    {
     "data": {
      "text/plain": [
       "(110, 44)"
      ]
     },
     "execution_count": 8,
     "metadata": {},
     "output_type": "execute_result"
    }
   ],
   "source": [
    "data.shape"
   ]
  },
  {
   "cell_type": "code",
   "execution_count": 9,
   "metadata": {},
   "outputs": [],
   "source": [
    "true_positive = 0\n",
    "false_positive = 0\n",
    "true_negative = 0\n",
    "false_negative = 0\n",
    "guessed_data = [None]*110\n",
    "for i in range(data.shape[0]):\n",
    "    if list(data[i]) in c1.tolist():\n",
    "        guessed_data[i] = 'Yes'\n",
    "        if actual_class[i] == 'Yes':\n",
    "            true_positive+=1\n",
    "        else:\n",
    "            false_positive+=1\n",
    "    if list(data[i]) in c2.tolist():\n",
    "        guessed_data[i] = 'No'\n",
    "        if actual_class[i] == 'Yes':\n",
    "            false_negative+=1\n",
    "        else:\n",
    "            true_negative+=1"
   ]
  },
  {
   "cell_type": "code",
   "execution_count": 10,
   "metadata": {},
   "outputs": [
    {
     "name": "stdout",
     "output_type": "stream",
     "text": [
      "['Yes', 'Yes', 'Yes', 'No', 'Yes', 'Yes', 'No', 'Yes', 'Yes', 'No', 'Yes', 'No', 'No', 'No', 'No', 'No', 'No', 'No', 'No', 'No', 'No', 'No', 'No', 'No', 'No', 'No', 'No', 'No', 'No', 'No', 'No', 'No', 'Yes', 'No', 'Yes', 'No', 'No', 'No', 'No', 'Yes', 'No', 'No', 'No', 'No', 'No', 'No', 'Yes', 'No', 'No', 'No', 'No', 'No', 'No', 'Yes', 'Yes', 'No', 'Yes', 'Yes', 'No', 'No', 'No', 'Yes', 'Yes', 'Yes', 'No', 'No', 'No', 'Yes', 'Yes', 'Yes', 'No', 'No', 'No', 'No', 'No', 'Yes', 'No', 'No', 'No', 'No', 'No', 'No', 'No', 'No', 'No', 'No', 'No', 'No', 'No', 'No', 'No', 'Yes', 'No', 'No', 'No', 'No', 'No', 'No', 'No', 'No', 'No', 'No', 'No', 'No', 'No', 'No', 'No', 'No', 'No', 'No']\n"
     ]
    }
   ],
   "source": [
    "print(guessed_data)"
   ]
  },
  {
   "cell_type": "code",
   "execution_count": 11,
   "metadata": {},
   "outputs": [],
   "source": [
    "actual_data = list(actual_class)"
   ]
  },
  {
   "cell_type": "code",
   "execution_count": 12,
   "metadata": {},
   "outputs": [
    {
     "data": {
      "image/png": "[encoded data removed]",
      "text/plain": [
       "<Figure size 720x504 with 2 Axes>"
      ]
     },
     "metadata": {
      "needs_background": "light"
     },
     "output_type": "display_data"
    }
   ],
   "source": [
    "y_actu = pd.Series(actual_data, name='Actual')\n",
    "y_pred = pd.Series(guessed_data, name='Predicted')\n",
    "df_confusion = pd.crosstab(y_actu, y_pred)\n",
    "plt.figure(figsize = (10,7))\n",
    "plt.title('Confusion Matrix', fontsize = 20)\n",
    "sn.heatmap(df_confusion, annot=True)\n",
    "plt.show()"
   ]
  },
  {
   "cell_type": "code",
   "execution_count": 13,
   "metadata": {},
   "outputs": [
    {
     "name": "stdout",
     "output_type": "stream",
     "text": [
      "['Yes', 'Yes', 'Yes', 'Yes', 'Yes', 'Yes', 'Yes', 'Yes', 'Yes', 'Yes', 'Yes', 'Yes', 'Yes', 'Yes', 'Yes', 'No', 'No', 'No', 'No', 'No', 'No', 'No', 'No', 'No', 'No', 'No', 'No', 'No', 'No', 'No', 'Yes', 'Yes', 'Yes', 'Yes', 'Yes', 'Yes', 'Yes', 'Yes', 'Yes', 'Yes', 'Yes', 'Yes', 'Yes', 'Yes', 'Yes', 'Yes', 'Yes', 'Yes', 'Yes', 'Yes', 'Yes', 'Yes', 'Yes', 'Yes', 'Yes', 'Yes', 'Yes', 'Yes', 'Yes', 'Yes', 'Yes', 'Yes', 'Yes', 'Yes', 'Yes', 'Yes', 'Yes', 'Yes', 'Yes', 'Yes', 'No', 'No', 'No', 'No', 'No', 'No', 'No', 'No', 'No', 'No', 'No', 'No', 'No', 'No', 'No', 'No', 'No', 'No', 'No', 'No', 'No', 'No', 'No', 'No', 'No', 'No', 'No', 'No', 'No', 'No', 'No', 'No', 'No', 'No', 'No', 'No', 'No', 'No', 'No', 'No']\n"
     ]
    }
   ],
   "source": [
    "print(actual_data)"
   ]
  },
  {
   "cell_type": "code",
   "execution_count": 14,
   "metadata": {},
   "outputs": [
    {
     "name": "stdout",
     "output_type": "stream",
     "text": [
      "['Yes', 'Yes', 'Yes', 'No', 'Yes', 'Yes', 'No', 'Yes', 'Yes', 'No', 'Yes', 'No', 'No', 'No', 'No', 'No', 'No', 'No', 'No', 'No', 'No', 'No', 'No', 'No', 'No', 'No', 'No', 'No', 'No', 'No', 'No', 'No', 'Yes', 'No', 'Yes', 'No', 'No', 'No', 'No', 'Yes', 'No', 'No', 'No', 'No', 'No', 'No', 'Yes', 'No', 'No', 'No', 'No', 'No', 'No', 'Yes', 'Yes', 'No', 'Yes', 'Yes', 'No', 'No', 'No', 'Yes', 'Yes', 'Yes', 'No', 'No', 'No', 'Yes', 'Yes', 'Yes', 'No', 'No', 'No', 'No', 'No', 'Yes', 'No', 'No', 'No', 'No', 'No', 'No', 'No', 'No', 'No', 'No', 'No', 'No', 'No', 'No', 'No', 'Yes', 'No', 'No', 'No', 'No', 'No', 'No', 'No', 'No', 'No', 'No', 'No', 'No', 'No', 'No', 'No', 'No', 'No', 'No']\n"
     ]
    }
   ],
   "source": [
    "print(guessed_data)"
   ]
  },
  {
   "cell_type": "code",
   "execution_count": 15,
   "metadata": {},
   "outputs": [
    {
     "name": "stdout",
     "output_type": "stream",
     "text": [
      "True Positives: 22\n",
      "True Negatives: 53\n",
      "False Positives: 2\n",
      "False Negatives: 33\n"
     ]
    }
   ],
   "source": [
    "print(\"True Positives:\", true_positive)\n",
    "print(\"True Negatives:\", true_negative)\n",
    "print(\"False Positives:\", false_positive)\n",
    "print(\"False Negatives:\", false_negative)"
   ]
  },
  {
   "cell_type": "code",
   "execution_count": 16,
   "metadata": {},
   "outputs": [],
   "source": [
    "# Calculation of metrics\n",
    "accuracy = 100*(true_positive+true_negative)/(true_positive+true_negative+false_positive+false_negative)\n",
    "precision = true_positive/(false_positive + true_positive)\n",
    "recall = true_positive/(false_negative + true_positive)\n",
    "f1score = 2*precision*recall/(precision+recall)"
   ]
  },
  {
   "cell_type": "code",
   "execution_count": 17,
   "metadata": {},
   "outputs": [
    {
     "name": "stdout",
     "output_type": "stream",
     "text": [
      "Accuracy : 68.18181818181819 %\n",
      "Precision : 91.66666666666666 %\n",
      "Recall : 40.0 %\n",
      "f1score : 0.5569620253164558\n"
     ]
    }
   ],
   "source": [
    "# Printing the final results\n",
    "print(\"Accuracy :\", accuracy, \"%\")\n",
    "print(\"Precision :\", precision*100, \"%\")\n",
    "print(\"Recall :\", recall*100, \"%\")\n",
    "print(\"f1score :\", f1score)"
   ]
  },
  {
   "cell_type": "code",
   "execution_count": null,
   "metadata": {},
   "outputs": [],
   "source": []
  }
 ],
 "metadata": {
  "kernelspec": {
   "display_name": "Python 3",
   "language": "python",
   "name": "python3"
  },
  "language_info": {
   "codemirror_mode": {
    "name": "ipython",
    "version": 3
   },
   "file_extension": ".py",
   "mimetype": "text/x-python",
   "name": "python",
   "nbconvert_exporter": "python",
   "pygments_lexer": "ipython3",
   "version": "3.8.5"
  }
 },
 "nbformat": 4,
 "nbformat_minor": 5
}
