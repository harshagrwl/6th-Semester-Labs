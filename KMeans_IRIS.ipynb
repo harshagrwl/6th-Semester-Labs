{
 "cells": [
  {
   "cell_type": "code",
   "execution_count": 56,
   "metadata": {},
   "outputs": [],
   "source": [
    "import numpy as np\n",
    "import pandas as pd\n",
    "import seaborn as sn\n",
    "import matplotlib.pyplot as plt\n",
    "import statistics as stat"
   ]
  },
  {
   "cell_type": "code",
   "execution_count": 3,
   "metadata": {
    "scrolled": false
   },
   "outputs": [
    {
     "name": "stdout",
     "output_type": "stream",
     "text": [
      "Iris-setosa        50\n",
      "Iris-virginica     50\n",
      "Iris-versicolor    50\n",
      "Name: Species, dtype: int64\n"
     ]
    }
   ],
   "source": [
    "df = pd.read_csv(\"iris.data\", header=None)\n",
    "df.columns = ['sepal_length','sepal_width','petal_length','petal_width','Species']\n",
    "actual_class = df[\"Species\"]\n",
    "print(actual_class.value_counts())\n",
    "data=df.drop(columns=[\"Species\"]).to_numpy()"
   ]
  },
  {
   "cell_type": "code",
   "execution_count": 22,
   "metadata": {},
   "outputs": [],
   "source": [
    "def EuclideanDistance(point1,point2):\n",
    "    dist=sum((point1-point2)**2)**0.5\n",
    "    return dist\n",
    "\n",
    "def KMeans(data,k):\n",
    "    centroids={}\n",
    "    for i in range(k):\n",
    "        centroids[i]=data[(i*20)+5]\n",
    "    pred_class={}\n",
    "    \n",
    "    while True:\n",
    "        pred_class={}\n",
    "        for i in range(k):\n",
    "            pred_class[i]=[]\n",
    "\n",
    "        for point in data: \n",
    "            distances=[]\n",
    "            for centroid in centroids:\n",
    "                dist=EuclideanDistance(point,centroids[centroid])\n",
    "                distances.append(dist)\n",
    "\n",
    "            minDist=min(distances)\n",
    "            minDistIdx=distances.index(minDist)\n",
    "            pred_class[minDistIdx].append(point)\n",
    "\n",
    "        oldCentroid=dict(centroids)\n",
    "        for i in pred_class:\n",
    "            classData=pred_class[i]\n",
    "            newCent=np.mean(classData,axis=0)\n",
    "            centroids[i]=newCent\n",
    "\n",
    "        flag=True\n",
    "        for centroid in oldCentroid:\n",
    "            oldCent=oldCentroid[centroid]\n",
    "            currCent=centroids[centroid]\n",
    "            if np.sum((currCent-oldCent)/oldCent*100)>0.001:\n",
    "                flag=False\n",
    "        if flag:\n",
    "            break\n",
    "\n",
    "    return centroids,pred_class"
   ]
  },
  {
   "cell_type": "code",
   "execution_count": 23,
   "metadata": {
    "scrolled": false
   },
   "outputs": [
    {
     "name": "stdout",
     "output_type": "stream",
     "text": [
      "39\n",
      "61\n",
      "50\n"
     ]
    }
   ],
   "source": [
    "centroids,pred_class=KMeans(data,3)\n",
    "print(len(pred_class[0]))\n",
    "print(len(pred_class[1]))\n",
    "print(len(pred_class[2]))"
   ]
  },
  {
   "cell_type": "code",
   "execution_count": null,
   "metadata": {},
   "outputs": [],
   "source": []
  },
  {
   "cell_type": "code",
   "execution_count": null,
   "metadata": {},
   "outputs": [],
   "source": []
  },
  {
   "cell_type": "code",
   "execution_count": 24,
   "metadata": {},
   "outputs": [],
   "source": [
    "\n",
    "c1 = np.array(pred_class[0])\n",
    "c1 = c1.reshape(len(pred_class[0]),4)\n",
    "c2 = np.array(pred_class[1])\n",
    "c2 = c2.reshape(len(pred_class[1]),4)\n",
    "c3 = np.array(pred_class[2])\n",
    "c3 = c3.reshape(len(pred_class[2]),4)"
   ]
  },
  {
   "cell_type": "code",
   "execution_count": null,
   "metadata": {},
   "outputs": [],
   "source": []
  },
  {
   "cell_type": "code",
   "execution_count": null,
   "metadata": {},
   "outputs": [],
   "source": []
  },
  {
   "cell_type": "code",
   "execution_count": 25,
   "metadata": {},
   "outputs": [
    {
     "data": {
      "text/plain": [
       "(150, 4)"
      ]
     },
     "execution_count": 25,
     "metadata": {},
     "output_type": "execute_result"
    }
   ],
   "source": [
    "data.shape"
   ]
  },
  {
   "cell_type": "code",
   "execution_count": 42,
   "metadata": {},
   "outputs": [],
   "source": [
    "miss_1 = 0\n",
    "miss_2 = 0\n",
    "miss_3 = 0\n",
    "guessed_data = [None]*150\n",
    "for i in range(data.shape[0]):\n",
    "    if list(data[i]) in c1.tolist():\n",
    "        guessed_data[i] = 'Iris-virginica'\n",
    "        if actual_class[i] != 'Iris-virginica':\n",
    "            miss_1+=1\n",
    "    if list(data[i]) in c2.tolist():\n",
    "        guessed_data[i] = 'Iris-versicolor'\n",
    "        if actual_class[i] != 'Iris-versicolor':\n",
    "            miss_2+=1\n",
    "    if list(data[i]) in c3.tolist():\n",
    "        guessed_data[i] = 'Iris-setosa'\n",
    "        if actual_class[i] != 'Iris-setosa':\n",
    "            miss_3+=1"
   ]
  },
  {
   "cell_type": "code",
   "execution_count": 50,
   "metadata": {},
   "outputs": [],
   "source": [
    "actual_data = list(actual_class)"
   ]
  },
  {
   "cell_type": "code",
   "execution_count": null,
   "metadata": {},
   "outputs": [],
   "source": []
  },
  {
   "cell_type": "code",
   "execution_count": 57,
   "metadata": {},
   "outputs": [
    {
     "data": {
      "image/png": "[encoded data removed]",
      "text/plain": [
       "<Figure size 720x504 with 2 Axes>"
      ]
     },
     "metadata": {
      "needs_background": "light"
     },
     "output_type": "display_data"
    }
   ],
   "source": [
    "y_actu = pd.Series(actual_data, name='Actual')\n",
    "y_pred = pd.Series(guessed_data, name='Predicted')\n",
    "df_confusion = pd.crosstab(y_actu, y_pred)\n",
    "plt.figure(figsize = (10,7))\n",
    "plt.title('Confusion Matrix', fontsize = 20)\n",
    "sn.heatmap(df_confusion, annot=True)\n",
    "plt.show()"
   ]
  },
  {
   "cell_type": "code",
   "execution_count": 60,
   "metadata": {},
   "outputs": [],
   "source": [
    "# Calculation of metrics"
   ]
  },
  {
   "cell_type": "code",
   "execution_count": 64,
   "metadata": {},
   "outputs": [],
   "source": [
    "s_tp = 50\n",
    "s_tn = 47+3+14+36\n",
    "s_fp = 0\n",
    "s_fn = 0\n",
    "vc_tp = 47\n",
    "vc_tn = 50+36\n",
    "vc_fp = 14\n",
    "vc_fn = 3\n",
    "v_tp = 36\n",
    "v_tn = 50+47\n",
    "v_fp = 3\n",
    "v_fn = 14"
   ]
  },
  {
   "cell_type": "raw",
   "metadata": {},
   "source": []
  },
  {
   "cell_type": "code",
   "execution_count": 70,
   "metadata": {},
   "outputs": [],
   "source": [
    "s_accuracy = 100*(s_tp+s_tn)/(150)\n",
    "s_precision = s_tp/(s_fp + s_tp)\n",
    "s_recall = s_tp/(s_fn + s_tp)\n",
    "s_f1score = 2*s_precision*s_recall/(s_precision+s_recall)\n",
    "\n",
    "vc_accuracy = 100*(vc_tp+vc_tn)/(150)\n",
    "vc_precision = vc_tp/(vc_fp + vc_tp)\n",
    "vc_recall = vc_tp/(vc_fn + vc_tp)\n",
    "vc_f1score = 2*vc_precision*vc_recall/(vc_precision+vc_recall)\n",
    "\n",
    "v_accuracy = 100*(v_tp+v_tn)/(150)\n",
    "v_precision = v_tp/(v_fp + v_tp)\n",
    "v_recall = v_tp/(v_fn + v_tp)\n",
    "v_f1score = 2*vc_precision*vc_recall/(vc_precision+vc_recall)"
   ]
  },
  {
   "cell_type": "code",
   "execution_count": 73,
   "metadata": {},
   "outputs": [
    {
     "name": "stdout",
     "output_type": "stream",
     "text": [
      "---------------------------\n",
      "Iris-setosa\n",
      "\n",
      "Accuracy : 100.0 %\n",
      "Precision : 100.0 %\n",
      "Recall : 100.0 %\n",
      "f1score : 1.0\n",
      "---------------------------\n",
      "\n",
      "Iris-versicolor\n",
      "\n",
      "Accuracy : 88.66666666666667 %\n",
      "Precision : 77.04918032786885 %\n",
      "Recall : 94.0 %\n",
      "f1score : 0.8468468468468469\n",
      "---------------------------\n",
      "\n",
      "Iris-virginica\n",
      "\n",
      "Accuracy : 88.66666666666667 %\n",
      "Precision : 92.3076923076923 %\n",
      "Recall : 72.0 %\n",
      "f1score : 0.8468468468468469\n",
      "---------------------------\n"
     ]
    }
   ],
   "source": [
    "# Printing the final results\n",
    "print(\"---------------------------\")\n",
    "print(\"Iris-setosa\")\n",
    "print()\n",
    "print(\"Accuracy :\", s_accuracy, \"%\")\n",
    "print(\"Precision :\", s_precision*100, \"%\")\n",
    "print(\"Recall :\", s_recall*100, \"%\")\n",
    "print(\"f1score :\", s_f1score)\n",
    "print(\"---------------------------\")\n",
    "print()\n",
    "print(\"Iris-versicolor\")\n",
    "print()\n",
    "print(\"Accuracy :\", vc_accuracy, \"%\")\n",
    "print(\"Precision :\", vc_precision*100, \"%\")\n",
    "print(\"Recall :\", vc_recall*100, \"%\")\n",
    "print(\"f1score :\", vc_f1score)\n",
    "print(\"---------------------------\")\n",
    "print()\n",
    "print(\"Iris-virginica\")\n",
    "print()\n",
    "print(\"Accuracy :\", v_accuracy, \"%\")\n",
    "print(\"Precision :\", v_precision*100, \"%\")\n",
    "print(\"Recall :\", v_recall*100, \"%\")\n",
    "print(\"f1score :\", v_f1score)\n",
    "print(\"---------------------------\")"
   ]
  },
  {
   "cell_type": "code",
   "execution_count": null,
   "metadata": {},
   "outputs": [],
   "source": []
  }
 ],
 "metadata": {
  "kernelspec": {
   "display_name": "Python 3",
   "language": "python",
   "name": "python3"
  },
  "language_info": {
   "codemirror_mode": {
    "name": "ipython",
    "version": 3
   },
   "file_extension": ".py",
   "mimetype": "text/x-python",
   "name": "python",
   "nbconvert_exporter": "python",
   "pygments_lexer": "ipython3",
   "version": "3.8.5"
  }
 },
 "nbformat": 4,
 "nbformat_minor": 5
}
